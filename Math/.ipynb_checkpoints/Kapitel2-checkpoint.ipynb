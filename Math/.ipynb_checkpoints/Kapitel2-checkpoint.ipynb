{
 "cells": [
  {
   "cell_type": "markdown",
   "id": "4aa81903-b19c-4583-9fa2-7c58e472e741",
   "metadata": {},
   "source": [
    "# Kapitel 2 "
   ]
  },
  {
   "cell_type": "markdown",
   "id": "6b1b9a81-ac1a-4bda-a6ce-67953d2f5cc5",
   "metadata": {},
   "source": [
    "**Exkurs**: Drei verschiedene Arten die Fakulatätsfunktion zu definieren (rekursiv und iterativ)"
   ]
  },
  {
   "cell_type": "code",
   "execution_count": 31,
   "id": "64142c18-00cc-4f4d-999e-f71d327c7c68",
   "metadata": {},
   "outputs": [],
   "source": [
    "def fac_rec(n): \n",
    "    if n == 1: \n",
    "        return 1\n",
    "    else: \n",
    "        return n * fac_rec(n-1) "
   ]
  },
  {
   "cell_type": "code",
   "execution_count": 37,
   "id": "366f6ecc-421d-46af-ab30-2a1c11c4a6e8",
   "metadata": {},
   "outputs": [
    {
     "data": {
      "text/plain": [
       "720"
      ]
     },
     "execution_count": 37,
     "metadata": {},
     "output_type": "execute_result"
    }
   ],
   "source": [
    "fac_rec(6)"
   ]
  },
  {
   "cell_type": "code",
   "execution_count": 33,
   "id": "51302e4e-81a3-472f-9bbc-b254c53a1406",
   "metadata": {},
   "outputs": [],
   "source": [
    "def fac_iter(n):\n",
    "    f = 1\n",
    "    while n > 0: \n",
    "        f = f * n \n",
    "        n = n - 1 \n",
    "    return f "
   ]
  },
  {
   "cell_type": "code",
   "execution_count": 34,
   "id": "2bfee154-ee5b-4c71-9c97-67af30d64377",
   "metadata": {},
   "outputs": [
    {
     "data": {
      "text/plain": [
       "720"
      ]
     },
     "execution_count": 34,
     "metadata": {},
     "output_type": "execute_result"
    }
   ],
   "source": [
    "fac_iter(6)"
   ]
  },
  {
   "cell_type": "code",
   "execution_count": 28,
   "id": "94878e85-292b-48c3-8ed6-4bf1a2341f64",
   "metadata": {},
   "outputs": [],
   "source": [
    "def fac_iter_v2(n):\n",
    "    f = 1 \n",
    "    for i in range(2,n+1):\n",
    "        f = f * i \n",
    "    return f\n",
    "        "
   ]
  },
  {
   "cell_type": "code",
   "execution_count": 36,
   "id": "9e166049-823a-4f88-8997-a41db28de5f0",
   "metadata": {},
   "outputs": [
    {
     "data": {
      "text/plain": [
       "720"
      ]
     },
     "execution_count": 36,
     "metadata": {},
     "output_type": "execute_result"
    }
   ],
   "source": [
    "fac_iter_v2(6)"
   ]
  },
  {
   "cell_type": "code",
   "execution_count": 38,
   "id": "dd9d0665-5b24-4669-9c17-769730beefdd",
   "metadata": {},
   "outputs": [
    {
     "data": {
      "text/plain": [
       "265252859812191058636308480000000"
      ]
     },
     "execution_count": 38,
     "metadata": {},
     "output_type": "execute_result"
    }
   ],
   "source": [
    "fac_iter(30)"
   ]
  },
  {
   "cell_type": "markdown",
   "id": "ad7b7da5-7294-4d6a-a6fe-e1b40dc520b0",
   "metadata": {},
   "source": [
    "**Bemerke**: Die Fakultät wächst rasant. Sie überholt sogar die Exponentialfunktion ab einer bestimmten Größe des Inputs "
   ]
  },
  {
   "cell_type": "markdown",
   "id": "198fb812-9ee9-4b06-af15-852780b0f5cb",
   "metadata": {},
   "source": [
    "## Dezimalsystem und Binärsystem "
   ]
  },
  {
   "cell_type": "markdown",
   "id": "61bcc605-9d9d-4d13-81b7-35efbd7618b6",
   "metadata": {},
   "source": [
    "Wir sind es gewohnt, Zahlen in einem Stellenwertsystem mit Basis 10 darzustellen "
   ]
  },
  {
   "cell_type": "markdown",
   "id": "b732de56-75d6-4dd4-b1da-0cc492a2c65f",
   "metadata": {},
   "source": [
    "Man nehme beispielsweise die Zahl: *5338*"
   ]
  },
  {
   "cell_type": "markdown",
   "id": "40c19a9e-fba2-4235-8ebc-cc12ce0dfb0e",
   "metadata": {},
   "source": [
    "Jedem ist klar, dass das erste Vorkomnis der Zahl 3 etwas anderes bedeutet als das zweite Vorkomnis (einmal repräsentiert die 3 die Zahl 30, das andere mal die Zahl 300) "
   ]
  },
  {
   "cell_type": "markdown",
   "id": "c0fbbf73-9ef2-4c38-b2a6-c42165dca4ea",
   "metadata": {},
   "source": [
    "Wir sprechen von einem **Dezimalzahlsystem**, da der Stellenwert einer Zahl immer diese Zahl mal die Basis 10 ist "
   ]
  },
  {
   "cell_type": "markdown",
   "id": "f4e8ec55-9696-41d2-a0f3-8627135c07ff",
   "metadata": {},
   "source": [
    "5338 **==** 5000+300+30+8 **==** 5\\*10³ + 3\\*10² + 3\\*10¹ + 8\\*10⁰"
   ]
  },
  {
   "cell_type": "markdown",
   "id": "ae9c4389-1355-4d4e-8854-99487f7d7a32",
   "metadata": {},
   "source": [
    "Aber natürlich kann man als Basis eines Stellenwertsystems noch andere Zahlen benutzen, in der Informatik hat es sich etabliert, die **Basis 2** (das sogenannte **Binärsystem**) zu benutzen "
   ]
  },
  {
   "cell_type": "markdown",
   "id": "a33955d3-41e6-41be-b35e-ba9a61fcad3c",
   "metadata": {},
   "source": [
    "Der Grund hierfür liegt schlicht darin, dass Zahlen im Coputer durch bits repräsentiert werden, die genau zwei \"Zustände\" kennen "
   ]
  },
  {
   "cell_type": "markdown",
   "id": "bc827383-469e-44bf-b153-1937aa6abaf0",
   "metadata": {},
   "source": [
    "Nehmen wir die uns im Dezimalsystem vertraute Zahl *42* "
   ]
  },
  {
   "cell_type": "markdown",
   "id": "35b87984-72e7-4a39-aab1-bb513ea58494",
   "metadata": {},
   "source": [
    "In einem Binärsystem wird diese Zahl folgendermaßen repräsentiert: *101010* "
   ]
  },
  {
   "cell_type": "markdown",
   "id": "055712d8-c052-493c-b84f-646e216b4fd0",
   "metadata": {},
   "source": [
    "Analog zum Fall zuvor lässt sich diese Zahl im Binärsystem zerlegen: Wir haben sechs Stellen, fangen aber an bei der 0 zu zählen, da das erste Bit (d.h. die hinterste 0) die Zahl 1 und nicht die Zahl 2 repräsentieren soll "
   ]
  },
  {
   "cell_type": "markdown",
   "id": "5261dcbf-5b27-4372-a490-7cc12d893f97",
   "metadata": {},
   "source": [
    "Somit haben wir: 1\\*2⁵+0\\*2⁴+1\\*2³+0\\*2²+1\\*2¹+0\\*2⁰"
   ]
  },
  {
   "cell_type": "markdown",
   "id": "db2e03d1-18ca-490f-9a87-daebe7f68237",
   "metadata": {},
   "source": [
    "**Aufgabe**: Lasst uns eine Funktion schreiben, die eine Zahl im Binärsystem als Input annimmt und die Zahl im Dezimalsystem zurückgibt!"
   ]
  },
  {
   "cell_type": "code",
   "execution_count": 16,
   "id": "13dec0c6-62a7-4d40-a1c7-c3f041037e92",
   "metadata": {},
   "outputs": [],
   "source": [
    "def bin_to_dec(num:str): \n",
    "    dec_num = 0 \n",
    "    for bit in num:\n",
    "        dec_num = dec_num*2 + int(bit) \n",
    "    return dec_num \n",
    "        "
   ]
  },
  {
   "cell_type": "code",
   "execution_count": 30,
   "id": "c3d2cd5a-fca2-49f9-aa96-90fc23aa67e1",
   "metadata": {},
   "outputs": [
    {
     "data": {
      "text/plain": [
       "27"
      ]
     },
     "execution_count": 30,
     "metadata": {},
     "output_type": "execute_result"
    }
   ],
   "source": [
    "bin_to_dec(\"11011\")"
   ]
  },
  {
   "cell_type": "markdown",
   "id": "01e8d8be-4a9a-4cf3-8c94-2198f8188963",
   "metadata": {},
   "source": [
    "**Aufgabe**: Lasst uns eine Funktion schreiben, die eine Zahl im Dezimalsystem als Input annimmt und die Zahl im Binärsystem zurückgibt! "
   ]
  },
  {
   "cell_type": "code",
   "execution_count": 61,
   "id": "88baa584-c066-4181-bb27-ac1faa49bb80",
   "metadata": {},
   "outputs": [],
   "source": [
    "def dec_to_bin(num:int): \n",
    "    bin_str = \"\" \n",
    "    if num == 0: \n",
    "        return \"0\" \n",
    "    while num//2 != 0: \n",
    "        bin_str += str(num%2) \n",
    "        num = num//2 \n",
    "    bin_str += \"1\" # Der letzte Divisionrest wird immer 1 sein (außer num = 0) \n",
    "    return bin_str[::-1]\n",
    "    "
   ]
  },
  {
   "cell_type": "code",
   "execution_count": 65,
   "id": "3c769226-112a-40b9-97bb-d76603d4a019",
   "metadata": {},
   "outputs": [
    {
     "data": {
      "text/plain": [
       "'0'"
      ]
     },
     "execution_count": 65,
     "metadata": {},
     "output_type": "execute_result"
    }
   ],
   "source": [
    "dec_to_bin(0)"
   ]
  },
  {
   "cell_type": "code",
   "execution_count": 67,
   "id": "33db72c3-e950-477a-851d-59ee0d51c843",
   "metadata": {},
   "outputs": [
    {
     "data": {
      "text/plain": [
       "'11'"
      ]
     },
     "execution_count": 67,
     "metadata": {},
     "output_type": "execute_result"
    }
   ],
   "source": [
    "dec_to_bin(3)"
   ]
  },
  {
   "cell_type": "code",
   "execution_count": 68,
   "id": "ca7e8fc1-50cc-45f6-8abc-72f46ddb50d2",
   "metadata": {},
   "outputs": [
    {
     "data": {
      "text/plain": [
       "'10011'"
      ]
     },
     "execution_count": 68,
     "metadata": {},
     "output_type": "execute_result"
    }
   ],
   "source": [
    "dec_to_bin(19)"
   ]
  },
  {
   "cell_type": "markdown",
   "id": "4ac4de89-9173-48da-851c-72bf2324631f",
   "metadata": {},
   "source": [
    "Klarerweise nicht die schönste Lösung, erstmal ausreichend (man könnte beispielsweise Bit-Shifting-Operatoren (wie >> oder << benutzen), auch die Darstellung der Binärzahl als String ist natürlich nicht praktisch "
   ]
  },
  {
   "cell_type": "markdown",
   "id": "4b10b8fe-d53b-4823-88e4-ec71cbe7f769",
   "metadata": {},
   "source": [
    "## Binärzahlen in Python "
   ]
  },
  {
   "cell_type": "markdown",
   "id": "484934ca-7fff-4be3-aa30-158daf7aac9d",
   "metadata": {},
   "source": [
    "Natürlich müssen wir keinesweigs so unschöne Funktionen wie die obigen benutzen, um mit Binärzahlen in Python zu hantieren "
   ]
  },
  {
   "cell_type": "markdown",
   "id": "9e071ad6-1ea8-4bd8-93bf-a414502408a1",
   "metadata": {},
   "source": [
    "Wir sagen Python, dass \"10\" im Binärsystem interpretiert werden soll, indem wir ein `0b` davorsetzen"
   ]
  },
  {
   "cell_type": "code",
   "execution_count": 3,
   "id": "45ef3064-087e-4333-bf9c-020a9397908e",
   "metadata": {},
   "outputs": [],
   "source": [
    "binaer_zwei = 0b10 "
   ]
  },
  {
   "cell_type": "code",
   "execution_count": 4,
   "id": "f8594dea-876d-473a-b661-f618fd4b40a6",
   "metadata": {},
   "outputs": [
    {
     "name": "stdout",
     "output_type": "stream",
     "text": [
      "2\n"
     ]
    }
   ],
   "source": [
    "print(binaer_zwei)"
   ]
  },
  {
   "cell_type": "markdown",
   "id": "50d10c16-4bf5-4c07-9df7-4557d9205039",
   "metadata": {},
   "source": [
    "Man sieht, dass die Variable binaer_zwei direkt als Dezimalzahl ausgegeben wurde, somit ist die Konvertierung von Binär- zu Dezimalsystem gar kein Problem."
   ]
  },
  {
   "cell_type": "markdown",
   "id": "42da2bb5-43d1-4cd6-9e69-b74983cf7159",
   "metadata": {},
   "source": [
    "Andersherum müssen wir mit Strings und der `format` Methode arbeiten "
   ]
  },
  {
   "cell_type": "code",
   "execution_count": 15,
   "id": "25aee70d-a658-4ffc-9bf4-d82192cae22d",
   "metadata": {},
   "outputs": [],
   "source": [
    "dezimal_zweiundvierzig = 42"
   ]
  },
  {
   "cell_type": "code",
   "execution_count": 16,
   "id": "323f37da-1c1c-43bd-88ff-a882a0101aca",
   "metadata": {},
   "outputs": [
    {
     "data": {
      "text/plain": [
       "'Zahl im Binärsystem: 101010'"
      ]
     },
     "execution_count": 16,
     "metadata": {},
     "output_type": "execute_result"
    }
   ],
   "source": [
    "binaer_converter_string = \"Zahl im Binärsystem: {:b}\"\n",
    "binaer_converter_string.format(dezimal_zweiundvierzig)"
   ]
  },
  {
   "cell_type": "markdown",
   "id": "320c979f-baf0-4d51-b572-d6abe86ed479",
   "metadata": {},
   "source": [
    "oder natürlich irgendeine andere Zahl "
   ]
  },
  {
   "cell_type": "code",
   "execution_count": 17,
   "id": "0c4d4eeb-40d6-454a-862c-af9c5176bf27",
   "metadata": {},
   "outputs": [
    {
     "data": {
      "text/plain": [
       "'Zahl im Binärsystem: 1101'"
      ]
     },
     "execution_count": 17,
     "metadata": {},
     "output_type": "execute_result"
    }
   ],
   "source": [
    "binaer_converter_string.format(13)"
   ]
  }
 ],
 "metadata": {
  "kernelspec": {
   "display_name": "Python 3 (ipykernel)",
   "language": "python",
   "name": "python3"
  },
  "language_info": {
   "codemirror_mode": {
    "name": "ipython",
    "version": 3
   },
   "file_extension": ".py",
   "mimetype": "text/x-python",
   "name": "python",
   "nbconvert_exporter": "python",
   "pygments_lexer": "ipython3",
   "version": "3.10.4"
  }
 },
 "nbformat": 4,
 "nbformat_minor": 5
}
