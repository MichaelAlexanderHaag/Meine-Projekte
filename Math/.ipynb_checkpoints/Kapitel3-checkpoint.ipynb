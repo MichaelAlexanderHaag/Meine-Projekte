{
 "cells": [
  {
   "cell_type": "markdown",
   "id": "3792b807-7413-4b68-8a74-b80b06e2ca9c",
   "metadata": {},
   "source": [
    "Wenn man nun, ganz analog zur Multiplikation mit Zehnerpotenzen im Dezimalsystem, einfach die Nullen des Multiplikators anhängt, so erhält man das korrekte Ergebnis: 11011**000** (d.h. 216 im Dezimalsystem) "
   ]
  },
  {
   "cell_type": "markdown",
   "id": "8664c048-7b1c-4230-8639-55ae22057c49",
   "metadata": {},
   "source": [
    "Dasselbe gilt für die Division, betrachte das folgende Beispiel: 1111000111 / 1**0000** (d.h. 967 / 16), so erhalten wir durch \"Wegschneiden\" gemäß der Anzahl der Nullstellen des Divisors: 111100 Rest **0111** (d.h. 60 (111100) Rest 7 (111)) "
   ]
  },
  {
   "cell_type": "markdown",
   "id": "06e447de-845f-4ac9-95c2-0cdaedf35165",
   "metadata": {},
   "source": [
    "Man muss also bei der Division durch Zweierpotenzen die Bits nur in die richtige Richtung schieben und schon hat man das korrekte Ergebnis, dies kann die ALU (Arithmetic Logic Unit) besonder schnell bewerkstelligen. "
   ]
  },
  {
   "cell_type": "markdown",
   "id": "3082dd77-980f-4e18-a955-c54cec291421",
   "metadata": {},
   "source": [
    "## Binäroperatoren"
   ]
  },
  {
   "cell_type": "markdown",
   "id": "6d4d1f1a-5a28-4622-8fac-8a8dee07cd3f",
   "metadata": {},
   "source": [
    "Für dieses Schieben von Bits gibt es in Programmiersprachen auch die Operatoren: **<< und >>**"
   ]
  },
  {
   "cell_type": "markdown",
   "id": "3e98d032-4710-4e9a-bbe4-46ed7cac1696",
   "metadata": {},
   "source": [
    "Bei der Multiplikation von 27 mit 8 müsste man also die bits einfach nur drei nach links schieben, dies kann wie folgt bewerkstelligt werden: "
   ]
  },
  {
   "cell_type": "code",
   "execution_count": 8,
   "id": "a6c5e8b3-61ca-4437-a5ba-cdb4456061cf",
   "metadata": {},
   "outputs": [
    {
     "data": {
      "text/plain": [
       "216"
      ]
     },
     "execution_count": 8,
     "metadata": {},
     "output_type": "execute_result"
    }
   ],
   "source": [
    "27 << 3 "
   ]
  },
  {
   "cell_type": "markdown",
   "id": "d1d0777b-c5f1-4bd8-b3e1-9894aed8784b",
   "metadata": {},
   "source": [
    "Oder in der Binärrepresentation "
   ]
  },
  {
   "cell_type": "code",
   "execution_count": 11,
   "id": "78ee4ecb-1c7c-4fe5-8935-59c72280da32",
   "metadata": {},
   "outputs": [
    {
     "data": {
      "text/plain": [
       "'11011'"
      ]
     },
     "execution_count": 11,
     "metadata": {},
     "output_type": "execute_result"
    }
   ],
   "source": [
    "\"{:b}\".format(27) "
   ]
  },
  {
   "cell_type": "code",
   "execution_count": 9,
   "id": "378317fe-614f-4b2e-bdb0-e5aa0ccffaf1",
   "metadata": {},
   "outputs": [
    {
     "data": {
      "text/plain": [
       "'11011000'"
      ]
     },
     "execution_count": 9,
     "metadata": {},
     "output_type": "execute_result"
    }
   ],
   "source": [
    "\"{:b}\".format(27<<3) "
   ]
  },
  {
   "cell_type": "code",
   "execution_count": 13,
   "id": "45b61184-bf01-4065-8996-c08d050b7371",
   "metadata": {},
   "outputs": [
    {
     "data": {
      "text/plain": [
       "'1111000111'"
      ]
     },
     "execution_count": 13,
     "metadata": {},
     "output_type": "execute_result"
    }
   ],
   "source": [
    "\"{:b}\".format(967) "
   ]
  },
  {
   "cell_type": "code",
   "execution_count": 15,
   "id": "021b0980-7038-40ea-bc6b-491ea8cc00b1",
   "metadata": {},
   "outputs": [
    {
     "data": {
      "text/plain": [
       "'111100'"
      ]
     },
     "execution_count": 15,
     "metadata": {},
     "output_type": "execute_result"
    }
   ],
   "source": [
    "\"{:b}\".format(967>>4) "
   ]
  },
  {
   "cell_type": "code",
   "execution_count": 18,
   "id": "8996a315-c965-4b34-8a0a-1c85000d58a1",
   "metadata": {},
   "outputs": [
    {
     "data": {
      "text/plain": [
       "60"
      ]
     },
     "execution_count": 18,
     "metadata": {},
     "output_type": "execute_result"
    }
   ],
   "source": [
    "0b111100"
   ]
  },
  {
   "cell_type": "code",
   "execution_count": 21,
   "id": "38b4c1f7-e726-4523-aafd-4271c89503e2",
   "metadata": {},
   "outputs": [
    {
     "data": {
      "text/plain": [
       "16"
      ]
     },
     "execution_count": 21,
     "metadata": {},
     "output_type": "execute_result"
    }
   ],
   "source": [
    "1<<4"
   ]
  },
  {
   "cell_type": "markdown",
   "id": "ddbc96ae-ee77-4708-b582-afd570b81c36",
   "metadata": {},
   "source": [
    "**Aufgabe**: Schreibe eine Funktion, die ihr Argument mit 14 multipliziert, dabei aber nur **<<** und **+** verwendet "
   ]
  },
  {
   "cell_type": "code",
   "execution_count": 60,
   "id": "fbf93f60-8dca-4aa8-b1a3-19cb44208e04",
   "metadata": {},
   "outputs": [],
   "source": [
    "def func(num:int): \n",
    "    res = 0 \n",
    "    for i in range(1,4):\n",
    "        res += num<<i \n",
    "    return res\n"
   ]
  },
  {
   "cell_type": "markdown",
   "id": "0d566d57-3f36-4d9f-ae12-4174c6a3f82f",
   "metadata": {},
   "source": [
    "oder kürzer: "
   ]
  },
  {
   "cell_type": "code",
   "execution_count": 66,
   "id": "d10d128d-5a1e-4ce8-9e37-2273fddd1852",
   "metadata": {},
   "outputs": [],
   "source": [
    "def func(num:int): \n",
    "    return (num << 3) + (num << 2) + (num << 1)  "
   ]
  }
 ],
 "metadata": {
  "kernelspec": {
   "display_name": "Python 3 (ipykernel)",
   "language": "python",
   "name": "python3"
  },
  "language_info": {
   "codemirror_mode": {
    "name": "ipython",
    "version": 3
   },
   "file_extension": ".py",
   "mimetype": "text/x-python",
   "name": "python",
   "nbconvert_exporter": "python",
   "pygments_lexer": "ipython3",
   "version": "3.10.4"
  }
 },
 "nbformat": 4,
 "nbformat_minor": 5
}
