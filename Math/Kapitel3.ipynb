{
 "cells": [
  {
   "cell_type": "markdown",
   "id": "3792b807-7413-4b68-8a74-b80b06e2ca9c",
   "metadata": {},
   "source": [
    "Wenn man nun, ganz analog zur Multiplikation mit Zehnerpotenzen im Dezimalsystem, einfach die Nullen des Multiplikators anhängt, so erhält man das korrekte Ergebnis: 11011**000** (d.h. 216 im Dezimalsystem) "
   ]
  },
  {
   "cell_type": "markdown",
   "id": "8664c048-7b1c-4230-8639-55ae22057c49",
   "metadata": {},
   "source": [
    "Dasselbe gilt für die Division, betrachte das folgende Beispiel: 1111000111 / 1**0000** (d.h. 967 / 16), so erhalten wir durch \"Wegschneiden\" gemäß der Anzahl der Nullstellen des Divisors: 111100 Rest **0111** (d.h. 60 (111100) Rest 7 (111)) "
   ]
  },
  {
   "cell_type": "markdown",
   "id": "06e447de-845f-4ac9-95c2-0cdaedf35165",
   "metadata": {},
   "source": [
    "Man muss also bei der Division durch Zweierpotenzen die Bits nur in die richtige Richtung schieben und schon hat man das korrekte Ergebnis, dies kann die ALU (Arithmetic Logic Unit) besonder schnell bewerkstelligen. "
   ]
  },
  {
   "cell_type": "markdown",
   "id": "3082dd77-980f-4e18-a955-c54cec291421",
   "metadata": {},
   "source": [
    "## Binäroperatoren"
   ]
  },
  {
   "cell_type": "markdown",
   "id": "6d4d1f1a-5a28-4622-8fac-8a8dee07cd3f",
   "metadata": {},
   "source": [
    "Für dieses Schieben von Bits gibt es in Programmiersprachen auch die Operatoren: **<< und >>**"
   ]
  },
  {
   "cell_type": "markdown",
   "id": "3e98d032-4710-4e9a-bbe4-46ed7cac1696",
   "metadata": {},
   "source": [
    "Bei der Multiplikation von 27 mit 8 müsste man also die bits einfach nur drei nach links schieben, dies kann wie folgt bewerkstelligt werden: "
   ]
  },
  {
   "cell_type": "code",
   "execution_count": 8,
   "id": "a6c5e8b3-61ca-4437-a5ba-cdb4456061cf",
   "metadata": {},
   "outputs": [
    {
     "data": {
      "text/plain": [
       "216"
      ]
     },
     "execution_count": 8,
     "metadata": {},
     "output_type": "execute_result"
    }
   ],
   "source": [
    "27 << 3 "
   ]
  },
  {
   "cell_type": "markdown",
   "id": "d1d0777b-c5f1-4bd8-b3e1-9894aed8784b",
   "metadata": {},
   "source": [
    "Oder in der Binärrepresentation "
   ]
  },
  {
   "cell_type": "code",
   "execution_count": 11,
   "id": "78ee4ecb-1c7c-4fe5-8935-59c72280da32",
   "metadata": {},
   "outputs": [
    {
     "data": {
      "text/plain": [
       "'11011'"
      ]
     },
     "execution_count": 11,
     "metadata": {},
     "output_type": "execute_result"
    }
   ],
   "source": [
    "\"{:b}\".format(27) "
   ]
  },
  {
   "cell_type": "code",
   "execution_count": 9,
   "id": "378317fe-614f-4b2e-bdb0-e5aa0ccffaf1",
   "metadata": {},
   "outputs": [
    {
     "data": {
      "text/plain": [
       "'11011000'"
      ]
     },
     "execution_count": 9,
     "metadata": {},
     "output_type": "execute_result"
    }
   ],
   "source": [
    "\"{:b}\".format(27<<3) "
   ]
  },
  {
   "cell_type": "code",
   "execution_count": 13,
   "id": "45b61184-bf01-4065-8996-c08d050b7371",
   "metadata": {},
   "outputs": [
    {
     "data": {
      "text/plain": [
       "'1111000111'"
      ]
     },
     "execution_count": 13,
     "metadata": {},
     "output_type": "execute_result"
    }
   ],
   "source": [
    "\"{:b}\".format(967) "
   ]
  },
  {
   "cell_type": "code",
   "execution_count": 15,
   "id": "021b0980-7038-40ea-bc6b-491ea8cc00b1",
   "metadata": {},
   "outputs": [
    {
     "data": {
      "text/plain": [
       "'111100'"
      ]
     },
     "execution_count": 15,
     "metadata": {},
     "output_type": "execute_result"
    }
   ],
   "source": [
    "\"{:b}\".format(967>>4) "
   ]
  },
  {
   "cell_type": "code",
   "execution_count": 18,
   "id": "8996a315-c965-4b34-8a0a-1c85000d58a1",
   "metadata": {},
   "outputs": [
    {
     "data": {
      "text/plain": [
       "60"
      ]
     },
     "execution_count": 18,
     "metadata": {},
     "output_type": "execute_result"
    }
   ],
   "source": [
    "0b111100"
   ]
  },
  {
   "cell_type": "code",
   "execution_count": 8,
   "id": "38b4c1f7-e726-4523-aafd-4271c89503e2",
   "metadata": {},
   "outputs": [
    {
     "data": {
      "text/plain": [
       "'11111111'"
      ]
     },
     "execution_count": 8,
     "metadata": {},
     "output_type": "execute_result"
    }
   ],
   "source": [
    "\"{:b}\".format(255)"
   ]
  },
  {
   "cell_type": "markdown",
   "id": "ddbc96ae-ee77-4708-b582-afd570b81c36",
   "metadata": {},
   "source": [
    "**Aufgabe**: Schreibe eine Funktion, die ihr Argument mit 14 multipliziert, dabei aber nur **<<** und **+** verwendet "
   ]
  },
  {
   "cell_type": "code",
   "execution_count": 60,
   "id": "fbf93f60-8dca-4aa8-b1a3-19cb44208e04",
   "metadata": {},
   "outputs": [],
   "source": [
    "def func(num:int): \n",
    "    res = 0 \n",
    "    for i in range(1,4):\n",
    "        res += num<<i \n",
    "    return res\n"
   ]
  },
  {
   "cell_type": "markdown",
   "id": "0d566d57-3f36-4d9f-ae12-4174c6a3f82f",
   "metadata": {},
   "source": [
    "oder kürzer: "
   ]
  },
  {
   "cell_type": "code",
   "execution_count": 66,
   "id": "d10d128d-5a1e-4ce8-9e37-2273fddd1852",
   "metadata": {},
   "outputs": [],
   "source": [
    "def func(num:int): \n",
    "    return (num << 3) + (num << 2) + (num << 1)  "
   ]
  },
  {
   "cell_type": "markdown",
   "id": "4c32cd89-86c9-471c-a5ee-223d5ea5604f",
   "metadata": {},
   "source": [
    "**Aufgabe**: 8-bit Arithmetik: Bereche das Produkt von 186 und 25 in 8-bit-Arithmetik "
   ]
  },
  {
   "cell_type": "code",
   "execution_count": 22,
   "id": "0d9728e8-fa81-4bd9-bb02-a33b4937e2dd",
   "metadata": {},
   "outputs": [
    {
     "data": {
      "text/plain": [
       "'101010'"
      ]
     },
     "execution_count": 22,
     "metadata": {},
     "output_type": "execute_result"
    }
   ],
   "source": [
    "\"{:b}\".format((186*25)%256) "
   ]
  },
  {
   "cell_type": "code",
   "execution_count": 23,
   "id": "3206c54d-dced-4c62-83c0-a1e10db46eec",
   "metadata": {},
   "outputs": [
    {
     "data": {
      "text/plain": [
       "'1001000101010'"
      ]
     },
     "execution_count": 23,
     "metadata": {},
     "output_type": "execute_result"
    }
   ],
   "source": [
    "\"{:b}\".format(186 * 25) "
   ]
  },
  {
   "cell_type": "code",
   "execution_count": 24,
   "id": "609eabb2-d1a3-427c-b8fb-4eb6e7f663c5",
   "metadata": {},
   "outputs": [
    {
     "data": {
      "text/plain": [
       "42"
      ]
     },
     "execution_count": 24,
     "metadata": {},
     "output_type": "execute_result"
    }
   ],
   "source": [
    "186*25%256"
   ]
  },
  {
   "cell_type": "code",
   "execution_count": 27,
   "id": "ee4fd0a1-a794-4a12-8093-30c8b9aff71c",
   "metadata": {},
   "outputs": [
    {
     "data": {
      "text/plain": [
       "18"
      ]
     },
     "execution_count": 27,
     "metadata": {},
     "output_type": "execute_result"
    }
   ],
   "source": [
    "186*25//256 "
   ]
  },
  {
   "cell_type": "code",
   "execution_count": 29,
   "id": "ee98fa24-fea6-4a00-b9ec-ab1d9ba673cc",
   "metadata": {},
   "outputs": [
    {
     "data": {
      "text/plain": [
       "42"
      ]
     },
     "execution_count": 29,
     "metadata": {},
     "output_type": "execute_result"
    }
   ],
   "source": [
    "186*25 - 18*256 "
   ]
  },
  {
   "cell_type": "code",
   "execution_count": 31,
   "id": "4e80d707-ae5d-447b-bd69-a5da0be66770",
   "metadata": {},
   "outputs": [
    {
     "data": {
      "text/plain": [
       "(11, 6)"
      ]
     },
     "execution_count": 31,
     "metadata": {},
     "output_type": "execute_result"
    }
   ],
   "source": [
    "201%19, 101%19"
   ]
  },
  {
   "cell_type": "code",
   "execution_count": 33,
   "id": "1464ad26-23f5-4148-ab5f-9168d2983be0",
   "metadata": {},
   "outputs": [],
   "source": [
    "def congruent_mod(a,b,n):\n",
    "    return a%n == b%n "
   ]
  },
  {
   "cell_type": "code",
   "execution_count": 34,
   "id": "c980c64e-3520-4c79-9b88-f87808c95a8e",
   "metadata": {},
   "outputs": [
    {
     "data": {
      "text/plain": [
       "True"
      ]
     },
     "execution_count": 34,
     "metadata": {},
     "output_type": "execute_result"
    }
   ],
   "source": [
    "congruent_mod(201,101,10)"
   ]
  },
  {
   "cell_type": "code",
   "execution_count": 35,
   "id": "7ef2c7c0-bbb0-4e20-80cc-e4e3b3e94ff3",
   "metadata": {},
   "outputs": [
    {
     "data": {
      "text/plain": [
       "False"
      ]
     },
     "execution_count": 35,
     "metadata": {},
     "output_type": "execute_result"
    }
   ],
   "source": [
    "congruent_mod(201,101,19)"
   ]
  },
  {
   "cell_type": "code",
   "execution_count": 36,
   "id": "8e575b6b-70f2-4e9f-addd-d15d9c15ba48",
   "metadata": {},
   "outputs": [
    {
     "data": {
      "text/plain": [
       "True"
      ]
     },
     "execution_count": 36,
     "metadata": {},
     "output_type": "execute_result"
    }
   ],
   "source": [
    "congruent_mod(101,101,19)"
   ]
  },
  {
   "cell_type": "code",
   "execution_count": 37,
   "id": "dd0f4960-c17f-4b0b-a4b3-0fed5223a9d9",
   "metadata": {},
   "outputs": [
    {
     "data": {
      "text/plain": [
       "False"
      ]
     },
     "execution_count": 37,
     "metadata": {},
     "output_type": "execute_result"
    }
   ],
   "source": [
    "congruent_mod(0,47,7)"
   ]
  },
  {
   "cell_type": "code",
   "execution_count": 53,
   "id": "57a876af-64ef-4f9a-92f0-c95dc81d34c6",
   "metadata": {},
   "outputs": [],
   "source": [
    "def congruent_mod_v2(a,b,n): \n",
    "    return (a-b)%n == 0 "
   ]
  },
  {
   "cell_type": "code",
   "execution_count": 54,
   "id": "01cb2e0a-1675-4dc2-89b9-cd80c560b55a",
   "metadata": {},
   "outputs": [
    {
     "data": {
      "text/plain": [
       "True"
      ]
     },
     "execution_count": 54,
     "metadata": {},
     "output_type": "execute_result"
    }
   ],
   "source": [
    "congruent_mod_v2(201,101,10)"
   ]
  },
  {
   "cell_type": "code",
   "execution_count": 42,
   "id": "ed43a971-ced6-41d5-8ba9-4cca57ef6c69",
   "metadata": {},
   "outputs": [
    {
     "data": {
      "text/plain": [
       "False"
      ]
     },
     "execution_count": 42,
     "metadata": {},
     "output_type": "execute_result"
    }
   ],
   "source": [
    "congruent_mod_v2(201,101,19)"
   ]
  },
  {
   "cell_type": "code",
   "execution_count": 43,
   "id": "346b855b-8684-41ae-ba03-b993f81bab68",
   "metadata": {},
   "outputs": [
    {
     "data": {
      "text/plain": [
       "True"
      ]
     },
     "execution_count": 43,
     "metadata": {},
     "output_type": "execute_result"
    }
   ],
   "source": [
    "congruent_mod_v2(101,101,19)"
   ]
  },
  {
   "cell_type": "code",
   "execution_count": 44,
   "id": "acaa0e65-97e5-4a2e-accb-b08b5ccd426a",
   "metadata": {},
   "outputs": [
    {
     "data": {
      "text/plain": [
       "False"
      ]
     },
     "execution_count": 44,
     "metadata": {},
     "output_type": "execute_result"
    }
   ],
   "source": [
    "congruent_mod_v2(0,47,7)"
   ]
  }
 ],
 "metadata": {
  "kernelspec": {
   "display_name": "Python 3 (ipykernel)",
   "language": "python",
   "name": "python3"
  },
  "language_info": {
   "codemirror_mode": {
    "name": "ipython",
    "version": 3
   },
   "file_extension": ".py",
   "mimetype": "text/x-python",
   "name": "python",
   "nbconvert_exporter": "python",
   "pygments_lexer": "ipython3",
   "version": "3.10.4"
  }
 },
 "nbformat": 4,
 "nbformat_minor": 5
}
