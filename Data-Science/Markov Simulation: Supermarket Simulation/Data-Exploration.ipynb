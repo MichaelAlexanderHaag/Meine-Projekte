{
 "cells": [
  {
   "cell_type": "markdown",
   "id": "f11964ab-9b77-4a89-8e29-206c313a631c",
   "metadata": {},
   "source": [
    "## Data Exploration "
   ]
  },
  {
   "cell_type": "code",
   "execution_count": 1,
   "id": "a310b155-2624-4b31-85b7-87345e0a7535",
   "metadata": {},
   "outputs": [],
   "source": [
    "import os \n",
    "import pandas as pd \n",
    "import matplotlib.pyplot as plt\n",
    "import numpy "
   ]
  },
  {
   "cell_type": "markdown",
   "id": "0bedf7dd-d221-4c09-9cd9-98a4143f5538",
   "metadata": {},
   "source": [
    "**Reminder**: \n",
    "- each day, the customer IDs start again at 1. These are different customers anyway.\n",
    "- when the shop closes, the remaining customers are rushed through the checkout. Their checkout is not recorded, so it may look as if they stay in the market forever."
   ]
  },
  {
   "cell_type": "markdown",
   "id": "6a0560a3-9571-4f0f-b4d4-296ea4c47569",
   "metadata": {},
   "source": [
    "### Load the Files "
   ]
  },
  {
   "cell_type": "code",
   "execution_count": 2,
   "id": "a711f096-4d9d-440d-bc1f-be3ede2409b2",
   "metadata": {},
   "outputs": [
    {
     "data": {
      "text/plain": [
       "['tuesday.csv', 'thursday.csv', 'friday.csv', 'wednesday.csv', 'monday.csv']"
      ]
     },
     "execution_count": 2,
     "metadata": {},
     "output_type": "execute_result"
    }
   ],
   "source": [
    "csv_files = os.listdir(\"/home/michaelhaag/Documents/Coding/Spiced_Code/Code-Repository/Week_08/Data\")\n",
    "csv_files"
   ]
  },
  {
   "cell_type": "code",
   "execution_count": 3,
   "id": "3ed3a5a9-886b-4209-af4d-2c52bc421fd7",
   "metadata": {},
   "outputs": [],
   "source": [
    "dfs = {}\n",
    "for file in csv_files: \n",
    "    dfs[file.split(\".\")[0]] = pd.read_csv(f\"../Data/{file}\", sep=\";\", parse_dates=[\"timestamp\"])"
   ]
  },
  {
   "cell_type": "markdown",
   "id": "281ff282-0942-4f1c-855d-2a3e30b994b7",
   "metadata": {},
   "source": [
    "Some cleaning is necessary: "
   ]
  },
  {
   "cell_type": "markdown",
   "id": "65a79dff-d70b-4821-a186-380a6556fb33",
   "metadata": {},
   "source": [
    "## Exploration "
   ]
  },
  {
   "cell_type": "markdown",
   "id": "1d46f7ef-0768-4c9e-b2da-857c4535b1a9",
   "metadata": {},
   "source": [
    "Let's start with just one day: **tuesday** "
   ]
  },
  {
   "cell_type": "markdown",
   "id": "dbc1316b-1d65-480b-963d-da715cbd45ef",
   "metadata": {},
   "source": [
    "### Get the \"metadata\""
   ]
  },
  {
   "cell_type": "code",
   "execution_count": 5,
   "id": "a0447e3e-08fd-459e-a2ca-2af6d3e27804",
   "metadata": {},
   "outputs": [],
   "source": [
    "df_tuesday = dfs[\"tuesday\"]"
   ]
  },
  {
   "cell_type": "code",
   "execution_count": 6,
   "id": "8930469b-a536-4f88-a80f-9d5f6ab9cb17",
   "metadata": {},
   "outputs": [
    {
     "data": {
      "text/plain": [
       "(4714, 3)"
      ]
     },
     "execution_count": 6,
     "metadata": {},
     "output_type": "execute_result"
    }
   ],
   "source": [
    "df_tuesday.shape"
   ]
  },
  {
   "cell_type": "code",
   "execution_count": 7,
   "id": "24b1a41f-9a7e-4554-8e89-b9906319f7d8",
   "metadata": {},
   "outputs": [
    {
     "data": {
      "text/plain": [
       "Index(['timestamp', 'customer_no', 'location'], dtype='object')"
      ]
     },
     "execution_count": 7,
     "metadata": {},
     "output_type": "execute_result"
    }
   ],
   "source": [
    "df_tuesday.columns"
   ]
  },
  {
   "cell_type": "code",
   "execution_count": 8,
   "id": "74b1ddc1-2292-406a-8a5e-879d121fd7b1",
   "metadata": {},
   "outputs": [
    {
     "data": {
      "text/html": [
       "<div>\n",
       "<style scoped>\n",
       "    .dataframe tbody tr th:only-of-type {\n",
       "        vertical-align: middle;\n",
       "    }\n",
       "\n",
       "    .dataframe tbody tr th {\n",
       "        vertical-align: top;\n",
       "    }\n",
       "\n",
       "    .dataframe thead th {\n",
       "        text-align: right;\n",
       "    }\n",
       "</style>\n",
       "<table border=\"1\" class=\"dataframe\">\n",
       "  <thead>\n",
       "    <tr style=\"text-align: right;\">\n",
       "      <th></th>\n",
       "      <th>timestamp</th>\n",
       "      <th>customer_no</th>\n",
       "      <th>location</th>\n",
       "    </tr>\n",
       "  </thead>\n",
       "  <tbody>\n",
       "    <tr>\n",
       "      <th>0</th>\n",
       "      <td>2019-09-03 07:02:00</td>\n",
       "      <td>1</td>\n",
       "      <td>fruit</td>\n",
       "    </tr>\n",
       "    <tr>\n",
       "      <th>1</th>\n",
       "      <td>2019-09-03 07:02:00</td>\n",
       "      <td>2</td>\n",
       "      <td>drinks</td>\n",
       "    </tr>\n",
       "    <tr>\n",
       "      <th>2</th>\n",
       "      <td>2019-09-03 07:03:00</td>\n",
       "      <td>3</td>\n",
       "      <td>dairy</td>\n",
       "    </tr>\n",
       "    <tr>\n",
       "      <th>3</th>\n",
       "      <td>2019-09-03 07:05:00</td>\n",
       "      <td>1</td>\n",
       "      <td>drinks</td>\n",
       "    </tr>\n",
       "    <tr>\n",
       "      <th>4</th>\n",
       "      <td>2019-09-03 07:06:00</td>\n",
       "      <td>4</td>\n",
       "      <td>dairy</td>\n",
       "    </tr>\n",
       "  </tbody>\n",
       "</table>\n",
       "</div>"
      ],
      "text/plain": [
       "            timestamp  customer_no location\n",
       "0 2019-09-03 07:02:00            1    fruit\n",
       "1 2019-09-03 07:02:00            2   drinks\n",
       "2 2019-09-03 07:03:00            3    dairy\n",
       "3 2019-09-03 07:05:00            1   drinks\n",
       "4 2019-09-03 07:06:00            4    dairy"
      ]
     },
     "execution_count": 8,
     "metadata": {},
     "output_type": "execute_result"
    }
   ],
   "source": [
    "df_tuesday.head()"
   ]
  },
  {
   "cell_type": "code",
   "execution_count": 9,
   "id": "70ab029c-9e5b-4713-8c50-8f944d4ee891",
   "metadata": {},
   "outputs": [
    {
     "data": {
      "text/html": [
       "<div>\n",
       "<style scoped>\n",
       "    .dataframe tbody tr th:only-of-type {\n",
       "        vertical-align: middle;\n",
       "    }\n",
       "\n",
       "    .dataframe tbody tr th {\n",
       "        vertical-align: top;\n",
       "    }\n",
       "\n",
       "    .dataframe thead th {\n",
       "        text-align: right;\n",
       "    }\n",
       "</style>\n",
       "<table border=\"1\" class=\"dataframe\">\n",
       "  <thead>\n",
       "    <tr style=\"text-align: right;\">\n",
       "      <th></th>\n",
       "      <th>timestamp</th>\n",
       "      <th>customer_no</th>\n",
       "      <th>location</th>\n",
       "    </tr>\n",
       "  </thead>\n",
       "  <tbody>\n",
       "    <tr>\n",
       "      <th>4709</th>\n",
       "      <td>2019-09-03 21:47:00</td>\n",
       "      <td>1421</td>\n",
       "      <td>drinks</td>\n",
       "    </tr>\n",
       "    <tr>\n",
       "      <th>4710</th>\n",
       "      <td>2019-09-03 21:47:00</td>\n",
       "      <td>1422</td>\n",
       "      <td>dairy</td>\n",
       "    </tr>\n",
       "    <tr>\n",
       "      <th>4711</th>\n",
       "      <td>2019-09-03 21:48:00</td>\n",
       "      <td>1421</td>\n",
       "      <td>checkout</td>\n",
       "    </tr>\n",
       "    <tr>\n",
       "      <th>4712</th>\n",
       "      <td>2019-09-03 21:49:00</td>\n",
       "      <td>1412</td>\n",
       "      <td>checkout</td>\n",
       "    </tr>\n",
       "    <tr>\n",
       "      <th>4713</th>\n",
       "      <td>2019-09-03 21:50:00</td>\n",
       "      <td>1411</td>\n",
       "      <td>dairy</td>\n",
       "    </tr>\n",
       "  </tbody>\n",
       "</table>\n",
       "</div>"
      ],
      "text/plain": [
       "               timestamp  customer_no  location\n",
       "4709 2019-09-03 21:47:00         1421    drinks\n",
       "4710 2019-09-03 21:47:00         1422     dairy\n",
       "4711 2019-09-03 21:48:00         1421  checkout\n",
       "4712 2019-09-03 21:49:00         1412  checkout\n",
       "4713 2019-09-03 21:50:00         1411     dairy"
      ]
     },
     "execution_count": 9,
     "metadata": {},
     "output_type": "execute_result"
    }
   ],
   "source": [
    "df_tuesday.tail()"
   ]
  },
  {
   "cell_type": "code",
   "execution_count": 10,
   "id": "b1f9310a-a48b-4f02-9a02-974c4bf804c6",
   "metadata": {},
   "outputs": [
    {
     "name": "stdout",
     "output_type": "stream",
     "text": [
      "<class 'pandas.core.frame.DataFrame'>\n",
      "RangeIndex: 4714 entries, 0 to 4713\n",
      "Data columns (total 3 columns):\n",
      " #   Column       Non-Null Count  Dtype         \n",
      "---  ------       --------------  -----         \n",
      " 0   timestamp    4714 non-null   datetime64[ns]\n",
      " 1   customer_no  4714 non-null   int64         \n",
      " 2   location     4714 non-null   object        \n",
      "dtypes: datetime64[ns](1), int64(1), object(1)\n",
      "memory usage: 110.6+ KB\n"
     ]
    }
   ],
   "source": [
    "df_tuesday.info()"
   ]
  },
  {
   "cell_type": "markdown",
   "id": "163724e3-51f8-41cc-baa1-42030ffc9101",
   "metadata": {},
   "source": [
    "### The actual exploration "
   ]
  },
  {
   "cell_type": "markdown",
   "id": "05f0d7ff-992e-4551-8897-689deae65461",
   "metadata": {},
   "source": [
    "**Note**: I'll only do the exploration for tuesday and I'll be assuming that the other days are roughly equal "
   ]
  },
  {
   "cell_type": "markdown",
   "id": "389ff168-0eaa-435b-a557-06eaca5b2cbb",
   "metadata": {},
   "source": [
    "**Task 1**: Calculate the total number of customers in each section"
   ]
  },
  {
   "cell_type": "code",
   "execution_count": 11,
   "id": "0fa75fb0-c82e-45af-a7c0-60e93bf9f207",
   "metadata": {},
   "outputs": [
    {
     "data": {
      "text/plain": [
       "<AxesSubplot:xlabel='location'>"
      ]
     },
     "execution_count": 11,
     "metadata": {},
     "output_type": "execute_result"
    },
    {
     "data": {
      "image/png": "[encoded data removed]",
      "text/plain": [
       "<Figure size 432x288 with 1 Axes>"
      ]
     },
     "metadata": {
      "needs_background": "light"
     },
     "output_type": "display_data"
    }
   ],
   "source": [
    "df_tuesday.groupby(\"location\")[\"customer_no\"].nunique().plot(kind=\"bar\") "
   ]
  },
  {
   "cell_type": "markdown",
   "id": "60866904-9f5d-4cf2-9f4a-076e13181483",
   "metadata": {},
   "source": [
    "**Task 2**: Calculate the total number of customers in each section over time **and**  \n",
    "**Task 3**: Display the number of customers at checkout over time (last plot) \n",
    "\n"
   ]
  },
  {
   "cell_type": "markdown",
   "id": "0194564e-516d-42ad-96ef-9db345594f67",
   "metadata": {},
   "source": [
    "Let's start with the dairy location (to get a feel) "
   ]
  },
  {
   "cell_type": "code",
   "execution_count": 12,
   "id": "c4e23d5d-94af-4d5c-a9dc-95a1b89cd795",
   "metadata": {},
   "outputs": [
    {
     "data": {
      "text/html": [
       "<div>\n",
       "<style scoped>\n",
       "    .dataframe tbody tr th:only-of-type {\n",
       "        vertical-align: middle;\n",
       "    }\n",
       "\n",
       "    .dataframe tbody tr th {\n",
       "        vertical-align: top;\n",
       "    }\n",
       "\n",
       "    .dataframe thead th {\n",
       "        text-align: right;\n",
       "    }\n",
       "</style>\n",
       "<table border=\"1\" class=\"dataframe\">\n",
       "  <thead>\n",
       "    <tr style=\"text-align: right;\">\n",
       "      <th></th>\n",
       "      <th>customer_no</th>\n",
       "      <th>location</th>\n",
       "    </tr>\n",
       "    <tr>\n",
       "      <th>timestamp</th>\n",
       "      <th></th>\n",
       "      <th></th>\n",
       "    </tr>\n",
       "  </thead>\n",
       "  <tbody>\n",
       "    <tr>\n",
       "      <th>2019-09-03 07:03:00</th>\n",
       "      <td>3</td>\n",
       "      <td>dairy</td>\n",
       "    </tr>\n",
       "    <tr>\n",
       "      <th>2019-09-03 07:06:00</th>\n",
       "      <td>4</td>\n",
       "      <td>dairy</td>\n",
       "    </tr>\n",
       "    <tr>\n",
       "      <th>2019-09-03 07:06:00</th>\n",
       "      <td>5</td>\n",
       "      <td>dairy</td>\n",
       "    </tr>\n",
       "  </tbody>\n",
       "</table>\n",
       "</div>"
      ],
      "text/plain": [
       "                     customer_no location\n",
       "timestamp                                \n",
       "2019-09-03 07:03:00            3    dairy\n",
       "2019-09-03 07:06:00            4    dairy\n",
       "2019-09-03 07:06:00            5    dairy"
      ]
     },
     "execution_count": 12,
     "metadata": {},
     "output_type": "execute_result"
    }
   ],
   "source": [
    "filt = (df_tuesday[\"location\"] == \"dairy\")\n",
    "df = df_tuesday[filt].set_index(\"timestamp\")\n",
    "df.head(3)"
   ]
  },
  {
   "cell_type": "code",
   "execution_count": 13,
   "id": "a52cc140-7af2-4a48-ba94-d08500a342b2",
   "metadata": {},
   "outputs": [
    {
     "data": {
      "image/png": "[encoded data removed]",
      "text/plain": [
       "<Figure size 432x288 with 1 Axes>"
      ]
     },
     "metadata": {
      "needs_background": "light"
     },
     "output_type": "display_data"
    }
   ],
   "source": [
    "ax = df.resample(\"h\")[\"customer_no\"].count().plot(title=\"# of customers in dairy by hour\",\n",
    "                                                  kind=\"bar\",\n",
    "                                                  xlabel=\"Hour (Tuesday)\", ylabel=\"# Customers\");\n",
    "ax.set_xticklabels(set(df.index.hour));"
   ]
  },
  {
   "cell_type": "markdown",
   "id": "4346f60c-0a0f-4287-80be-274c4a38f9a1",
   "metadata": {},
   "source": [
    "Let's do it for **all** locations"
   ]
  },
  {
   "cell_type": "code",
   "execution_count": 13,
   "id": "e1f5b955-faa2-484d-bd90-d1f71cfdf0d1",
   "metadata": {},
   "outputs": [
    {
     "data": {
      "image/png": "[encoded data removed]",
      "text/plain": [
       "<Figure size 864x432 with 1 Axes>"
      ]
     },
     "metadata": {
      "needs_background": "light"
     },
     "output_type": "display_data"
    },
    {
     "data": {
      "image/png": "[encoded data removed]",
      "text/plain": [
       "<Figure size 864x432 with 1 Axes>"
      ]
     },
     "metadata": {
      "needs_background": "light"
     },
     "output_type": "display_data"
    },
    {
     "data": {
      "image/png": "[encoded data removed]",
      "text/plain": [
       "<Figure size 864x432 with 1 Axes>"
      ]
     },
     "metadata": {
      "needs_background": "light"
     },
     "output_type": "display_data"
    },
    {
     "data": {
      "image/png": "[encoded data removed]",
      "text/plain": [
       "<Figure size 864x432 with 1 Axes>"
      ]
     },
     "metadata": {
      "needs_background": "light"
     },
     "output_type": "display_data"
    },
    {
     "data": {
      "image/png": "[encoded data removed]",
      "text/plain": [
       "<Figure size 864x432 with 1 Axes>"
      ]
     },
     "metadata": {
      "needs_background": "light"
     },
     "output_type": "display_data"
    }
   ],
   "source": [
    "locations = list(df_tuesday[\"location\"].unique())\n",
    "\n",
    "for location in locations: \n",
    "    #Filtering and setting the index to the timestamp! \n",
    "    filt = (df_tuesday[\"location\"] == location)\n",
    "    df = df_tuesday[filt].set_index(\"timestamp\") \n",
    "    #Plotting\n",
    "    plt.figure(figsize=(12,6))\n",
    "    ax = df.resample(\"h\")[\"customer_no\"].count().plot(title=f\"# of customers in {location} by hour\",\n",
    "                                                  kind=\"bar\",\n",
    "                                                  xlabel=\"Hour (Tuesday)\", ylabel=\"# Customers\");\n",
    "    ax.set_xticklabels(set(df.index.hour));\n",
    "    plt.show()"
   ]
  },
  {
   "cell_type": "markdown",
   "id": "9f512935-85c9-4bf5-a0ba-907cddbcfa6a",
   "metadata": {},
   "source": [
    "Some **binning** "
   ]
  },
  {
   "cell_type": "code",
   "execution_count": 14,
   "id": "f831701f-5659-47fb-8f91-25bf2bd02b9c",
   "metadata": {},
   "outputs": [
    {
     "data": {
      "image/png": "[encoded data removed]",
      "text/plain": [
       "<Figure size 864x432 with 1 Axes>"
      ]
     },
     "metadata": {
      "needs_background": "light"
     },
     "output_type": "display_data"
    },
    {
     "data": {
      "image/png": "[encoded data removed]",
      "text/plain": [
       "<Figure size 864x432 with 1 Axes>"
      ]
     },
     "metadata": {
      "needs_background": "light"
     },
     "output_type": "display_data"
    },
    {
     "data": {
      "image/png": "[encoded data removed]",
      "text/plain": [
       "<Figure size 864x432 with 1 Axes>"
      ]
     },
     "metadata": {
      "needs_background": "light"
     },
     "output_type": "display_data"
    },
    {
     "data": {
      "image/png": "[encoded data removed]",
      "text/plain": [
       "<Figure size 864x432 with 1 Axes>"
      ]
     },
     "metadata": {
      "needs_background": "light"
     },
     "output_type": "display_data"
    },
    {
     "data": {
      "image/png": "[encoded data removed]",
      "text/plain": [
       "<Figure size 864x432 with 1 Axes>"
      ]
     },
     "metadata": {
      "needs_background": "light"
     },
     "output_type": "display_data"
    }
   ],
   "source": [
    "locations = list(df_tuesday[\"location\"].unique())\n",
    "\n",
    "for location in locations: \n",
    "    #Filtering and resampling\n",
    "    filt = (df_tuesday[\"location\"] == location)\n",
    "    df = df_tuesday[filt].set_index(\"timestamp\") \n",
    "    #Plotting\n",
    "    plt.figure(figsize=(12,6))\n",
    "    ax = df.resample(\"4h\")[\"customer_no\"].count().plot(title=f\"# of customers in {location} by 4hour-intervall\",\n",
    "                                                  kind=\"bar\",\n",
    "                                                  xlabel=\"Hour (Tuesday)\", ylabel=\"# Customers\");\n",
    "    ax.set_xticklabels([\"4-8\",\"8-12\",\"12-16\",\"16-20\",\"20-00\"]);\n",
    "    plt.show()"
   ]
  },
  {
   "cell_type": "markdown",
   "id": "7b861115-912e-46ba-afdf-510a2900c1ef",
   "metadata": {},
   "source": [
    "**Task 4**: Calculate the time each customer spent in the market"
   ]
  },
  {
   "cell_type": "markdown",
   "id": "703b2902-3041-417b-b0fd-9df21fea1451",
   "metadata": {},
   "source": [
    "The time a customer (for example: customer 1) has spent in the market is the difference in time between whatever location he visited in the beginning and his time at the checkout  \n",
    "\n",
    "**NOTE**: when the shop closes, the remaining customers are rushed through the checkout. \n",
    "Their checkout is not recorded, so it may look as if they stay in the market forever.\n",
    "\n"
   ]
  },
  {
   "cell_type": "code",
   "execution_count": 15,
   "id": "97e175f1-e342-45a1-9b34-6bf7b0cafd85",
   "metadata": {},
   "outputs": [
    {
     "data": {
      "text/html": [
       "<div>\n",
       "<style scoped>\n",
       "    .dataframe tbody tr th:only-of-type {\n",
       "        vertical-align: middle;\n",
       "    }\n",
       "\n",
       "    .dataframe tbody tr th {\n",
       "        vertical-align: top;\n",
       "    }\n",
       "\n",
       "    .dataframe thead th {\n",
       "        text-align: right;\n",
       "    }\n",
       "</style>\n",
       "<table border=\"1\" class=\"dataframe\">\n",
       "  <thead>\n",
       "    <tr style=\"text-align: right;\">\n",
       "      <th></th>\n",
       "      <th>timestamp</th>\n",
       "      <th>customer_no</th>\n",
       "      <th>location</th>\n",
       "    </tr>\n",
       "  </thead>\n",
       "  <tbody>\n",
       "    <tr>\n",
       "      <th>0</th>\n",
       "      <td>2019-09-03 07:02:00</td>\n",
       "      <td>1</td>\n",
       "      <td>fruit</td>\n",
       "    </tr>\n",
       "    <tr>\n",
       "      <th>1</th>\n",
       "      <td>2019-09-03 07:02:00</td>\n",
       "      <td>2</td>\n",
       "      <td>drinks</td>\n",
       "    </tr>\n",
       "    <tr>\n",
       "      <th>2</th>\n",
       "      <td>2019-09-03 07:03:00</td>\n",
       "      <td>3</td>\n",
       "      <td>dairy</td>\n",
       "    </tr>\n",
       "    <tr>\n",
       "      <th>3</th>\n",
       "      <td>2019-09-03 07:05:00</td>\n",
       "      <td>1</td>\n",
       "      <td>drinks</td>\n",
       "    </tr>\n",
       "    <tr>\n",
       "      <th>4</th>\n",
       "      <td>2019-09-03 07:06:00</td>\n",
       "      <td>4</td>\n",
       "      <td>dairy</td>\n",
       "    </tr>\n",
       "  </tbody>\n",
       "</table>\n",
       "</div>"
      ],
      "text/plain": [
       "            timestamp  customer_no location\n",
       "0 2019-09-03 07:02:00            1    fruit\n",
       "1 2019-09-03 07:02:00            2   drinks\n",
       "2 2019-09-03 07:03:00            3    dairy\n",
       "3 2019-09-03 07:05:00            1   drinks\n",
       "4 2019-09-03 07:06:00            4    dairy"
      ]
     },
     "execution_count": 15,
     "metadata": {},
     "output_type": "execute_result"
    }
   ],
   "source": [
    "df_tuesday.head()"
   ]
  },
  {
   "cell_type": "code",
   "execution_count": 16,
   "id": "1b6728e4-66ae-45b7-831b-b1f9b695e467",
   "metadata": {},
   "outputs": [
    {
     "data": {
      "text/plain": [
       "4714"
      ]
     },
     "execution_count": 16,
     "metadata": {},
     "output_type": "execute_result"
    }
   ],
   "source": [
    "len(df_tuesday)"
   ]
  },
  {
   "cell_type": "code",
   "execution_count": 17,
   "id": "6d3a6bd9-fc06-4dfa-8753-2e5f60cd917a",
   "metadata": {},
   "outputs": [
    {
     "name": "stdout",
     "output_type": "stream",
     "text": [
      "[1411 1422]\n",
      "03:09:2019:22\n",
      "03:09:2019:22\n"
     ]
    }
   ],
   "source": [
    "#Find all those customers without recorded checkout \n",
    "filt = (df_tuesday[\"location\"] ==\"checkout\")\n",
    "regular_checkouts = df_tuesday[filt][\"customer_no\"].unique() ## All the customers who regularly checked out \n",
    "all_customers = df_tuesday[\"customer_no\"]\n",
    "rushed_customers = all_customers[~all_customers.isin(regular_checkouts)].unique()\n",
    "print(rushed_customers)\n",
    "for customer in rushed_customers:\n",
    "    index = df_tuesday.loc[df_tuesday[\"customer_no\"]==customer].index[-1]\n",
    "    \n",
    "    #Construct Date \n",
    "    day = df_tuesday.loc[index,\"timestamp\"].day\n",
    "    month = df_tuesday.loc[index,\"timestamp\"].month\n",
    "    year = df_tuesday.loc[index,\"timestamp\"].year\n",
    "    #There must be an easier way :(, NOTE: This is dangerous due to the prefixed zero, e.g. if month = 12 then datestring -> 012, which will lead to an\n",
    "    #error converting \n",
    "    date_string = f\"0{day}:0{month}:{year}:22\"\n",
    "    print(date_string)\n",
    "    date_timestamp = pd.to_datetime(date_string,format=\"%d:%m:%Y:%H\")\n",
    "\n",
    "\n",
    "# This did not lead anywhere, I just gave up :( "
   ]
  },
  {
   "cell_type": "markdown",
   "id": "199aa4c4-bd47-4836-bbda-aa6f1aa1d7f8",
   "metadata": {},
   "source": [
    "I had enough, let's simply **drop** all the rushed customers! "
   ]
  },
  {
   "cell_type": "code",
   "execution_count": 18,
   "id": "dc75cdbb-9d5a-4df5-a67e-65b259edbf93",
   "metadata": {},
   "outputs": [
    {
     "name": "stdout",
     "output_type": "stream",
     "text": [
      "[1411 1422]\n"
     ]
    },
    {
     "data": {
      "text/plain": [
       "4705"
      ]
     },
     "execution_count": 18,
     "metadata": {},
     "output_type": "execute_result"
    }
   ],
   "source": [
    "filt = (df_tuesday[\"location\"] ==\"checkout\")\n",
    "regular_checkouts = df_tuesday[filt][\"customer_no\"].unique() ## All the customers who regularly checked out \n",
    "all_customers = df_tuesday[\"customer_no\"]\n",
    "rushed_customers = all_customers[~all_customers.isin(regular_checkouts)].unique()\n",
    "print(rushed_customers)\n",
    "\n",
    "for customer in rushed_customers: \n",
    "    filt = (df_tuesday[\"customer_no\"]==customer)\n",
    "    df_tuesday.drop(df_tuesday[filt].index,inplace=True) \n",
    "len(df_tuesday)"
   ]
  },
  {
   "cell_type": "markdown",
   "id": "8b63c549-a286-4eaa-91dd-267e8872ba12",
   "metadata": {},
   "source": [
    "Now let's finally tackle **task 4**: "
   ]
  },
  {
   "cell_type": "code",
   "execution_count": 19,
   "id": "38fd3838-782b-4d8c-91fb-b9fa62b62739",
   "metadata": {},
   "outputs": [
    {
     "data": {
      "text/plain": [
       "2    2019-09-03 07:03:00\n",
       "13   2019-09-03 07:10:00\n",
       "Name: timestamp, dtype: datetime64[ns]"
      ]
     },
     "execution_count": 19,
     "metadata": {},
     "output_type": "execute_result"
    }
   ],
   "source": [
    "groups = df_tuesday.groupby(\"customer_no\")[\"timestamp\"]\n",
    "groups.get_group(3)"
   ]
  },
  {
   "cell_type": "code",
   "execution_count": 20,
   "id": "a4511491-f486-4790-a5b6-97b26ae7ca3b",
   "metadata": {},
   "outputs": [],
   "source": [
    "time_spent= df_tuesday.groupby(\"customer_no\")[\"timestamp\"].transform(lambda x: x.max()-x.min()) \n",
    "#Works exaktly like in the example\n",
    "\n",
    "df_tuesday[\"time_spent_total\"] = time_spent"
   ]
  },
  {
   "cell_type": "code",
   "execution_count": 21,
   "id": "5dcbe349-17c6-450e-8655-a4a56dde3b96",
   "metadata": {},
   "outputs": [
    {
     "data": {
      "text/html": [
       "<div>\n",
       "<style scoped>\n",
       "    .dataframe tbody tr th:only-of-type {\n",
       "        vertical-align: middle;\n",
       "    }\n",
       "\n",
       "    .dataframe tbody tr th {\n",
       "        vertical-align: top;\n",
       "    }\n",
       "\n",
       "    .dataframe thead th {\n",
       "        text-align: right;\n",
       "    }\n",
       "</style>\n",
       "<table border=\"1\" class=\"dataframe\">\n",
       "  <thead>\n",
       "    <tr style=\"text-align: right;\">\n",
       "      <th></th>\n",
       "      <th>timestamp</th>\n",
       "      <th>customer_no</th>\n",
       "      <th>location</th>\n",
       "      <th>time_spent_total</th>\n",
       "    </tr>\n",
       "  </thead>\n",
       "  <tbody>\n",
       "    <tr>\n",
       "      <th>0</th>\n",
       "      <td>2019-09-03 07:02:00</td>\n",
       "      <td>1</td>\n",
       "      <td>fruit</td>\n",
       "      <td>0 days 00:10:00</td>\n",
       "    </tr>\n",
       "  </tbody>\n",
       "</table>\n",
       "</div>"
      ],
      "text/plain": [
       "            timestamp  customer_no location time_spent_total\n",
       "0 2019-09-03 07:02:00            1    fruit  0 days 00:10:00"
      ]
     },
     "execution_count": 21,
     "metadata": {},
     "output_type": "execute_result"
    }
   ],
   "source": [
    "df_tuesday.head(1)"
   ]
  },
  {
   "cell_type": "code",
   "execution_count": 22,
   "id": "5703fac9-2435-48ff-acf4-d04a0cfc4299",
   "metadata": {},
   "outputs": [],
   "source": [
    "df_tuesday.loc[df_tuesday[\"customer_no\"]==10]\n",
    "\n",
    "time_spent_unique = df_tuesday.groupby(\"customer_no\")[\"time_spent_total\"].unique()\n",
    "time_spent_minutes = (time_spent_unique/60_000_000_000).astype(int) #Somehow it is in nanoseconds, convert to int to plot "
   ]
  },
  {
   "cell_type": "code",
   "execution_count": 23,
   "id": "e03fd77c-2178-494f-ba01-540516670c75",
   "metadata": {},
   "outputs": [
    {
     "data": {
      "image/png": "[encoded data removed]",
      "text/plain": [
       "<Figure size 1152x576 with 1 Axes>"
      ]
     },
     "metadata": {
      "needs_background": "light"
     },
     "output_type": "display_data"
    }
   ],
   "source": [
    "plt.figure(figsize=(16,8));\n",
    "plt.hist(time_spent_minutes,edgecolor='black');"
   ]
  },
  {
   "cell_type": "markdown",
   "id": "7a4559b7-ec92-4529-8731-2c476d4f1465",
   "metadata": {},
   "source": [
    "**Task 5**: Calculate the total number of customers in the supermarket over time."
   ]
  },
  {
   "cell_type": "code",
   "execution_count": 24,
   "id": "b9d150fd-47bb-49ec-92ff-99e7d36054f5",
   "metadata": {},
   "outputs": [
    {
     "data": {
      "text/html": [
       "<div>\n",
       "<style scoped>\n",
       "    .dataframe tbody tr th:only-of-type {\n",
       "        vertical-align: middle;\n",
       "    }\n",
       "\n",
       "    .dataframe tbody tr th {\n",
       "        vertical-align: top;\n",
       "    }\n",
       "\n",
       "    .dataframe thead th {\n",
       "        text-align: right;\n",
       "    }\n",
       "</style>\n",
       "<table border=\"1\" class=\"dataframe\">\n",
       "  <thead>\n",
       "    <tr style=\"text-align: right;\">\n",
       "      <th></th>\n",
       "      <th>customer_no</th>\n",
       "      <th>location</th>\n",
       "    </tr>\n",
       "    <tr>\n",
       "      <th>timestamp</th>\n",
       "      <th></th>\n",
       "      <th></th>\n",
       "    </tr>\n",
       "  </thead>\n",
       "  <tbody>\n",
       "    <tr>\n",
       "      <th>2019-09-03 07:02:00</th>\n",
       "      <td>1</td>\n",
       "      <td>fruit</td>\n",
       "    </tr>\n",
       "    <tr>\n",
       "      <th>2019-09-03 07:02:00</th>\n",
       "      <td>2</td>\n",
       "      <td>drinks</td>\n",
       "    </tr>\n",
       "    <tr>\n",
       "      <th>2019-09-03 07:03:00</th>\n",
       "      <td>3</td>\n",
       "      <td>dairy</td>\n",
       "    </tr>\n",
       "    <tr>\n",
       "      <th>2019-09-03 07:05:00</th>\n",
       "      <td>1</td>\n",
       "      <td>drinks</td>\n",
       "    </tr>\n",
       "    <tr>\n",
       "      <th>2019-09-03 07:06:00</th>\n",
       "      <td>4</td>\n",
       "      <td>dairy</td>\n",
       "    </tr>\n",
       "    <tr>\n",
       "      <th>...</th>\n",
       "      <td>...</td>\n",
       "      <td>...</td>\n",
       "    </tr>\n",
       "    <tr>\n",
       "      <th>2019-09-03 21:46:00</th>\n",
       "      <td>1420</td>\n",
       "      <td>checkout</td>\n",
       "    </tr>\n",
       "    <tr>\n",
       "      <th>2019-09-03 21:46:00</th>\n",
       "      <td>1421</td>\n",
       "      <td>fruit</td>\n",
       "    </tr>\n",
       "    <tr>\n",
       "      <th>2019-09-03 21:47:00</th>\n",
       "      <td>1421</td>\n",
       "      <td>drinks</td>\n",
       "    </tr>\n",
       "    <tr>\n",
       "      <th>2019-09-03 21:48:00</th>\n",
       "      <td>1421</td>\n",
       "      <td>checkout</td>\n",
       "    </tr>\n",
       "    <tr>\n",
       "      <th>2019-09-03 21:49:00</th>\n",
       "      <td>1412</td>\n",
       "      <td>checkout</td>\n",
       "    </tr>\n",
       "  </tbody>\n",
       "</table>\n",
       "<p>4705 rows × 2 columns</p>\n",
       "</div>"
      ],
      "text/plain": [
       "                     customer_no  location\n",
       "timestamp                                 \n",
       "2019-09-03 07:02:00            1     fruit\n",
       "2019-09-03 07:02:00            2    drinks\n",
       "2019-09-03 07:03:00            3     dairy\n",
       "2019-09-03 07:05:00            1    drinks\n",
       "2019-09-03 07:06:00            4     dairy\n",
       "...                          ...       ...\n",
       "2019-09-03 21:46:00         1420  checkout\n",
       "2019-09-03 21:46:00         1421     fruit\n",
       "2019-09-03 21:47:00         1421    drinks\n",
       "2019-09-03 21:48:00         1421  checkout\n",
       "2019-09-03 21:49:00         1412  checkout\n",
       "\n",
       "[4705 rows x 2 columns]"
      ]
     },
     "execution_count": 24,
     "metadata": {},
     "output_type": "execute_result"
    }
   ],
   "source": [
    "df_tuesday.set_index(\"timestamp\",inplace=True)\n",
    "df_tuesday.drop(\"time_spent_total\",axis=1)"
   ]
  },
  {
   "cell_type": "code",
   "execution_count": 25,
   "id": "560312db-6c06-4ccf-89ed-6f4d2ec41b6e",
   "metadata": {},
   "outputs": [
    {
     "data": {
      "image/png": "[encoded data removed]",
      "text/plain": [
       "<Figure size 432x288 with 1 Axes>"
      ]
     },
     "metadata": {
      "needs_background": "light"
     },
     "output_type": "display_data"
    }
   ],
   "source": [
    "df_tuesday.resample(\"h\")[\"customer_no\"].nunique().plot();"
   ]
  },
  {
   "cell_type": "markdown",
   "id": "8ffb1ca9-cebc-4bbb-a92f-78235be0fdce",
   "metadata": {},
   "source": [
    "**Task 6**: Our business managers think that the **first section customers visit follows a different pattern than the following ones**. Plot the distribution of customers of their first visited section versus following sections (treat all sections visited after the first as “following”)."
   ]
  },
  {
   "cell_type": "markdown",
   "id": "0d05f805-49aa-428b-b57b-ecde032c5b9c",
   "metadata": {},
   "source": [
    "I am not sure wether the following code actually answers the questions, but I tried my best"
   ]
  },
  {
   "cell_type": "code",
   "execution_count": 26,
   "id": "5bbd8b59-d4eb-475e-ba38-6a2b10e9703e",
   "metadata": {},
   "outputs": [
    {
     "data": {
      "text/html": [
       "<div>\n",
       "<style scoped>\n",
       "    .dataframe tbody tr th:only-of-type {\n",
       "        vertical-align: middle;\n",
       "    }\n",
       "\n",
       "    .dataframe tbody tr th {\n",
       "        vertical-align: top;\n",
       "    }\n",
       "\n",
       "    .dataframe thead th {\n",
       "        text-align: right;\n",
       "    }\n",
       "</style>\n",
       "<table border=\"1\" class=\"dataframe\">\n",
       "  <thead>\n",
       "    <tr style=\"text-align: right;\">\n",
       "      <th></th>\n",
       "      <th>customer_no</th>\n",
       "      <th>location</th>\n",
       "      <th>time_spent_total</th>\n",
       "      <th>timestamp</th>\n",
       "    </tr>\n",
       "    <tr>\n",
       "      <th>timestamp</th>\n",
       "      <th></th>\n",
       "      <th></th>\n",
       "      <th></th>\n",
       "      <th></th>\n",
       "    </tr>\n",
       "  </thead>\n",
       "  <tbody>\n",
       "    <tr>\n",
       "      <th>2019-09-03 07:02:00</th>\n",
       "      <td>1</td>\n",
       "      <td>fruit</td>\n",
       "      <td>0 days 00:10:00</td>\n",
       "      <td>2019-09-03 07:02:00</td>\n",
       "    </tr>\n",
       "    <tr>\n",
       "      <th>2019-09-03 07:02:00</th>\n",
       "      <td>2</td>\n",
       "      <td>drinks</td>\n",
       "      <td>0 days 00:15:00</td>\n",
       "      <td>2019-09-03 07:02:00</td>\n",
       "    </tr>\n",
       "    <tr>\n",
       "      <th>2019-09-03 07:03:00</th>\n",
       "      <td>3</td>\n",
       "      <td>dairy</td>\n",
       "      <td>0 days 00:07:00</td>\n",
       "      <td>2019-09-03 07:03:00</td>\n",
       "    </tr>\n",
       "    <tr>\n",
       "      <th>2019-09-03 07:05:00</th>\n",
       "      <td>1</td>\n",
       "      <td>drinks</td>\n",
       "      <td>0 days 00:10:00</td>\n",
       "      <td>2019-09-03 07:05:00</td>\n",
       "    </tr>\n",
       "    <tr>\n",
       "      <th>2019-09-03 07:06:00</th>\n",
       "      <td>4</td>\n",
       "      <td>dairy</td>\n",
       "      <td>0 days 00:06:00</td>\n",
       "      <td>2019-09-03 07:06:00</td>\n",
       "    </tr>\n",
       "  </tbody>\n",
       "</table>\n",
       "</div>"
      ],
      "text/plain": [
       "                     customer_no location time_spent_total           timestamp\n",
       "timestamp                                                                     \n",
       "2019-09-03 07:02:00            1    fruit  0 days 00:10:00 2019-09-03 07:02:00\n",
       "2019-09-03 07:02:00            2   drinks  0 days 00:15:00 2019-09-03 07:02:00\n",
       "2019-09-03 07:03:00            3    dairy  0 days 00:07:00 2019-09-03 07:03:00\n",
       "2019-09-03 07:05:00            1   drinks  0 days 00:10:00 2019-09-03 07:05:00\n",
       "2019-09-03 07:06:00            4    dairy  0 days 00:06:00 2019-09-03 07:06:00"
      ]
     },
     "execution_count": 26,
     "metadata": {},
     "output_type": "execute_result"
    }
   ],
   "source": [
    "#Reload the tuesday \n",
    "#df_tuesday.drop(\"time_spent_total\",axis=1,inplace=True)\n",
    "df_tuesday[\"timestamp\"] = df_tuesday.index\n",
    "df_tuesday.head()"
   ]
  },
  {
   "cell_type": "code",
   "execution_count": 27,
   "id": "31b54572-bec7-4b0f-9253-ee729c7c1450",
   "metadata": {},
   "outputs": [],
   "source": [
    "groups = df_tuesday.groupby(\"customer_no\")[\"location\"]"
   ]
  },
  {
   "cell_type": "markdown",
   "id": "d33fe184-611e-4d5d-b35b-d063d8809b2b",
   "metadata": {},
   "source": [
    "I had to see what was going wrong "
   ]
  },
  {
   "cell_type": "code",
   "execution_count": 28,
   "id": "fb97c26c-8064-4414-8a5f-563874ecda61",
   "metadata": {},
   "outputs": [
    {
     "data": {
      "image/png": "[encoded data removed]",
      "text/plain": [
       "<Figure size 432x288 with 1 Axes>"
      ]
     },
     "metadata": {
      "needs_background": "light"
     },
     "output_type": "display_data"
    }
   ],
   "source": [
    "locations_first_visited = []\n",
    "customers = df_tuesday[\"customer_no\"].unique()\n",
    "for customer in customers: \n",
    "    #print(f\"customer:{customer}\")\n",
    "    #print(groups.get_group(customer))\n",
    "    locations_first_visited.append(groups.get_group(customer)[0]) #Note: The ordering, the first entry is the first visit! \n",
    "\n",
    "plt.hist(locations_first_visited);"
   ]
  },
  {
   "cell_type": "code",
   "execution_count": 33,
   "id": "1ed01762-9790-4a02-ae26-f774888098fe",
   "metadata": {},
   "outputs": [],
   "source": [
    "first_visits = pd.Series(locations_first_visited)"
   ]
  },
  {
   "cell_type": "code",
   "execution_count": 36,
   "id": "5a81a045-a582-49d7-a438-2018c64384a0",
   "metadata": {},
   "outputs": [],
   "source": [
    "distr = first_visits.value_counts()"
   ]
  },
  {
   "cell_type": "code",
   "execution_count": 35,
   "id": "80f49ec9-5083-47fd-9597-bd0f53e18244",
   "metadata": {},
   "outputs": [
    {
     "data": {
      "text/plain": [
       "1420"
      ]
     },
     "execution_count": 35,
     "metadata": {},
     "output_type": "execute_result"
    }
   ],
   "source": [
    "first_visits.value_counts().sum()"
   ]
  },
  {
   "cell_type": "code",
   "execution_count": 47,
   "id": "56c56253-6ae2-4332-9438-8d081684432e",
   "metadata": {},
   "outputs": [
    {
     "data": {
      "text/plain": [
       "fruit     0.393662\n",
       "dairy     0.292958\n",
       "spices    0.159155\n",
       "drinks    0.154225\n",
       "dtype: float64"
      ]
     },
     "execution_count": 47,
     "metadata": {},
     "output_type": "execute_result"
    }
   ],
   "source": [
    "distr/1420"
   ]
  },
  {
   "cell_type": "code",
   "execution_count": 29,
   "id": "0214ec93-ab87-4f23-92d7-2edf17fae427",
   "metadata": {},
   "outputs": [],
   "source": [
    "following_sections=[]\n",
    "counter=0\n",
    "for customer in customers:\n",
    "    #print(counter)\n",
    "    following_sections.append(groups.get_group(customer)[1:-1].astype(str).values.tolist()) #skip the first one and \"checkout\" \n",
    "    #print(groups.get_group(customer))\n",
    "    #counter+=1\n",
    "    \n",
    "lst = list(following_sections)\n",
    "\n"
   ]
  },
  {
   "cell_type": "code",
   "execution_count": 30,
   "id": "db47cc66-3360-441e-9863-a74b6d1eab7d",
   "metadata": {},
   "outputs": [],
   "source": [
    "flat_list = []"
   ]
  },
  {
   "cell_type": "code",
   "execution_count": 31,
   "id": "420a1c48-2f39-48b3-bfee-9a647d404889",
   "metadata": {},
   "outputs": [],
   "source": [
    "for one_lst in lst: \n",
    "    for element in one_lst: \n",
    "            flat_list.append(element) #Somehow the nice list comprehension didn't work so I had to work with nested for-loops"
   ]
  },
  {
   "cell_type": "code",
   "execution_count": 32,
   "id": "cfdc767c-50f9-4b18-9de1-e3d9225d3422",
   "metadata": {},
   "outputs": [
    {
     "data": {
      "image/png": "[encoded data removed]",
      "text/plain": [
       "<Figure size 432x288 with 1 Axes>"
      ]
     },
     "metadata": {
      "needs_background": "light"
     },
     "output_type": "display_data"
    }
   ],
   "source": [
    "plt.hist(flat_list);"
   ]
  },
  {
   "cell_type": "markdown",
   "id": "dc1911d3",
   "metadata": {},
   "source": [
    "### Get some probabilites for customer visit given time (note that I only use tuesday, since I am a bit lazy today)"
   ]
  },
  {
   "cell_type": "code",
   "execution_count": 26,
   "id": "10637f12",
   "metadata": {},
   "outputs": [
    {
     "name": "stdout",
     "output_type": "stream",
     "text": [
      "<class 'pandas.core.frame.DataFrame'>\n",
      "RangeIndex: 4714 entries, 0 to 4713\n",
      "Data columns (total 3 columns):\n",
      " #   Column       Non-Null Count  Dtype         \n",
      "---  ------       --------------  -----         \n",
      " 0   timestamp    4714 non-null   datetime64[ns]\n",
      " 1   customer_no  4714 non-null   int64         \n",
      " 2   location     4714 non-null   object        \n",
      "dtypes: datetime64[ns](1), int64(1), object(1)\n",
      "memory usage: 110.6+ KB\n"
     ]
    }
   ],
   "source": [
    "df_tuesday.info()\n",
    "df_tuesday.set_index(\"timestamp\",inplace=True)"
   ]
  },
  {
   "cell_type": "code",
   "execution_count": 27,
   "id": "95169a79-ea0a-45c3-99f9-3d70c8820a30",
   "metadata": {},
   "outputs": [
    {
     "data": {
      "image/png": "[encoded data removed]",
      "text/plain": [
       "<Figure size 432x288 with 1 Axes>"
      ]
     },
     "metadata": {
      "needs_background": "light"
     },
     "output_type": "display_data"
    }
   ],
   "source": [
    "ax = df_tuesday.resample(\"1min\")[\"customer_no\"].nunique().plot(title=\"# of customers in dairy by min\",\n",
    "                                                  kind=\"bar\",\n",
    "                                                  xlabel=\"Minutes (Tuesday)\", ylabel=\"# Customers\");\n",
    "ax.set_xticklabels(labels=[]);"
   ]
  },
  {
   "cell_type": "code",
   "execution_count": 58,
   "id": "987bd05d",
   "metadata": {},
   "outputs": [],
   "source": [
    "df = pd.DataFrame(df_tuesday.resample(\"1min\")[\"customer_no\"].nunique())\n",
    "df.rename(columns={\"customer_no\":\"count\"},inplace=True)"
   ]
  },
  {
   "cell_type": "code",
   "execution_count": 59,
   "id": "27230ab2",
   "metadata": {},
   "outputs": [
    {
     "data": {
      "text/plain": [
       "pandas.core.frame.DataFrame"
      ]
     },
     "execution_count": 59,
     "metadata": {},
     "output_type": "execute_result"
    }
   ],
   "source": [
    "type(df)"
   ]
  },
  {
   "cell_type": "code",
   "execution_count": 60,
   "id": "e3323fb0",
   "metadata": {},
   "outputs": [
    {
     "data": {
      "text/html": [
       "<div>\n",
       "<style scoped>\n",
       "    .dataframe tbody tr th:only-of-type {\n",
       "        vertical-align: middle;\n",
       "    }\n",
       "\n",
       "    .dataframe tbody tr th {\n",
       "        vertical-align: top;\n",
       "    }\n",
       "\n",
       "    .dataframe thead th {\n",
       "        text-align: right;\n",
       "    }\n",
       "</style>\n",
       "<table border=\"1\" class=\"dataframe\">\n",
       "  <thead>\n",
       "    <tr style=\"text-align: right;\">\n",
       "      <th></th>\n",
       "      <th>count</th>\n",
       "    </tr>\n",
       "    <tr>\n",
       "      <th>timestamp</th>\n",
       "      <th></th>\n",
       "    </tr>\n",
       "  </thead>\n",
       "  <tbody>\n",
       "    <tr>\n",
       "      <th>2019-09-03 07:02:00</th>\n",
       "      <td>2</td>\n",
       "    </tr>\n",
       "    <tr>\n",
       "      <th>2019-09-03 07:03:00</th>\n",
       "      <td>1</td>\n",
       "    </tr>\n",
       "    <tr>\n",
       "      <th>2019-09-03 07:04:00</th>\n",
       "      <td>0</td>\n",
       "    </tr>\n",
       "    <tr>\n",
       "      <th>2019-09-03 07:05:00</th>\n",
       "      <td>1</td>\n",
       "    </tr>\n",
       "    <tr>\n",
       "      <th>2019-09-03 07:06:00</th>\n",
       "      <td>2</td>\n",
       "    </tr>\n",
       "  </tbody>\n",
       "</table>\n",
       "</div>"
      ],
      "text/plain": [
       "                     count\n",
       "timestamp                 \n",
       "2019-09-03 07:02:00      2\n",
       "2019-09-03 07:03:00      1\n",
       "2019-09-03 07:04:00      0\n",
       "2019-09-03 07:05:00      1\n",
       "2019-09-03 07:06:00      2"
      ]
     },
     "execution_count": 60,
     "metadata": {},
     "output_type": "execute_result"
    }
   ],
   "source": [
    "df.head()"
   ]
  },
  {
   "cell_type": "code",
   "execution_count": 61,
   "id": "9000a6ff",
   "metadata": {},
   "outputs": [],
   "source": [
    "customers_total = df[\"count\"].sum()\n",
    "customers_total\n",
    "df[\"probab\"] = df[\"count\"].div(customers_total)"
   ]
  },
  {
   "cell_type": "code",
   "execution_count": 62,
   "id": "84345f01",
   "metadata": {},
   "outputs": [
    {
     "data": {
      "text/html": [
       "<div>\n",
       "<style scoped>\n",
       "    .dataframe tbody tr th:only-of-type {\n",
       "        vertical-align: middle;\n",
       "    }\n",
       "\n",
       "    .dataframe tbody tr th {\n",
       "        vertical-align: top;\n",
       "    }\n",
       "\n",
       "    .dataframe thead th {\n",
       "        text-align: right;\n",
       "    }\n",
       "</style>\n",
       "<table border=\"1\" class=\"dataframe\">\n",
       "  <thead>\n",
       "    <tr style=\"text-align: right;\">\n",
       "      <th></th>\n",
       "      <th>count</th>\n",
       "      <th>probab</th>\n",
       "    </tr>\n",
       "    <tr>\n",
       "      <th>timestamp</th>\n",
       "      <th></th>\n",
       "      <th></th>\n",
       "    </tr>\n",
       "  </thead>\n",
       "  <tbody>\n",
       "    <tr>\n",
       "      <th>2019-09-03 07:02:00</th>\n",
       "      <td>2</td>\n",
       "      <td>0.000424</td>\n",
       "    </tr>\n",
       "    <tr>\n",
       "      <th>2019-09-03 07:03:00</th>\n",
       "      <td>1</td>\n",
       "      <td>0.000212</td>\n",
       "    </tr>\n",
       "    <tr>\n",
       "      <th>2019-09-03 07:04:00</th>\n",
       "      <td>0</td>\n",
       "      <td>0.000000</td>\n",
       "    </tr>\n",
       "    <tr>\n",
       "      <th>2019-09-03 07:05:00</th>\n",
       "      <td>1</td>\n",
       "      <td>0.000212</td>\n",
       "    </tr>\n",
       "    <tr>\n",
       "      <th>2019-09-03 07:06:00</th>\n",
       "      <td>2</td>\n",
       "      <td>0.000424</td>\n",
       "    </tr>\n",
       "  </tbody>\n",
       "</table>\n",
       "</div>"
      ],
      "text/plain": [
       "                     count    probab\n",
       "timestamp                           \n",
       "2019-09-03 07:02:00      2  0.000424\n",
       "2019-09-03 07:03:00      1  0.000212\n",
       "2019-09-03 07:04:00      0  0.000000\n",
       "2019-09-03 07:05:00      1  0.000212\n",
       "2019-09-03 07:06:00      2  0.000424"
      ]
     },
     "execution_count": 62,
     "metadata": {},
     "output_type": "execute_result"
    }
   ],
   "source": [
    "df.head()"
   ]
  },
  {
   "cell_type": "code",
   "execution_count": 63,
   "id": "758057f0",
   "metadata": {},
   "outputs": [
    {
     "data": {
      "text/plain": [
       "1.0"
      ]
     },
     "execution_count": 63,
     "metadata": {},
     "output_type": "execute_result"
    }
   ],
   "source": [
    "df[\"probab\"].sum()"
   ]
  },
  {
   "cell_type": "code",
   "execution_count": 68,
   "id": "d4af6f84",
   "metadata": {},
   "outputs": [],
   "source": [
    "thirty_min_steps_prob = df.resample(\"30min\")[\"probab\"].sum()"
   ]
  },
  {
   "cell_type": "code",
   "execution_count": 71,
   "id": "49d0e750",
   "metadata": {},
   "outputs": [
    {
     "data": {
      "text/plain": [
       "<AxesSubplot:xlabel='timestamp'>"
      ]
     },
     "execution_count": 71,
     "metadata": {},
     "output_type": "execute_result"
    },
    {
     "data": {
      "image/png": "[encoded data removed]",
      "text/plain": [
       "<Figure size 432x288 with 1 Axes>"
      ]
     },
     "metadata": {
      "needs_background": "light"
     },
     "output_type": "display_data"
    }
   ],
   "source": [
    "df.resample(\"30min\")[\"probab\"].sum().plot()"
   ]
  },
  {
   "cell_type": "code",
   "execution_count": 74,
   "id": "e3919202",
   "metadata": {},
   "outputs": [
    {
     "data": {
      "text/plain": [
       "timestamp\n",
       "2019-09-03 07:00:00    0.030335\n",
       "2019-09-03 07:30:00    0.039245\n",
       "2019-09-03 08:00:00    0.052397\n",
       "2019-09-03 08:30:00    0.045821\n",
       "2019-09-03 09:00:00    0.030972\n",
       "Freq: 30T, Name: probab, dtype: float64"
      ]
     },
     "execution_count": 74,
     "metadata": {},
     "output_type": "execute_result"
    }
   ],
   "source": [
    "thirty_min_steps_prob.head()"
   ]
  },
  {
   "cell_type": "code",
   "execution_count": 72,
   "id": "7b41ab46",
   "metadata": {},
   "outputs": [
    {
     "data": {
      "text/plain": [
       "1.0"
      ]
     },
     "execution_count": 72,
     "metadata": {},
     "output_type": "execute_result"
    }
   ],
   "source": [
    "thirty_min_steps_prob.sum()"
   ]
  },
  {
   "cell_type": "code",
   "execution_count": 78,
   "id": "254549e9",
   "metadata": {},
   "outputs": [],
   "source": [
    "df_resampled = df.resample(\"30min\")[\"probab\",\"count\"].sum()"
   ]
  },
  {
   "cell_type": "code",
   "execution_count": 80,
   "id": "f0aeffa2",
   "metadata": {},
   "outputs": [
    {
     "data": {
      "text/html": [
       "<div>\n",
       "<style scoped>\n",
       "    .dataframe tbody tr th:only-of-type {\n",
       "        vertical-align: middle;\n",
       "    }\n",
       "\n",
       "    .dataframe tbody tr th {\n",
       "        vertical-align: top;\n",
       "    }\n",
       "\n",
       "    .dataframe thead th {\n",
       "        text-align: right;\n",
       "    }\n",
       "</style>\n",
       "<table border=\"1\" class=\"dataframe\">\n",
       "  <thead>\n",
       "    <tr style=\"text-align: right;\">\n",
       "      <th></th>\n",
       "      <th>probab</th>\n",
       "      <th>count</th>\n",
       "    </tr>\n",
       "    <tr>\n",
       "      <th>timestamp</th>\n",
       "      <th></th>\n",
       "      <th></th>\n",
       "    </tr>\n",
       "  </thead>\n",
       "  <tbody>\n",
       "    <tr>\n",
       "      <th>2019-09-03 07:00:00</th>\n",
       "      <td>0.030335</td>\n",
       "      <td>143</td>\n",
       "    </tr>\n",
       "    <tr>\n",
       "      <th>2019-09-03 07:30:00</th>\n",
       "      <td>0.039245</td>\n",
       "      <td>185</td>\n",
       "    </tr>\n",
       "    <tr>\n",
       "      <th>2019-09-03 08:00:00</th>\n",
       "      <td>0.052397</td>\n",
       "      <td>247</td>\n",
       "    </tr>\n",
       "    <tr>\n",
       "      <th>2019-09-03 08:30:00</th>\n",
       "      <td>0.045821</td>\n",
       "      <td>216</td>\n",
       "    </tr>\n",
       "    <tr>\n",
       "      <th>2019-09-03 09:00:00</th>\n",
       "      <td>0.030972</td>\n",
       "      <td>146</td>\n",
       "    </tr>\n",
       "  </tbody>\n",
       "</table>\n",
       "</div>"
      ],
      "text/plain": [
       "                       probab  count\n",
       "timestamp                           \n",
       "2019-09-03 07:00:00  0.030335    143\n",
       "2019-09-03 07:30:00  0.039245    185\n",
       "2019-09-03 08:00:00  0.052397    247\n",
       "2019-09-03 08:30:00  0.045821    216\n",
       "2019-09-03 09:00:00  0.030972    146"
      ]
     },
     "execution_count": 80,
     "metadata": {},
     "output_type": "execute_result"
    }
   ],
   "source": [
    "df_resampled.head()"
   ]
  },
  {
   "cell_type": "code",
   "execution_count": 85,
   "id": "c1e86806",
   "metadata": {},
   "outputs": [],
   "source": [
    "df_resampled.to_csv(\"event_probab.csv\")"
   ]
  },
  {
   "cell_type": "code",
   "execution_count": 73,
   "id": "e038fa12",
   "metadata": {},
   "outputs": [],
   "source": [
    "import random as rd"
   ]
  },
  {
   "cell_type": "code",
   "execution_count": 84,
   "id": "32a60e9f",
   "metadata": {},
   "outputs": [
    {
     "data": {
      "text/plain": [
       "[[Timestamp('2019-09-03 21:30:00', freq='30T')],\n",
       " [Timestamp('2019-09-03 16:30:00', freq='30T')],\n",
       " [Timestamp('2019-09-03 21:00:00', freq='30T')],\n",
       " [Timestamp('2019-09-03 09:30:00', freq='30T')],\n",
       " [Timestamp('2019-09-03 07:30:00', freq='30T')],\n",
       " [Timestamp('2019-09-03 13:30:00', freq='30T')],\n",
       " [Timestamp('2019-09-03 14:30:00', freq='30T')],\n",
       " [Timestamp('2019-09-03 14:00:00', freq='30T')],\n",
       " [Timestamp('2019-09-03 21:00:00', freq='30T')],\n",
       " [Timestamp('2019-09-03 21:00:00', freq='30T')],\n",
       " [Timestamp('2019-09-03 15:00:00', freq='30T')],\n",
       " [Timestamp('2019-09-03 08:00:00', freq='30T')],\n",
       " [Timestamp('2019-09-03 07:00:00', freq='30T')],\n",
       " [Timestamp('2019-09-03 18:30:00', freq='30T')],\n",
       " [Timestamp('2019-09-03 13:30:00', freq='30T')],\n",
       " [Timestamp('2019-09-03 08:00:00', freq='30T')],\n",
       " [Timestamp('2019-09-03 20:00:00', freq='30T')],\n",
       " [Timestamp('2019-09-03 17:00:00', freq='30T')],\n",
       " [Timestamp('2019-09-03 18:00:00', freq='30T')],\n",
       " [Timestamp('2019-09-03 21:00:00', freq='30T')],\n",
       " [Timestamp('2019-09-03 16:30:00', freq='30T')],\n",
       " [Timestamp('2019-09-03 17:30:00', freq='30T')],\n",
       " [Timestamp('2019-09-03 13:30:00', freq='30T')],\n",
       " [Timestamp('2019-09-03 17:00:00', freq='30T')],\n",
       " [Timestamp('2019-09-03 16:00:00', freq='30T')],\n",
       " [Timestamp('2019-09-03 09:00:00', freq='30T')],\n",
       " [Timestamp('2019-09-03 13:00:00', freq='30T')],\n",
       " [Timestamp('2019-09-03 17:30:00', freq='30T')],\n",
       " [Timestamp('2019-09-03 15:00:00', freq='30T')],\n",
       " [Timestamp('2019-09-03 09:00:00', freq='30T')],\n",
       " [Timestamp('2019-09-03 08:00:00', freq='30T')],\n",
       " [Timestamp('2019-09-03 15:30:00', freq='30T')],\n",
       " [Timestamp('2019-09-03 08:00:00', freq='30T')],\n",
       " [Timestamp('2019-09-03 20:30:00', freq='30T')],\n",
       " [Timestamp('2019-09-03 14:00:00', freq='30T')],\n",
       " [Timestamp('2019-09-03 21:30:00', freq='30T')],\n",
       " [Timestamp('2019-09-03 20:00:00', freq='30T')],\n",
       " [Timestamp('2019-09-03 17:30:00', freq='30T')],\n",
       " [Timestamp('2019-09-03 18:00:00', freq='30T')],\n",
       " [Timestamp('2019-09-03 10:30:00', freq='30T')],\n",
       " [Timestamp('2019-09-03 07:00:00', freq='30T')],\n",
       " [Timestamp('2019-09-03 13:00:00', freq='30T')],\n",
       " [Timestamp('2019-09-03 07:00:00', freq='30T')],\n",
       " [Timestamp('2019-09-03 08:00:00', freq='30T')],\n",
       " [Timestamp('2019-09-03 17:30:00', freq='30T')],\n",
       " [Timestamp('2019-09-03 16:00:00', freq='30T')],\n",
       " [Timestamp('2019-09-03 16:30:00', freq='30T')],\n",
       " [Timestamp('2019-09-03 19:30:00', freq='30T')],\n",
       " [Timestamp('2019-09-03 16:00:00', freq='30T')],\n",
       " [Timestamp('2019-09-03 21:00:00', freq='30T')],\n",
       " [Timestamp('2019-09-03 19:00:00', freq='30T')],\n",
       " [Timestamp('2019-09-03 19:30:00', freq='30T')],\n",
       " [Timestamp('2019-09-03 19:30:00', freq='30T')],\n",
       " [Timestamp('2019-09-03 08:00:00', freq='30T')],\n",
       " [Timestamp('2019-09-03 16:00:00', freq='30T')],\n",
       " [Timestamp('2019-09-03 19:00:00', freq='30T')],\n",
       " [Timestamp('2019-09-03 16:00:00', freq='30T')],\n",
       " [Timestamp('2019-09-03 10:00:00', freq='30T')],\n",
       " [Timestamp('2019-09-03 09:30:00', freq='30T')],\n",
       " [Timestamp('2019-09-03 16:00:00', freq='30T')],\n",
       " [Timestamp('2019-09-03 11:00:00', freq='30T')],\n",
       " [Timestamp('2019-09-03 16:30:00', freq='30T')],\n",
       " [Timestamp('2019-09-03 20:00:00', freq='30T')],\n",
       " [Timestamp('2019-09-03 18:30:00', freq='30T')],\n",
       " [Timestamp('2019-09-03 18:30:00', freq='30T')],\n",
       " [Timestamp('2019-09-03 20:30:00', freq='30T')],\n",
       " [Timestamp('2019-09-03 08:00:00', freq='30T')],\n",
       " [Timestamp('2019-09-03 20:30:00', freq='30T')],\n",
       " [Timestamp('2019-09-03 21:30:00', freq='30T')],\n",
       " [Timestamp('2019-09-03 19:00:00', freq='30T')],\n",
       " [Timestamp('2019-09-03 16:00:00', freq='30T')],\n",
       " [Timestamp('2019-09-03 20:30:00', freq='30T')],\n",
       " [Timestamp('2019-09-03 19:30:00', freq='30T')],\n",
       " [Timestamp('2019-09-03 18:30:00', freq='30T')],\n",
       " [Timestamp('2019-09-03 08:00:00', freq='30T')],\n",
       " [Timestamp('2019-09-03 18:00:00', freq='30T')],\n",
       " [Timestamp('2019-09-03 13:00:00', freq='30T')],\n",
       " [Timestamp('2019-09-03 16:30:00', freq='30T')],\n",
       " [Timestamp('2019-09-03 10:00:00', freq='30T')],\n",
       " [Timestamp('2019-09-03 21:00:00', freq='30T')],\n",
       " [Timestamp('2019-09-03 16:30:00', freq='30T')],\n",
       " [Timestamp('2019-09-03 18:00:00', freq='30T')],\n",
       " [Timestamp('2019-09-03 13:00:00', freq='30T')],\n",
       " [Timestamp('2019-09-03 07:30:00', freq='30T')],\n",
       " [Timestamp('2019-09-03 14:30:00', freq='30T')],\n",
       " [Timestamp('2019-09-03 18:30:00', freq='30T')],\n",
       " [Timestamp('2019-09-03 20:30:00', freq='30T')],\n",
       " [Timestamp('2019-09-03 14:00:00', freq='30T')],\n",
       " [Timestamp('2019-09-03 09:00:00', freq='30T')],\n",
       " [Timestamp('2019-09-03 18:30:00', freq='30T')],\n",
       " [Timestamp('2019-09-03 17:30:00', freq='30T')],\n",
       " [Timestamp('2019-09-03 19:00:00', freq='30T')],\n",
       " [Timestamp('2019-09-03 20:00:00', freq='30T')],\n",
       " [Timestamp('2019-09-03 13:00:00', freq='30T')],\n",
       " [Timestamp('2019-09-03 14:00:00', freq='30T')],\n",
       " [Timestamp('2019-09-03 11:00:00', freq='30T')],\n",
       " [Timestamp('2019-09-03 19:30:00', freq='30T')],\n",
       " [Timestamp('2019-09-03 17:00:00', freq='30T')],\n",
       " [Timestamp('2019-09-03 19:30:00', freq='30T')],\n",
       " [Timestamp('2019-09-03 17:00:00', freq='30T')]]"
      ]
     },
     "execution_count": 84,
     "metadata": {},
     "output_type": "execute_result"
    }
   ],
   "source": [
    "visits = []\n",
    "customer_no = 100\n",
    "for i in range(0,customer_no):\n",
    "    visits.append(rd.choices(df_resampled.index,df_resampled[\"probab\"]))\n",
    "visits"
   ]
  },
  {
   "cell_type": "code",
   "execution_count": 82,
   "id": "cc7ceb06",
   "metadata": {},
   "outputs": [
    {
     "data": {
      "text/plain": [
       "[Timestamp('2019-09-03 16:00:00', freq='30T')]"
      ]
     },
     "execution_count": 82,
     "metadata": {},
     "output_type": "execute_result"
    }
   ],
   "source": [
    "visits"
   ]
  },
  {
   "cell_type": "code",
   "execution_count": null,
   "id": "1351efb2",
   "metadata": {},
   "outputs": [],
   "source": []
  }
 ],
 "metadata": {
  "kernelspec": {
   "display_name": "Python 3 (ipykernel)",
   "language": "python",
   "name": "python3"
  },
  "language_info": {
   "codemirror_mode": {
    "name": "ipython",
    "version": 3
   },
   "file_extension": ".py",
   "mimetype": "text/x-python",
   "name": "python",
   "nbconvert_exporter": "python",
   "pygments_lexer": "ipython3",
   "version": "3.10.4"
  },
  "vscode": {
   "interpreter": {
    "hash": "916dbcbb3f70747c44a77c7bcd40155683ae19c65e1c03b4aa3499c5328201f1"
   }
  }
 },
 "nbformat": 4,
 "nbformat_minor": 5
}
