{
 "cells": [
  {
   "cell_type": "markdown",
   "id": "9408196f-d97e-42b5-a47f-5abbc8a1d774",
   "metadata": {
    "tags": []
   },
   "source": [
    "## First Week Project: Create an animated scatterplot  "
   ]
  },
  {
   "cell_type": "markdown",
   "id": "c01798fc-12b6-4493-aaa8-29e6f9bc9529",
   "metadata": {
    "tags": []
   },
   "source": [
    "### Import the libraries "
   ]
  },
  {
   "cell_type": "code",
   "execution_count": 104,
   "id": "6499ae89-67a4-4202-95b6-df479e495a7a",
   "metadata": {},
   "outputs": [],
   "source": [
    "import pandas as pd\n",
    "from matplotlib import pyplot as plt \n",
    "from matplotlib import patches as mpatches\n",
    "import seaborn as sns\n",
    "import imageio"
   ]
  },
  {
   "cell_type": "markdown",
   "id": "e4f37b0b-e871-49a1-88b5-1783f30f4976",
   "metadata": {
    "tags": []
   },
   "source": [
    "### Load the Data"
   ]
  },
  {
   "cell_type": "code",
   "execution_count": 2,
   "id": "5eef3978-d5ed-4c29-8187-131be818dd12",
   "metadata": {},
   "outputs": [],
   "source": [
    "fert = pd.read_csv(\"../Data/gapminder_total_fertility.csv\")\n",
    "life = pd.read_excel(\"../Data/gapminder_lifeexpectancy.xlsx\")"
   ]
  },
  {
   "cell_type": "markdown",
   "id": "490b83d0-96a8-49b0-a336-c31794c40479",
   "metadata": {
    "tags": []
   },
   "source": [
    "### Get some information about the dataframes"
   ]
  },
  {
   "cell_type": "code",
   "execution_count": 3,
   "id": "949ab1c3-e9ed-48c5-8711-682bc00de2ba",
   "metadata": {},
   "outputs": [
    {
     "data": {
      "text/plain": [
       "(260, 217)"
      ]
     },
     "execution_count": 3,
     "metadata": {},
     "output_type": "execute_result"
    }
   ],
   "source": [
    "fert.shape"
   ]
  },
  {
   "cell_type": "code",
   "execution_count": 4,
   "id": "a9ff67f5-e16e-416b-8639-210af9dcf73b",
   "metadata": {},
   "outputs": [
    {
     "data": {
      "text/plain": [
       "(260, 218)"
      ]
     },
     "execution_count": 4,
     "metadata": {},
     "output_type": "execute_result"
    }
   ],
   "source": [
    "life.shape"
   ]
  },
  {
   "cell_type": "code",
   "execution_count": 5,
   "id": "a9180fca-a166-4e21-8824-ec98122e590d",
   "metadata": {},
   "outputs": [
    {
     "data": {
      "text/html": [
       "<div>\n",
       "<style scoped>\n",
       "    .dataframe tbody tr th:only-of-type {\n",
       "        vertical-align: middle;\n",
       "    }\n",
       "\n",
       "    .dataframe tbody tr th {\n",
       "        vertical-align: top;\n",
       "    }\n",
       "\n",
       "    .dataframe thead th {\n",
       "        text-align: right;\n",
       "    }\n",
       "</style>\n",
       "<table border=\"1\" class=\"dataframe\">\n",
       "  <thead>\n",
       "    <tr style=\"text-align: right;\">\n",
       "      <th></th>\n",
       "      <th>Total fertility rate</th>\n",
       "      <th>1800</th>\n",
       "      <th>1801</th>\n",
       "      <th>1802</th>\n",
       "      <th>1803</th>\n",
       "      <th>1804</th>\n",
       "      <th>1805</th>\n",
       "      <th>1806</th>\n",
       "      <th>1807</th>\n",
       "      <th>1808</th>\n",
       "      <th>...</th>\n",
       "      <th>2006</th>\n",
       "      <th>2007</th>\n",
       "      <th>2008</th>\n",
       "      <th>2009</th>\n",
       "      <th>2010</th>\n",
       "      <th>2011</th>\n",
       "      <th>2012</th>\n",
       "      <th>2013</th>\n",
       "      <th>2014</th>\n",
       "      <th>2015</th>\n",
       "    </tr>\n",
       "  </thead>\n",
       "  <tbody>\n",
       "    <tr>\n",
       "      <th>0</th>\n",
       "      <td>Abkhazia</td>\n",
       "      <td>NaN</td>\n",
       "      <td>NaN</td>\n",
       "      <td>NaN</td>\n",
       "      <td>NaN</td>\n",
       "      <td>NaN</td>\n",
       "      <td>NaN</td>\n",
       "      <td>NaN</td>\n",
       "      <td>NaN</td>\n",
       "      <td>NaN</td>\n",
       "      <td>...</td>\n",
       "      <td>NaN</td>\n",
       "      <td>NaN</td>\n",
       "      <td>NaN</td>\n",
       "      <td>NaN</td>\n",
       "      <td>NaN</td>\n",
       "      <td>NaN</td>\n",
       "      <td>NaN</td>\n",
       "      <td>NaN</td>\n",
       "      <td>NaN</td>\n",
       "      <td>NaN</td>\n",
       "    </tr>\n",
       "    <tr>\n",
       "      <th>1</th>\n",
       "      <td>Afghanistan</td>\n",
       "      <td>7.0</td>\n",
       "      <td>7.0</td>\n",
       "      <td>7.0</td>\n",
       "      <td>7.0</td>\n",
       "      <td>7.0</td>\n",
       "      <td>7.0</td>\n",
       "      <td>7.0</td>\n",
       "      <td>7.0</td>\n",
       "      <td>7.0</td>\n",
       "      <td>...</td>\n",
       "      <td>6.7</td>\n",
       "      <td>6.46</td>\n",
       "      <td>6.2</td>\n",
       "      <td>5.93</td>\n",
       "      <td>5.66</td>\n",
       "      <td>5.4</td>\n",
       "      <td>5.14</td>\n",
       "      <td>4.9</td>\n",
       "      <td>4.68</td>\n",
       "      <td>4.47</td>\n",
       "    </tr>\n",
       "    <tr>\n",
       "      <th>2</th>\n",
       "      <td>Akrotiri and Dhekelia</td>\n",
       "      <td>NaN</td>\n",
       "      <td>NaN</td>\n",
       "      <td>NaN</td>\n",
       "      <td>NaN</td>\n",
       "      <td>NaN</td>\n",
       "      <td>NaN</td>\n",
       "      <td>NaN</td>\n",
       "      <td>NaN</td>\n",
       "      <td>NaN</td>\n",
       "      <td>...</td>\n",
       "      <td>NaN</td>\n",
       "      <td>NaN</td>\n",
       "      <td>NaN</td>\n",
       "      <td>NaN</td>\n",
       "      <td>NaN</td>\n",
       "      <td>NaN</td>\n",
       "      <td>NaN</td>\n",
       "      <td>NaN</td>\n",
       "      <td>NaN</td>\n",
       "      <td>NaN</td>\n",
       "    </tr>\n",
       "  </tbody>\n",
       "</table>\n",
       "<p>3 rows × 217 columns</p>\n",
       "</div>"
      ],
      "text/plain": [
       "    Total fertility rate  1800  1801  1802  1803  1804  1805  1806  1807  \\\n",
       "0               Abkhazia   NaN   NaN   NaN   NaN   NaN   NaN   NaN   NaN   \n",
       "1            Afghanistan   7.0   7.0   7.0   7.0   7.0   7.0   7.0   7.0   \n",
       "2  Akrotiri and Dhekelia   NaN   NaN   NaN   NaN   NaN   NaN   NaN   NaN   \n",
       "\n",
       "   1808  ...  2006  2007  2008  2009  2010  2011  2012  2013  2014  2015  \n",
       "0   NaN  ...   NaN   NaN   NaN   NaN   NaN   NaN   NaN   NaN   NaN   NaN  \n",
       "1   7.0  ...   6.7  6.46   6.2  5.93  5.66   5.4  5.14   4.9  4.68  4.47  \n",
       "2   NaN  ...   NaN   NaN   NaN   NaN   NaN   NaN   NaN   NaN   NaN   NaN  \n",
       "\n",
       "[3 rows x 217 columns]"
      ]
     },
     "execution_count": 5,
     "metadata": {},
     "output_type": "execute_result"
    }
   ],
   "source": [
    "fert.head(3)"
   ]
  },
  {
   "cell_type": "code",
   "execution_count": 6,
   "id": "36d072bb-df57-43e3-a73d-778a48e0fd34",
   "metadata": {},
   "outputs": [
    {
     "data": {
      "text/html": [
       "<div>\n",
       "<style scoped>\n",
       "    .dataframe tbody tr th:only-of-type {\n",
       "        vertical-align: middle;\n",
       "    }\n",
       "\n",
       "    .dataframe tbody tr th {\n",
       "        vertical-align: top;\n",
       "    }\n",
       "\n",
       "    .dataframe thead th {\n",
       "        text-align: right;\n",
       "    }\n",
       "</style>\n",
       "<table border=\"1\" class=\"dataframe\">\n",
       "  <thead>\n",
       "    <tr style=\"text-align: right;\">\n",
       "      <th></th>\n",
       "      <th>Life expectancy</th>\n",
       "      <th>1800.0</th>\n",
       "      <th>1801.0</th>\n",
       "      <th>1802.0</th>\n",
       "      <th>1803.0</th>\n",
       "      <th>1804.0</th>\n",
       "      <th>1805.0</th>\n",
       "      <th>1806.0</th>\n",
       "      <th>1807.0</th>\n",
       "      <th>1808.0</th>\n",
       "      <th>...</th>\n",
       "      <th>2007.0</th>\n",
       "      <th>2008.0</th>\n",
       "      <th>2009.0</th>\n",
       "      <th>2010.0</th>\n",
       "      <th>2011.0</th>\n",
       "      <th>2012.0</th>\n",
       "      <th>2013.0</th>\n",
       "      <th>2014.0</th>\n",
       "      <th>2015.0</th>\n",
       "      <th>2016.0</th>\n",
       "    </tr>\n",
       "  </thead>\n",
       "  <tbody>\n",
       "    <tr>\n",
       "      <th>0</th>\n",
       "      <td>Abkhazia</td>\n",
       "      <td>NaN</td>\n",
       "      <td>NaN</td>\n",
       "      <td>NaN</td>\n",
       "      <td>NaN</td>\n",
       "      <td>NaN</td>\n",
       "      <td>NaN</td>\n",
       "      <td>NaN</td>\n",
       "      <td>NaN</td>\n",
       "      <td>NaN</td>\n",
       "      <td>...</td>\n",
       "      <td>NaN</td>\n",
       "      <td>NaN</td>\n",
       "      <td>NaN</td>\n",
       "      <td>NaN</td>\n",
       "      <td>NaN</td>\n",
       "      <td>NaN</td>\n",
       "      <td>NaN</td>\n",
       "      <td>NaN</td>\n",
       "      <td>NaN</td>\n",
       "      <td>NaN</td>\n",
       "    </tr>\n",
       "    <tr>\n",
       "      <th>1</th>\n",
       "      <td>Afghanistan</td>\n",
       "      <td>28.21</td>\n",
       "      <td>28.2</td>\n",
       "      <td>28.19</td>\n",
       "      <td>28.18</td>\n",
       "      <td>28.17</td>\n",
       "      <td>28.16</td>\n",
       "      <td>28.15</td>\n",
       "      <td>28.14</td>\n",
       "      <td>28.13</td>\n",
       "      <td>...</td>\n",
       "      <td>52.4</td>\n",
       "      <td>52.8</td>\n",
       "      <td>53.3</td>\n",
       "      <td>53.6</td>\n",
       "      <td>54.0</td>\n",
       "      <td>54.4</td>\n",
       "      <td>54.8</td>\n",
       "      <td>54.9</td>\n",
       "      <td>53.8</td>\n",
       "      <td>52.72</td>\n",
       "    </tr>\n",
       "    <tr>\n",
       "      <th>2</th>\n",
       "      <td>Akrotiri and Dhekelia</td>\n",
       "      <td>NaN</td>\n",
       "      <td>NaN</td>\n",
       "      <td>NaN</td>\n",
       "      <td>NaN</td>\n",
       "      <td>NaN</td>\n",
       "      <td>NaN</td>\n",
       "      <td>NaN</td>\n",
       "      <td>NaN</td>\n",
       "      <td>NaN</td>\n",
       "      <td>...</td>\n",
       "      <td>NaN</td>\n",
       "      <td>NaN</td>\n",
       "      <td>NaN</td>\n",
       "      <td>NaN</td>\n",
       "      <td>NaN</td>\n",
       "      <td>NaN</td>\n",
       "      <td>NaN</td>\n",
       "      <td>NaN</td>\n",
       "      <td>NaN</td>\n",
       "      <td>NaN</td>\n",
       "    </tr>\n",
       "  </tbody>\n",
       "</table>\n",
       "<p>3 rows × 218 columns</p>\n",
       "</div>"
      ],
      "text/plain": [
       "         Life expectancy  1800.0  1801.0  1802.0  1803.0  1804.0  1805.0  \\\n",
       "0               Abkhazia     NaN     NaN     NaN     NaN     NaN     NaN   \n",
       "1            Afghanistan   28.21    28.2   28.19   28.18   28.17   28.16   \n",
       "2  Akrotiri and Dhekelia     NaN     NaN     NaN     NaN     NaN     NaN   \n",
       "\n",
       "   1806.0  1807.0  1808.0  ...  2007.0  2008.0  2009.0  2010.0  2011.0  \\\n",
       "0     NaN     NaN     NaN  ...     NaN     NaN     NaN     NaN     NaN   \n",
       "1   28.15   28.14   28.13  ...    52.4    52.8    53.3    53.6    54.0   \n",
       "2     NaN     NaN     NaN  ...     NaN     NaN     NaN     NaN     NaN   \n",
       "\n",
       "   2012.0  2013.0  2014.0  2015.0  2016.0  \n",
       "0     NaN     NaN     NaN     NaN     NaN  \n",
       "1    54.4    54.8    54.9    53.8   52.72  \n",
       "2     NaN     NaN     NaN     NaN     NaN  \n",
       "\n",
       "[3 rows x 218 columns]"
      ]
     },
     "execution_count": 6,
     "metadata": {},
     "output_type": "execute_result"
    }
   ],
   "source": [
    "life.head(3)"
   ]
  },
  {
   "cell_type": "code",
   "execution_count": 7,
   "id": "79005a8a-f05b-4fb0-b87e-48d9a2653bc7",
   "metadata": {},
   "outputs": [
    {
     "data": {
      "text/plain": [
       "Index(['Total fertility rate', '1800', '1801', '1802', '1803', '1804', '1805',\n",
       "       '1806', '1807', '1808',\n",
       "       ...\n",
       "       '2006', '2007', '2008', '2009', '2010', '2011', '2012', '2013', '2014',\n",
       "       '2015'],\n",
       "      dtype='object', length=217)"
      ]
     },
     "execution_count": 7,
     "metadata": {},
     "output_type": "execute_result"
    }
   ],
   "source": [
    "fert.columns"
   ]
  },
  {
   "cell_type": "code",
   "execution_count": 8,
   "id": "cd4c5f0c-c138-432d-8a7a-5d9811262909",
   "metadata": {},
   "outputs": [
    {
     "data": {
      "text/plain": [
       "RangeIndex(start=0, stop=260, step=1)"
      ]
     },
     "execution_count": 8,
     "metadata": {},
     "output_type": "execute_result"
    }
   ],
   "source": [
    "fert.index"
   ]
  },
  {
   "cell_type": "code",
   "execution_count": 9,
   "id": "099583d2-de67-4df5-969b-6883ada8e81e",
   "metadata": {},
   "outputs": [
    {
     "data": {
      "text/plain": [
       "Index(['Life expectancy',            1800.0,            1801.0,\n",
       "                  1802.0,            1803.0,            1804.0,\n",
       "                  1805.0,            1806.0,            1807.0,\n",
       "                  1808.0,\n",
       "       ...\n",
       "                  2007.0,            2008.0,            2009.0,\n",
       "                  2010.0,            2011.0,            2012.0,\n",
       "                  2013.0,            2014.0,            2015.0,\n",
       "                  2016.0],\n",
       "      dtype='object', length=218)"
      ]
     },
     "execution_count": 9,
     "metadata": {},
     "output_type": "execute_result"
    }
   ],
   "source": [
    "life.columns"
   ]
  },
  {
   "cell_type": "code",
   "execution_count": 10,
   "id": "52ffccb4-0370-4675-a84d-51feac78f937",
   "metadata": {},
   "outputs": [
    {
     "data": {
      "text/plain": [
       "RangeIndex(start=0, stop=260, step=1)"
      ]
     },
     "execution_count": 10,
     "metadata": {},
     "output_type": "execute_result"
    }
   ],
   "source": [
    "life.index"
   ]
  },
  {
   "cell_type": "markdown",
   "id": "79b6aa87-dc8c-47f6-9aa1-4c46a7010afe",
   "metadata": {
    "tags": []
   },
   "source": [
    "### Clean the data"
   ]
  },
  {
   "cell_type": "code",
   "execution_count": 11,
   "id": "8c8a7a86-d28c-4ebf-a500-af9a38eacd26",
   "metadata": {},
   "outputs": [
    {
     "data": {
      "text/html": [
       "<div>\n",
       "<style scoped>\n",
       "    .dataframe tbody tr th:only-of-type {\n",
       "        vertical-align: middle;\n",
       "    }\n",
       "\n",
       "    .dataframe tbody tr th {\n",
       "        vertical-align: top;\n",
       "    }\n",
       "\n",
       "    .dataframe thead th {\n",
       "        text-align: right;\n",
       "    }\n",
       "</style>\n",
       "<table border=\"1\" class=\"dataframe\">\n",
       "  <thead>\n",
       "    <tr style=\"text-align: right;\">\n",
       "      <th></th>\n",
       "      <th>1800</th>\n",
       "      <th>1801</th>\n",
       "      <th>1802</th>\n",
       "      <th>1803</th>\n",
       "      <th>1804</th>\n",
       "      <th>1805</th>\n",
       "      <th>1806</th>\n",
       "      <th>1807</th>\n",
       "      <th>1808</th>\n",
       "      <th>1809</th>\n",
       "      <th>...</th>\n",
       "      <th>2006</th>\n",
       "      <th>2007</th>\n",
       "      <th>2008</th>\n",
       "      <th>2009</th>\n",
       "      <th>2010</th>\n",
       "      <th>2011</th>\n",
       "      <th>2012</th>\n",
       "      <th>2013</th>\n",
       "      <th>2014</th>\n",
       "      <th>2015</th>\n",
       "    </tr>\n",
       "    <tr>\n",
       "      <th>Total fertility rate</th>\n",
       "      <th></th>\n",
       "      <th></th>\n",
       "      <th></th>\n",
       "      <th></th>\n",
       "      <th></th>\n",
       "      <th></th>\n",
       "      <th></th>\n",
       "      <th></th>\n",
       "      <th></th>\n",
       "      <th></th>\n",
       "      <th></th>\n",
       "      <th></th>\n",
       "      <th></th>\n",
       "      <th></th>\n",
       "      <th></th>\n",
       "      <th></th>\n",
       "      <th></th>\n",
       "      <th></th>\n",
       "      <th></th>\n",
       "      <th></th>\n",
       "      <th></th>\n",
       "    </tr>\n",
       "  </thead>\n",
       "  <tbody>\n",
       "    <tr>\n",
       "      <th>Abkhazia</th>\n",
       "      <td>NaN</td>\n",
       "      <td>NaN</td>\n",
       "      <td>NaN</td>\n",
       "      <td>NaN</td>\n",
       "      <td>NaN</td>\n",
       "      <td>NaN</td>\n",
       "      <td>NaN</td>\n",
       "      <td>NaN</td>\n",
       "      <td>NaN</td>\n",
       "      <td>NaN</td>\n",
       "      <td>...</td>\n",
       "      <td>NaN</td>\n",
       "      <td>NaN</td>\n",
       "      <td>NaN</td>\n",
       "      <td>NaN</td>\n",
       "      <td>NaN</td>\n",
       "      <td>NaN</td>\n",
       "      <td>NaN</td>\n",
       "      <td>NaN</td>\n",
       "      <td>NaN</td>\n",
       "      <td>NaN</td>\n",
       "    </tr>\n",
       "  </tbody>\n",
       "</table>\n",
       "<p>1 rows × 216 columns</p>\n",
       "</div>"
      ],
      "text/plain": [
       "                      1800  1801  1802  1803  1804  1805  1806  1807  1808  \\\n",
       "Total fertility rate                                                         \n",
       "Abkhazia               NaN   NaN   NaN   NaN   NaN   NaN   NaN   NaN   NaN   \n",
       "\n",
       "                      1809  ...  2006  2007  2008  2009  2010  2011  2012  \\\n",
       "Total fertility rate        ...                                             \n",
       "Abkhazia               NaN  ...   NaN   NaN   NaN   NaN   NaN   NaN   NaN   \n",
       "\n",
       "                      2013  2014  2015  \n",
       "Total fertility rate                    \n",
       "Abkhazia               NaN   NaN   NaN  \n",
       "\n",
       "[1 rows x 216 columns]"
      ]
     },
     "execution_count": 11,
     "metadata": {},
     "output_type": "execute_result"
    }
   ],
   "source": [
    "#Let's set the index of both dataframes to the \"Total Fertility Rate\" (resp. \"Life Expectancy\") Column\n",
    "fert.set_index(\"Total fertility rate\",inplace=True)\n",
    "fert.head(1)"
   ]
  },
  {
   "cell_type": "code",
   "execution_count": 12,
   "id": "a923d54f-8edd-493b-98be-663b234c2e53",
   "metadata": {},
   "outputs": [
    {
     "data": {
      "text/html": [
       "<div>\n",
       "<style scoped>\n",
       "    .dataframe tbody tr th:only-of-type {\n",
       "        vertical-align: middle;\n",
       "    }\n",
       "\n",
       "    .dataframe tbody tr th {\n",
       "        vertical-align: top;\n",
       "    }\n",
       "\n",
       "    .dataframe thead th {\n",
       "        text-align: right;\n",
       "    }\n",
       "</style>\n",
       "<table border=\"1\" class=\"dataframe\">\n",
       "  <thead>\n",
       "    <tr style=\"text-align: right;\">\n",
       "      <th></th>\n",
       "      <th>1800.0</th>\n",
       "      <th>1801.0</th>\n",
       "      <th>1802.0</th>\n",
       "      <th>1803.0</th>\n",
       "      <th>1804.0</th>\n",
       "      <th>1805.0</th>\n",
       "      <th>1806.0</th>\n",
       "      <th>1807.0</th>\n",
       "      <th>1808.0</th>\n",
       "      <th>1809.0</th>\n",
       "      <th>...</th>\n",
       "      <th>2007.0</th>\n",
       "      <th>2008.0</th>\n",
       "      <th>2009.0</th>\n",
       "      <th>2010.0</th>\n",
       "      <th>2011.0</th>\n",
       "      <th>2012.0</th>\n",
       "      <th>2013.0</th>\n",
       "      <th>2014.0</th>\n",
       "      <th>2015.0</th>\n",
       "      <th>2016.0</th>\n",
       "    </tr>\n",
       "    <tr>\n",
       "      <th>Life expectancy</th>\n",
       "      <th></th>\n",
       "      <th></th>\n",
       "      <th></th>\n",
       "      <th></th>\n",
       "      <th></th>\n",
       "      <th></th>\n",
       "      <th></th>\n",
       "      <th></th>\n",
       "      <th></th>\n",
       "      <th></th>\n",
       "      <th></th>\n",
       "      <th></th>\n",
       "      <th></th>\n",
       "      <th></th>\n",
       "      <th></th>\n",
       "      <th></th>\n",
       "      <th></th>\n",
       "      <th></th>\n",
       "      <th></th>\n",
       "      <th></th>\n",
       "      <th></th>\n",
       "    </tr>\n",
       "  </thead>\n",
       "  <tbody>\n",
       "    <tr>\n",
       "      <th>Abkhazia</th>\n",
       "      <td>NaN</td>\n",
       "      <td>NaN</td>\n",
       "      <td>NaN</td>\n",
       "      <td>NaN</td>\n",
       "      <td>NaN</td>\n",
       "      <td>NaN</td>\n",
       "      <td>NaN</td>\n",
       "      <td>NaN</td>\n",
       "      <td>NaN</td>\n",
       "      <td>NaN</td>\n",
       "      <td>...</td>\n",
       "      <td>NaN</td>\n",
       "      <td>NaN</td>\n",
       "      <td>NaN</td>\n",
       "      <td>NaN</td>\n",
       "      <td>NaN</td>\n",
       "      <td>NaN</td>\n",
       "      <td>NaN</td>\n",
       "      <td>NaN</td>\n",
       "      <td>NaN</td>\n",
       "      <td>NaN</td>\n",
       "    </tr>\n",
       "  </tbody>\n",
       "</table>\n",
       "<p>1 rows × 217 columns</p>\n",
       "</div>"
      ],
      "text/plain": [
       "                 1800.0  1801.0  1802.0  1803.0  1804.0  1805.0  1806.0  \\\n",
       "Life expectancy                                                           \n",
       "Abkhazia            NaN     NaN     NaN     NaN     NaN     NaN     NaN   \n",
       "\n",
       "                 1807.0  1808.0  1809.0  ...  2007.0  2008.0  2009.0  2010.0  \\\n",
       "Life expectancy                          ...                                   \n",
       "Abkhazia            NaN     NaN     NaN  ...     NaN     NaN     NaN     NaN   \n",
       "\n",
       "                 2011.0  2012.0  2013.0  2014.0  2015.0  2016.0  \n",
       "Life expectancy                                                  \n",
       "Abkhazia            NaN     NaN     NaN     NaN     NaN     NaN  \n",
       "\n",
       "[1 rows x 217 columns]"
      ]
     },
     "execution_count": 12,
     "metadata": {},
     "output_type": "execute_result"
    }
   ],
   "source": [
    "life.set_index(\"Life expectancy\",inplace=True)\n",
    "life.head(1)"
   ]
  },
  {
   "cell_type": "code",
   "execution_count": 13,
   "id": "f939598b-555d-4964-becb-e53be3d8d46c",
   "metadata": {},
   "outputs": [
    {
     "data": {
      "text/plain": [
       "Index(['1800', '1801', '1802', '1803', '1804', '1805', '1806', '1807', '1808',\n",
       "       '1809',\n",
       "       ...\n",
       "       '2006', '2007', '2008', '2009', '2010', '2011', '2012', '2013', '2014',\n",
       "       '2015'],\n",
       "      dtype='object', length=216)"
      ]
     },
     "execution_count": 13,
     "metadata": {},
     "output_type": "execute_result"
    }
   ],
   "source": [
    "#Note that the fert columns are strings, we have to convert them to integers\n",
    "fert.columns"
   ]
  },
  {
   "cell_type": "code",
   "execution_count": 14,
   "id": "5c5b3905-a631-4000-92ca-8e9e19e04107",
   "metadata": {},
   "outputs": [
    {
     "data": {
      "text/plain": [
       "Int64Index([1800, 1801, 1802, 1803, 1804, 1805, 1806, 1807, 1808, 1809,\n",
       "            ...\n",
       "            2006, 2007, 2008, 2009, 2010, 2011, 2012, 2013, 2014, 2015],\n",
       "           dtype='int64', length=216)"
      ]
     },
     "execution_count": 14,
     "metadata": {},
     "output_type": "execute_result"
    }
   ],
   "source": [
    "fert.columns = fert.columns.astype(int)\n",
    "fert.columns\n",
    "#We don't have to convert the life columns (they are in the right format)"
   ]
  },
  {
   "cell_type": "code",
   "execution_count": 15,
   "id": "dc8cf30e-7fc0-4375-a9f6-90444fb4a4a9",
   "metadata": {},
   "outputs": [
    {
     "data": {
      "text/html": [
       "<div>\n",
       "<style scoped>\n",
       "    .dataframe tbody tr th:only-of-type {\n",
       "        vertical-align: middle;\n",
       "    }\n",
       "\n",
       "    .dataframe tbody tr th {\n",
       "        vertical-align: top;\n",
       "    }\n",
       "\n",
       "    .dataframe thead th {\n",
       "        text-align: right;\n",
       "    }\n",
       "</style>\n",
       "<table border=\"1\" class=\"dataframe\">\n",
       "  <thead>\n",
       "    <tr style=\"text-align: right;\">\n",
       "      <th></th>\n",
       "      <th>1800</th>\n",
       "      <th>1801</th>\n",
       "      <th>1802</th>\n",
       "      <th>1803</th>\n",
       "      <th>1804</th>\n",
       "      <th>1805</th>\n",
       "      <th>1806</th>\n",
       "      <th>1807</th>\n",
       "      <th>1808</th>\n",
       "      <th>1809</th>\n",
       "      <th>...</th>\n",
       "      <th>2006</th>\n",
       "      <th>2007</th>\n",
       "      <th>2008</th>\n",
       "      <th>2009</th>\n",
       "      <th>2010</th>\n",
       "      <th>2011</th>\n",
       "      <th>2012</th>\n",
       "      <th>2013</th>\n",
       "      <th>2014</th>\n",
       "      <th>2015</th>\n",
       "    </tr>\n",
       "    <tr>\n",
       "      <th>Country</th>\n",
       "      <th></th>\n",
       "      <th></th>\n",
       "      <th></th>\n",
       "      <th></th>\n",
       "      <th></th>\n",
       "      <th></th>\n",
       "      <th></th>\n",
       "      <th></th>\n",
       "      <th></th>\n",
       "      <th></th>\n",
       "      <th></th>\n",
       "      <th></th>\n",
       "      <th></th>\n",
       "      <th></th>\n",
       "      <th></th>\n",
       "      <th></th>\n",
       "      <th></th>\n",
       "      <th></th>\n",
       "      <th></th>\n",
       "      <th></th>\n",
       "      <th></th>\n",
       "    </tr>\n",
       "  </thead>\n",
       "  <tbody>\n",
       "    <tr>\n",
       "      <th>Abkhazia</th>\n",
       "      <td>NaN</td>\n",
       "      <td>NaN</td>\n",
       "      <td>NaN</td>\n",
       "      <td>NaN</td>\n",
       "      <td>NaN</td>\n",
       "      <td>NaN</td>\n",
       "      <td>NaN</td>\n",
       "      <td>NaN</td>\n",
       "      <td>NaN</td>\n",
       "      <td>NaN</td>\n",
       "      <td>...</td>\n",
       "      <td>NaN</td>\n",
       "      <td>NaN</td>\n",
       "      <td>NaN</td>\n",
       "      <td>NaN</td>\n",
       "      <td>NaN</td>\n",
       "      <td>NaN</td>\n",
       "      <td>NaN</td>\n",
       "      <td>NaN</td>\n",
       "      <td>NaN</td>\n",
       "      <td>NaN</td>\n",
       "    </tr>\n",
       "  </tbody>\n",
       "</table>\n",
       "<p>1 rows × 216 columns</p>\n",
       "</div>"
      ],
      "text/plain": [
       "          1800  1801  1802  1803  1804  1805  1806  1807  1808  1809  ...  \\\n",
       "Country                                                               ...   \n",
       "Abkhazia   NaN   NaN   NaN   NaN   NaN   NaN   NaN   NaN   NaN   NaN  ...   \n",
       "\n",
       "          2006  2007  2008  2009  2010  2011  2012  2013  2014  2015  \n",
       "Country                                                               \n",
       "Abkhazia   NaN   NaN   NaN   NaN   NaN   NaN   NaN   NaN   NaN   NaN  \n",
       "\n",
       "[1 rows x 216 columns]"
      ]
     },
     "execution_count": 15,
     "metadata": {},
     "output_type": "execute_result"
    }
   ],
   "source": [
    "#Let's rename the index after we set him (for both dfs)\n",
    "fert.index.name=\"Country\"\n",
    "life.index.name=\"Country\"\n",
    "fert.head(1)\n"
   ]
  },
  {
   "cell_type": "code",
   "execution_count": 16,
   "id": "99cf79eb-504f-4ebf-b42d-be7e763835c0",
   "metadata": {},
   "outputs": [
    {
     "data": {
      "text/html": [
       "<div>\n",
       "<style scoped>\n",
       "    .dataframe tbody tr th:only-of-type {\n",
       "        vertical-align: middle;\n",
       "    }\n",
       "\n",
       "    .dataframe tbody tr th {\n",
       "        vertical-align: top;\n",
       "    }\n",
       "\n",
       "    .dataframe thead th {\n",
       "        text-align: right;\n",
       "    }\n",
       "</style>\n",
       "<table border=\"1\" class=\"dataframe\">\n",
       "  <thead>\n",
       "    <tr style=\"text-align: right;\">\n",
       "      <th></th>\n",
       "      <th>1800.0</th>\n",
       "      <th>1801.0</th>\n",
       "      <th>1802.0</th>\n",
       "      <th>1803.0</th>\n",
       "      <th>1804.0</th>\n",
       "      <th>1805.0</th>\n",
       "      <th>1806.0</th>\n",
       "      <th>1807.0</th>\n",
       "      <th>1808.0</th>\n",
       "      <th>1809.0</th>\n",
       "      <th>...</th>\n",
       "      <th>2007.0</th>\n",
       "      <th>2008.0</th>\n",
       "      <th>2009.0</th>\n",
       "      <th>2010.0</th>\n",
       "      <th>2011.0</th>\n",
       "      <th>2012.0</th>\n",
       "      <th>2013.0</th>\n",
       "      <th>2014.0</th>\n",
       "      <th>2015.0</th>\n",
       "      <th>2016.0</th>\n",
       "    </tr>\n",
       "    <tr>\n",
       "      <th>Country</th>\n",
       "      <th></th>\n",
       "      <th></th>\n",
       "      <th></th>\n",
       "      <th></th>\n",
       "      <th></th>\n",
       "      <th></th>\n",
       "      <th></th>\n",
       "      <th></th>\n",
       "      <th></th>\n",
       "      <th></th>\n",
       "      <th></th>\n",
       "      <th></th>\n",
       "      <th></th>\n",
       "      <th></th>\n",
       "      <th></th>\n",
       "      <th></th>\n",
       "      <th></th>\n",
       "      <th></th>\n",
       "      <th></th>\n",
       "      <th></th>\n",
       "      <th></th>\n",
       "    </tr>\n",
       "  </thead>\n",
       "  <tbody>\n",
       "    <tr>\n",
       "      <th>Abkhazia</th>\n",
       "      <td>NaN</td>\n",
       "      <td>NaN</td>\n",
       "      <td>NaN</td>\n",
       "      <td>NaN</td>\n",
       "      <td>NaN</td>\n",
       "      <td>NaN</td>\n",
       "      <td>NaN</td>\n",
       "      <td>NaN</td>\n",
       "      <td>NaN</td>\n",
       "      <td>NaN</td>\n",
       "      <td>...</td>\n",
       "      <td>NaN</td>\n",
       "      <td>NaN</td>\n",
       "      <td>NaN</td>\n",
       "      <td>NaN</td>\n",
       "      <td>NaN</td>\n",
       "      <td>NaN</td>\n",
       "      <td>NaN</td>\n",
       "      <td>NaN</td>\n",
       "      <td>NaN</td>\n",
       "      <td>NaN</td>\n",
       "    </tr>\n",
       "  </tbody>\n",
       "</table>\n",
       "<p>1 rows × 217 columns</p>\n",
       "</div>"
      ],
      "text/plain": [
       "          1800.0  1801.0  1802.0  1803.0  1804.0  1805.0  1806.0  1807.0  \\\n",
       "Country                                                                    \n",
       "Abkhazia     NaN     NaN     NaN     NaN     NaN     NaN     NaN     NaN   \n",
       "\n",
       "          1808.0  1809.0  ...  2007.0  2008.0  2009.0  2010.0  2011.0  2012.0  \\\n",
       "Country                   ...                                                   \n",
       "Abkhazia     NaN     NaN  ...     NaN     NaN     NaN     NaN     NaN     NaN   \n",
       "\n",
       "          2013.0  2014.0  2015.0  2016.0  \n",
       "Country                                   \n",
       "Abkhazia     NaN     NaN     NaN     NaN  \n",
       "\n",
       "[1 rows x 217 columns]"
      ]
     },
     "execution_count": 16,
     "metadata": {},
     "output_type": "execute_result"
    }
   ],
   "source": [
    "life.head(1)"
   ]
  },
  {
   "cell_type": "code",
   "execution_count": 17,
   "id": "1ac9f9c2-8f10-4300-a117-d66aeb60c9cd",
   "metadata": {},
   "outputs": [
    {
     "data": {
      "text/plain": [
       "Index([1800.0, 1801.0, 1802.0, 1803.0, 1804.0, 1805.0, 1806.0, 1807.0, 1808.0,\n",
       "       1809.0,\n",
       "       ...\n",
       "       2007.0, 2008.0, 2009.0, 2010.0, 2011.0, 2012.0, 2013.0, 2014.0, 2015.0,\n",
       "       2016.0],\n",
       "      dtype='object', length=217)"
      ]
     },
     "execution_count": 17,
     "metadata": {},
     "output_type": "execute_result"
    }
   ],
   "source": [
    "life.columns"
   ]
  },
  {
   "cell_type": "markdown",
   "id": "fadb2d6b-d1f2-47ac-8b7f-328f0e3ed818",
   "metadata": {},
   "source": [
    "#### Converting into long format"
   ]
  },
  {
   "cell_type": "code",
   "execution_count": 18,
   "id": "f2ce502b-11c7-406d-afdf-6905b1d27882",
   "metadata": {},
   "outputs": [],
   "source": [
    "#Moving the index row one to the right \n",
    "fert = fert.reset_index()\n",
    "life = life.reset_index()"
   ]
  },
  {
   "cell_type": "code",
   "execution_count": 19,
   "id": "471086c1-c2c0-4cc8-af3a-2d4f4ce7d004",
   "metadata": {},
   "outputs": [
    {
     "data": {
      "text/html": [
       "<div>\n",
       "<style scoped>\n",
       "    .dataframe tbody tr th:only-of-type {\n",
       "        vertical-align: middle;\n",
       "    }\n",
       "\n",
       "    .dataframe tbody tr th {\n",
       "        vertical-align: top;\n",
       "    }\n",
       "\n",
       "    .dataframe thead th {\n",
       "        text-align: right;\n",
       "    }\n",
       "</style>\n",
       "<table border=\"1\" class=\"dataframe\">\n",
       "  <thead>\n",
       "    <tr style=\"text-align: right;\">\n",
       "      <th></th>\n",
       "      <th>Country</th>\n",
       "      <th>1800</th>\n",
       "      <th>1801</th>\n",
       "      <th>1802</th>\n",
       "      <th>1803</th>\n",
       "      <th>1804</th>\n",
       "      <th>1805</th>\n",
       "      <th>1806</th>\n",
       "      <th>1807</th>\n",
       "      <th>1808</th>\n",
       "      <th>...</th>\n",
       "      <th>2006</th>\n",
       "      <th>2007</th>\n",
       "      <th>2008</th>\n",
       "      <th>2009</th>\n",
       "      <th>2010</th>\n",
       "      <th>2011</th>\n",
       "      <th>2012</th>\n",
       "      <th>2013</th>\n",
       "      <th>2014</th>\n",
       "      <th>2015</th>\n",
       "    </tr>\n",
       "  </thead>\n",
       "  <tbody>\n",
       "    <tr>\n",
       "      <th>0</th>\n",
       "      <td>Abkhazia</td>\n",
       "      <td>NaN</td>\n",
       "      <td>NaN</td>\n",
       "      <td>NaN</td>\n",
       "      <td>NaN</td>\n",
       "      <td>NaN</td>\n",
       "      <td>NaN</td>\n",
       "      <td>NaN</td>\n",
       "      <td>NaN</td>\n",
       "      <td>NaN</td>\n",
       "      <td>...</td>\n",
       "      <td>NaN</td>\n",
       "      <td>NaN</td>\n",
       "      <td>NaN</td>\n",
       "      <td>NaN</td>\n",
       "      <td>NaN</td>\n",
       "      <td>NaN</td>\n",
       "      <td>NaN</td>\n",
       "      <td>NaN</td>\n",
       "      <td>NaN</td>\n",
       "      <td>NaN</td>\n",
       "    </tr>\n",
       "  </tbody>\n",
       "</table>\n",
       "<p>1 rows × 217 columns</p>\n",
       "</div>"
      ],
      "text/plain": [
       "    Country  1800  1801  1802  1803  1804  1805  1806  1807  1808  ...  2006  \\\n",
       "0  Abkhazia   NaN   NaN   NaN   NaN   NaN   NaN   NaN   NaN   NaN  ...   NaN   \n",
       "\n",
       "   2007  2008  2009  2010  2011  2012  2013  2014  2015  \n",
       "0   NaN   NaN   NaN   NaN   NaN   NaN   NaN   NaN   NaN  \n",
       "\n",
       "[1 rows x 217 columns]"
      ]
     },
     "execution_count": 19,
     "metadata": {},
     "output_type": "execute_result"
    }
   ],
   "source": [
    "fert.head(1)"
   ]
  },
  {
   "cell_type": "code",
   "execution_count": 20,
   "id": "0eecda77-e503-4e37-9487-26e7d4d148a3",
   "metadata": {},
   "outputs": [
    {
     "data": {
      "text/html": [
       "<div>\n",
       "<style scoped>\n",
       "    .dataframe tbody tr th:only-of-type {\n",
       "        vertical-align: middle;\n",
       "    }\n",
       "\n",
       "    .dataframe tbody tr th {\n",
       "        vertical-align: top;\n",
       "    }\n",
       "\n",
       "    .dataframe thead th {\n",
       "        text-align: right;\n",
       "    }\n",
       "</style>\n",
       "<table border=\"1\" class=\"dataframe\">\n",
       "  <thead>\n",
       "    <tr style=\"text-align: right;\">\n",
       "      <th></th>\n",
       "      <th>Country</th>\n",
       "      <th>1800.0</th>\n",
       "      <th>1801.0</th>\n",
       "      <th>1802.0</th>\n",
       "      <th>1803.0</th>\n",
       "      <th>1804.0</th>\n",
       "      <th>1805.0</th>\n",
       "      <th>1806.0</th>\n",
       "      <th>1807.0</th>\n",
       "      <th>1808.0</th>\n",
       "      <th>...</th>\n",
       "      <th>2007.0</th>\n",
       "      <th>2008.0</th>\n",
       "      <th>2009.0</th>\n",
       "      <th>2010.0</th>\n",
       "      <th>2011.0</th>\n",
       "      <th>2012.0</th>\n",
       "      <th>2013.0</th>\n",
       "      <th>2014.0</th>\n",
       "      <th>2015.0</th>\n",
       "      <th>2016.0</th>\n",
       "    </tr>\n",
       "  </thead>\n",
       "  <tbody>\n",
       "    <tr>\n",
       "      <th>0</th>\n",
       "      <td>Abkhazia</td>\n",
       "      <td>NaN</td>\n",
       "      <td>NaN</td>\n",
       "      <td>NaN</td>\n",
       "      <td>NaN</td>\n",
       "      <td>NaN</td>\n",
       "      <td>NaN</td>\n",
       "      <td>NaN</td>\n",
       "      <td>NaN</td>\n",
       "      <td>NaN</td>\n",
       "      <td>...</td>\n",
       "      <td>NaN</td>\n",
       "      <td>NaN</td>\n",
       "      <td>NaN</td>\n",
       "      <td>NaN</td>\n",
       "      <td>NaN</td>\n",
       "      <td>NaN</td>\n",
       "      <td>NaN</td>\n",
       "      <td>NaN</td>\n",
       "      <td>NaN</td>\n",
       "      <td>NaN</td>\n",
       "    </tr>\n",
       "  </tbody>\n",
       "</table>\n",
       "<p>1 rows × 218 columns</p>\n",
       "</div>"
      ],
      "text/plain": [
       "    Country  1800.0  1801.0  1802.0  1803.0  1804.0  1805.0  1806.0  1807.0  \\\n",
       "0  Abkhazia     NaN     NaN     NaN     NaN     NaN     NaN     NaN     NaN   \n",
       "\n",
       "   1808.0  ...  2007.0  2008.0  2009.0  2010.0  2011.0  2012.0  2013.0  \\\n",
       "0     NaN  ...     NaN     NaN     NaN     NaN     NaN     NaN     NaN   \n",
       "\n",
       "   2014.0  2015.0  2016.0  \n",
       "0     NaN     NaN     NaN  \n",
       "\n",
       "[1 rows x 218 columns]"
      ]
     },
     "execution_count": 20,
     "metadata": {},
     "output_type": "execute_result"
    }
   ],
   "source": [
    "life.head(1)"
   ]
  },
  {
   "cell_type": "markdown",
   "id": "34d96b4d-fc74-4515-801f-f384453f1960",
   "metadata": {},
   "source": [
    "Now we melt the dataframes"
   ]
  },
  {
   "cell_type": "code",
   "execution_count": 21,
   "id": "73c17c76-3a22-4868-8ad3-ceaf49d5aad8",
   "metadata": {},
   "outputs": [],
   "source": [
    "fert_long = fert.melt(id_vars=\"Country\", var_name=\"Year\", value_name=\"Fertility_Rate\")"
   ]
  },
  {
   "cell_type": "code",
   "execution_count": 22,
   "id": "8d5b1189-50a5-4611-b6ca-6d8f24337a1b",
   "metadata": {},
   "outputs": [
    {
     "data": {
      "text/html": [
       "<div>\n",
       "<style scoped>\n",
       "    .dataframe tbody tr th:only-of-type {\n",
       "        vertical-align: middle;\n",
       "    }\n",
       "\n",
       "    .dataframe tbody tr th {\n",
       "        vertical-align: top;\n",
       "    }\n",
       "\n",
       "    .dataframe thead th {\n",
       "        text-align: right;\n",
       "    }\n",
       "</style>\n",
       "<table border=\"1\" class=\"dataframe\">\n",
       "  <thead>\n",
       "    <tr style=\"text-align: right;\">\n",
       "      <th></th>\n",
       "      <th>Country</th>\n",
       "      <th>Year</th>\n",
       "      <th>Fertility_Rate</th>\n",
       "    </tr>\n",
       "  </thead>\n",
       "  <tbody>\n",
       "    <tr>\n",
       "      <th>0</th>\n",
       "      <td>Abkhazia</td>\n",
       "      <td>1800</td>\n",
       "      <td>NaN</td>\n",
       "    </tr>\n",
       "    <tr>\n",
       "      <th>1</th>\n",
       "      <td>Afghanistan</td>\n",
       "      <td>1800</td>\n",
       "      <td>7.00</td>\n",
       "    </tr>\n",
       "    <tr>\n",
       "      <th>2</th>\n",
       "      <td>Akrotiri and Dhekelia</td>\n",
       "      <td>1800</td>\n",
       "      <td>NaN</td>\n",
       "    </tr>\n",
       "    <tr>\n",
       "      <th>3</th>\n",
       "      <td>Albania</td>\n",
       "      <td>1800</td>\n",
       "      <td>4.60</td>\n",
       "    </tr>\n",
       "    <tr>\n",
       "      <th>4</th>\n",
       "      <td>Algeria</td>\n",
       "      <td>1800</td>\n",
       "      <td>6.99</td>\n",
       "    </tr>\n",
       "    <tr>\n",
       "      <th>...</th>\n",
       "      <td>...</td>\n",
       "      <td>...</td>\n",
       "      <td>...</td>\n",
       "    </tr>\n",
       "    <tr>\n",
       "      <th>56155</th>\n",
       "      <td>Yugoslavia</td>\n",
       "      <td>2015</td>\n",
       "      <td>NaN</td>\n",
       "    </tr>\n",
       "    <tr>\n",
       "      <th>56156</th>\n",
       "      <td>Zambia</td>\n",
       "      <td>2015</td>\n",
       "      <td>5.59</td>\n",
       "    </tr>\n",
       "    <tr>\n",
       "      <th>56157</th>\n",
       "      <td>Zimbabwe</td>\n",
       "      <td>2015</td>\n",
       "      <td>3.35</td>\n",
       "    </tr>\n",
       "    <tr>\n",
       "      <th>56158</th>\n",
       "      <td>Åland</td>\n",
       "      <td>2015</td>\n",
       "      <td>NaN</td>\n",
       "    </tr>\n",
       "    <tr>\n",
       "      <th>56159</th>\n",
       "      <td>Åland</td>\n",
       "      <td>2015</td>\n",
       "      <td>NaN</td>\n",
       "    </tr>\n",
       "  </tbody>\n",
       "</table>\n",
       "<p>56160 rows × 3 columns</p>\n",
       "</div>"
      ],
      "text/plain": [
       "                     Country  Year  Fertility_Rate\n",
       "0                   Abkhazia  1800             NaN\n",
       "1                Afghanistan  1800            7.00\n",
       "2      Akrotiri and Dhekelia  1800             NaN\n",
       "3                    Albania  1800            4.60\n",
       "4                    Algeria  1800            6.99\n",
       "...                      ...   ...             ...\n",
       "56155             Yugoslavia  2015             NaN\n",
       "56156                 Zambia  2015            5.59\n",
       "56157               Zimbabwe  2015            3.35\n",
       "56158                  Åland  2015             NaN\n",
       "56159                  Åland  2015             NaN\n",
       "\n",
       "[56160 rows x 3 columns]"
      ]
     },
     "execution_count": 22,
     "metadata": {},
     "output_type": "execute_result"
    }
   ],
   "source": [
    "fert_long"
   ]
  },
  {
   "cell_type": "code",
   "execution_count": 23,
   "id": "d033ed10-80f2-43ff-8a11-3ca943bbdfa7",
   "metadata": {},
   "outputs": [],
   "source": [
    "life_long = life.melt(id_vars=\"Country\", var_name=\"Year\", value_name=\"Life Expectancy\")"
   ]
  },
  {
   "cell_type": "code",
   "execution_count": 24,
   "id": "05a94a7d-fec8-42ba-91f6-dad47ebb23eb",
   "metadata": {},
   "outputs": [
    {
     "data": {
      "text/html": [
       "<div>\n",
       "<style scoped>\n",
       "    .dataframe tbody tr th:only-of-type {\n",
       "        vertical-align: middle;\n",
       "    }\n",
       "\n",
       "    .dataframe tbody tr th {\n",
       "        vertical-align: top;\n",
       "    }\n",
       "\n",
       "    .dataframe thead th {\n",
       "        text-align: right;\n",
       "    }\n",
       "</style>\n",
       "<table border=\"1\" class=\"dataframe\">\n",
       "  <thead>\n",
       "    <tr style=\"text-align: right;\">\n",
       "      <th></th>\n",
       "      <th>Country</th>\n",
       "      <th>Year</th>\n",
       "      <th>Life Expectancy</th>\n",
       "    </tr>\n",
       "  </thead>\n",
       "  <tbody>\n",
       "    <tr>\n",
       "      <th>0</th>\n",
       "      <td>Abkhazia</td>\n",
       "      <td>1800.0</td>\n",
       "      <td>NaN</td>\n",
       "    </tr>\n",
       "    <tr>\n",
       "      <th>1</th>\n",
       "      <td>Afghanistan</td>\n",
       "      <td>1800.0</td>\n",
       "      <td>28.21</td>\n",
       "    </tr>\n",
       "    <tr>\n",
       "      <th>2</th>\n",
       "      <td>Akrotiri and Dhekelia</td>\n",
       "      <td>1800.0</td>\n",
       "      <td>NaN</td>\n",
       "    </tr>\n",
       "    <tr>\n",
       "      <th>3</th>\n",
       "      <td>Albania</td>\n",
       "      <td>1800.0</td>\n",
       "      <td>35.40</td>\n",
       "    </tr>\n",
       "    <tr>\n",
       "      <th>4</th>\n",
       "      <td>Algeria</td>\n",
       "      <td>1800.0</td>\n",
       "      <td>28.82</td>\n",
       "    </tr>\n",
       "    <tr>\n",
       "      <th>...</th>\n",
       "      <td>...</td>\n",
       "      <td>...</td>\n",
       "      <td>...</td>\n",
       "    </tr>\n",
       "    <tr>\n",
       "      <th>56415</th>\n",
       "      <td>Yugoslavia</td>\n",
       "      <td>2016.0</td>\n",
       "      <td>NaN</td>\n",
       "    </tr>\n",
       "    <tr>\n",
       "      <th>56416</th>\n",
       "      <td>Zambia</td>\n",
       "      <td>2016.0</td>\n",
       "      <td>57.10</td>\n",
       "    </tr>\n",
       "    <tr>\n",
       "      <th>56417</th>\n",
       "      <td>Zimbabwe</td>\n",
       "      <td>2016.0</td>\n",
       "      <td>61.69</td>\n",
       "    </tr>\n",
       "    <tr>\n",
       "      <th>56418</th>\n",
       "      <td>Åland</td>\n",
       "      <td>2016.0</td>\n",
       "      <td>NaN</td>\n",
       "    </tr>\n",
       "    <tr>\n",
       "      <th>56419</th>\n",
       "      <td>South Sudan</td>\n",
       "      <td>2016.0</td>\n",
       "      <td>56.10</td>\n",
       "    </tr>\n",
       "  </tbody>\n",
       "</table>\n",
       "<p>56420 rows × 3 columns</p>\n",
       "</div>"
      ],
      "text/plain": [
       "                     Country    Year  Life Expectancy\n",
       "0                   Abkhazia  1800.0              NaN\n",
       "1                Afghanistan  1800.0            28.21\n",
       "2      Akrotiri and Dhekelia  1800.0              NaN\n",
       "3                    Albania  1800.0            35.40\n",
       "4                    Algeria  1800.0            28.82\n",
       "...                      ...     ...              ...\n",
       "56415             Yugoslavia  2016.0              NaN\n",
       "56416                 Zambia  2016.0            57.10\n",
       "56417               Zimbabwe  2016.0            61.69\n",
       "56418                  Åland  2016.0              NaN\n",
       "56419            South Sudan  2016.0            56.10\n",
       "\n",
       "[56420 rows x 3 columns]"
      ]
     },
     "execution_count": 24,
     "metadata": {},
     "output_type": "execute_result"
    }
   ],
   "source": [
    "life_long"
   ]
  },
  {
   "cell_type": "markdown",
   "id": "4b102c25-a560-4b58-9d36-87077729bdf8",
   "metadata": {},
   "source": [
    "##### The same thing with the \"gapminder_population.xlsx\""
   ]
  },
  {
   "cell_type": "code",
   "execution_count": 25,
   "id": "3f466bd3-13b2-49b5-bba8-d149600c85f2",
   "metadata": {},
   "outputs": [],
   "source": [
    "pop = pd.read_excel(\"../Data/gapminder_population.xlsx\", nrows=260) #The original file has 275 rows, which we dont want, I guess?"
   ]
  },
  {
   "cell_type": "code",
   "execution_count": 26,
   "id": "5f8ad4c7-5a6b-4994-b3fc-9e4511bd7b74",
   "metadata": {},
   "outputs": [
    {
     "data": {
      "text/plain": [
       "(260, 82)"
      ]
     },
     "execution_count": 26,
     "metadata": {},
     "output_type": "execute_result"
    }
   ],
   "source": [
    "pop.shape"
   ]
  },
  {
   "cell_type": "code",
   "execution_count": 27,
   "id": "5ff69e50-4929-4d01-972d-52d2b2174349",
   "metadata": {},
   "outputs": [
    {
     "data": {
      "text/plain": [
       "Index(['Total population',             1800.0,             1810.0,\n",
       "                   1820.0,             1830.0,             1840.0,\n",
       "                   1850.0,             1860.0,             1870.0,\n",
       "                   1880.0,             1890.0,             1900.0,\n",
       "                   1910.0,             1920.0,             1930.0,\n",
       "                   1940.0,             1950.0,             1951.0,\n",
       "                   1952.0,             1953.0,             1954.0,\n",
       "                   1955.0,             1956.0,             1957.0,\n",
       "                   1958.0,             1959.0,             1960.0,\n",
       "                   1961.0,             1962.0,             1963.0,\n",
       "                   1964.0,             1965.0,             1966.0,\n",
       "                   1967.0,             1968.0,             1969.0,\n",
       "                   1970.0,             1971.0,             1972.0,\n",
       "                   1973.0,             1974.0,             1975.0,\n",
       "                   1976.0,             1977.0,             1978.0,\n",
       "                   1979.0,             1980.0,             1981.0,\n",
       "                   1982.0,             1983.0,             1984.0,\n",
       "                   1985.0,             1986.0,             1987.0,\n",
       "                   1988.0,             1989.0,             1990.0,\n",
       "                   1991.0,             1992.0,             1993.0,\n",
       "                   1994.0,             1995.0,             1996.0,\n",
       "                   1997.0,             1998.0,             1999.0,\n",
       "                   2000.0,             2001.0,             2002.0,\n",
       "                   2003.0,             2004.0,             2005.0,\n",
       "                   2006.0,             2007.0,             2008.0,\n",
       "                   2009.0,             2010.0,             2011.0,\n",
       "                   2012.0,             2013.0,             2014.0,\n",
       "                   2015.0],\n",
       "      dtype='object')"
      ]
     },
     "execution_count": 27,
     "metadata": {},
     "output_type": "execute_result"
    }
   ],
   "source": [
    "pop.columns #Thankfully, it's in the right format"
   ]
  },
  {
   "cell_type": "code",
   "execution_count": 28,
   "id": "f46dbccb-8aef-4478-baee-4eab6a917f99",
   "metadata": {},
   "outputs": [
    {
     "data": {
      "text/plain": [
       "RangeIndex(start=0, stop=260, step=1)"
      ]
     },
     "execution_count": 28,
     "metadata": {},
     "output_type": "execute_result"
    }
   ],
   "source": [
    "pop.index"
   ]
  },
  {
   "cell_type": "code",
   "execution_count": 29,
   "id": "68acf9bd-ec1f-4fb2-83db-2b57b5e1a99c",
   "metadata": {},
   "outputs": [
    {
     "data": {
      "text/html": [
       "<div>\n",
       "<style scoped>\n",
       "    .dataframe tbody tr th:only-of-type {\n",
       "        vertical-align: middle;\n",
       "    }\n",
       "\n",
       "    .dataframe tbody tr th {\n",
       "        vertical-align: top;\n",
       "    }\n",
       "\n",
       "    .dataframe thead th {\n",
       "        text-align: right;\n",
       "    }\n",
       "</style>\n",
       "<table border=\"1\" class=\"dataframe\">\n",
       "  <thead>\n",
       "    <tr style=\"text-align: right;\">\n",
       "      <th></th>\n",
       "      <th>Total population</th>\n",
       "      <th>1800.0</th>\n",
       "      <th>1810.0</th>\n",
       "      <th>1820.0</th>\n",
       "      <th>1830.0</th>\n",
       "      <th>1840.0</th>\n",
       "      <th>1850.0</th>\n",
       "      <th>1860.0</th>\n",
       "      <th>1870.0</th>\n",
       "      <th>1880.0</th>\n",
       "      <th>...</th>\n",
       "      <th>2006.0</th>\n",
       "      <th>2007.0</th>\n",
       "      <th>2008.0</th>\n",
       "      <th>2009.0</th>\n",
       "      <th>2010.0</th>\n",
       "      <th>2011.0</th>\n",
       "      <th>2012.0</th>\n",
       "      <th>2013.0</th>\n",
       "      <th>2014.0</th>\n",
       "      <th>2015.0</th>\n",
       "    </tr>\n",
       "  </thead>\n",
       "  <tbody>\n",
       "    <tr>\n",
       "      <th>0</th>\n",
       "      <td>Abkhazia</td>\n",
       "      <td>NaN</td>\n",
       "      <td>NaN</td>\n",
       "      <td>NaN</td>\n",
       "      <td>NaN</td>\n",
       "      <td>NaN</td>\n",
       "      <td>NaN</td>\n",
       "      <td>NaN</td>\n",
       "      <td>NaN</td>\n",
       "      <td>NaN</td>\n",
       "      <td>...</td>\n",
       "      <td>NaN</td>\n",
       "      <td>NaN</td>\n",
       "      <td>NaN</td>\n",
       "      <td>NaN</td>\n",
       "      <td>NaN</td>\n",
       "      <td>NaN</td>\n",
       "      <td>NaN</td>\n",
       "      <td>NaN</td>\n",
       "      <td>NaN</td>\n",
       "      <td>NaN</td>\n",
       "    </tr>\n",
       "  </tbody>\n",
       "</table>\n",
       "<p>1 rows × 82 columns</p>\n",
       "</div>"
      ],
      "text/plain": [
       "  Total population  1800.0  1810.0  1820.0  1830.0  1840.0  1850.0  1860.0  \\\n",
       "0         Abkhazia     NaN     NaN     NaN     NaN     NaN     NaN     NaN   \n",
       "\n",
       "   1870.0  1880.0  ...  2006.0  2007.0  2008.0  2009.0  2010.0  2011.0  \\\n",
       "0     NaN     NaN  ...     NaN     NaN     NaN     NaN     NaN     NaN   \n",
       "\n",
       "   2012.0  2013.0  2014.0  2015.0  \n",
       "0     NaN     NaN     NaN     NaN  \n",
       "\n",
       "[1 rows x 82 columns]"
      ]
     },
     "execution_count": 29,
     "metadata": {},
     "output_type": "execute_result"
    }
   ],
   "source": [
    "pop.head(1)"
   ]
  },
  {
   "cell_type": "code",
   "execution_count": 30,
   "id": "cdafcdf2-73e8-4ac7-a552-2440ecb489be",
   "metadata": {},
   "outputs": [],
   "source": [
    "pop.set_index(\"Total population\", inplace=True)"
   ]
  },
  {
   "cell_type": "code",
   "execution_count": 31,
   "id": "1a98d2a5-485a-4815-8c8e-77695c4eacda",
   "metadata": {},
   "outputs": [
    {
     "data": {
      "text/html": [
       "<div>\n",
       "<style scoped>\n",
       "    .dataframe tbody tr th:only-of-type {\n",
       "        vertical-align: middle;\n",
       "    }\n",
       "\n",
       "    .dataframe tbody tr th {\n",
       "        vertical-align: top;\n",
       "    }\n",
       "\n",
       "    .dataframe thead th {\n",
       "        text-align: right;\n",
       "    }\n",
       "</style>\n",
       "<table border=\"1\" class=\"dataframe\">\n",
       "  <thead>\n",
       "    <tr style=\"text-align: right;\">\n",
       "      <th></th>\n",
       "      <th>1800.0</th>\n",
       "      <th>1810.0</th>\n",
       "      <th>1820.0</th>\n",
       "      <th>1830.0</th>\n",
       "      <th>1840.0</th>\n",
       "      <th>1850.0</th>\n",
       "      <th>1860.0</th>\n",
       "      <th>1870.0</th>\n",
       "      <th>1880.0</th>\n",
       "      <th>1890.0</th>\n",
       "      <th>...</th>\n",
       "      <th>2006.0</th>\n",
       "      <th>2007.0</th>\n",
       "      <th>2008.0</th>\n",
       "      <th>2009.0</th>\n",
       "      <th>2010.0</th>\n",
       "      <th>2011.0</th>\n",
       "      <th>2012.0</th>\n",
       "      <th>2013.0</th>\n",
       "      <th>2014.0</th>\n",
       "      <th>2015.0</th>\n",
       "    </tr>\n",
       "    <tr>\n",
       "      <th>Total population</th>\n",
       "      <th></th>\n",
       "      <th></th>\n",
       "      <th></th>\n",
       "      <th></th>\n",
       "      <th></th>\n",
       "      <th></th>\n",
       "      <th></th>\n",
       "      <th></th>\n",
       "      <th></th>\n",
       "      <th></th>\n",
       "      <th></th>\n",
       "      <th></th>\n",
       "      <th></th>\n",
       "      <th></th>\n",
       "      <th></th>\n",
       "      <th></th>\n",
       "      <th></th>\n",
       "      <th></th>\n",
       "      <th></th>\n",
       "      <th></th>\n",
       "      <th></th>\n",
       "    </tr>\n",
       "  </thead>\n",
       "  <tbody>\n",
       "    <tr>\n",
       "      <th>Abkhazia</th>\n",
       "      <td>NaN</td>\n",
       "      <td>NaN</td>\n",
       "      <td>NaN</td>\n",
       "      <td>NaN</td>\n",
       "      <td>NaN</td>\n",
       "      <td>NaN</td>\n",
       "      <td>NaN</td>\n",
       "      <td>NaN</td>\n",
       "      <td>NaN</td>\n",
       "      <td>NaN</td>\n",
       "      <td>...</td>\n",
       "      <td>NaN</td>\n",
       "      <td>NaN</td>\n",
       "      <td>NaN</td>\n",
       "      <td>NaN</td>\n",
       "      <td>NaN</td>\n",
       "      <td>NaN</td>\n",
       "      <td>NaN</td>\n",
       "      <td>NaN</td>\n",
       "      <td>NaN</td>\n",
       "      <td>NaN</td>\n",
       "    </tr>\n",
       "  </tbody>\n",
       "</table>\n",
       "<p>1 rows × 81 columns</p>\n",
       "</div>"
      ],
      "text/plain": [
       "                  1800.0  1810.0  1820.0  1830.0  1840.0  1850.0  1860.0  \\\n",
       "Total population                                                           \n",
       "Abkhazia             NaN     NaN     NaN     NaN     NaN     NaN     NaN   \n",
       "\n",
       "                  1870.0  1880.0  1890.0  ...  2006.0  2007.0  2008.0  2009.0  \\\n",
       "Total population                          ...                                   \n",
       "Abkhazia             NaN     NaN     NaN  ...     NaN     NaN     NaN     NaN   \n",
       "\n",
       "                  2010.0  2011.0  2012.0  2013.0  2014.0  2015.0  \n",
       "Total population                                                  \n",
       "Abkhazia             NaN     NaN     NaN     NaN     NaN     NaN  \n",
       "\n",
       "[1 rows x 81 columns]"
      ]
     },
     "execution_count": 31,
     "metadata": {},
     "output_type": "execute_result"
    }
   ],
   "source": [
    "pop.head(1)"
   ]
  },
  {
   "cell_type": "code",
   "execution_count": 32,
   "id": "e73a965f-270c-4185-800c-c540981ef1ea",
   "metadata": {},
   "outputs": [],
   "source": [
    "pop.index.name = \"Country\"\n",
    "pop = pop.reset_index()"
   ]
  },
  {
   "cell_type": "code",
   "execution_count": 33,
   "id": "deab5c45-1c78-4e32-8eb5-30e142b443b0",
   "metadata": {},
   "outputs": [],
   "source": [
    "pop_long = pop.melt(id_vars=\"Country\", var_name=\"Year\",value_name=\"Population\")"
   ]
  },
  {
   "cell_type": "code",
   "execution_count": 34,
   "id": "5e855702-4eed-4ead-9fcf-35bc6d3f96bd",
   "metadata": {},
   "outputs": [
    {
     "data": {
      "text/html": [
       "<div>\n",
       "<style scoped>\n",
       "    .dataframe tbody tr th:only-of-type {\n",
       "        vertical-align: middle;\n",
       "    }\n",
       "\n",
       "    .dataframe tbody tr th {\n",
       "        vertical-align: top;\n",
       "    }\n",
       "\n",
       "    .dataframe thead th {\n",
       "        text-align: right;\n",
       "    }\n",
       "</style>\n",
       "<table border=\"1\" class=\"dataframe\">\n",
       "  <thead>\n",
       "    <tr style=\"text-align: right;\">\n",
       "      <th></th>\n",
       "      <th>Country</th>\n",
       "      <th>Year</th>\n",
       "      <th>Population</th>\n",
       "    </tr>\n",
       "  </thead>\n",
       "  <tbody>\n",
       "    <tr>\n",
       "      <th>0</th>\n",
       "      <td>Abkhazia</td>\n",
       "      <td>1800.0</td>\n",
       "      <td>NaN</td>\n",
       "    </tr>\n",
       "    <tr>\n",
       "      <th>1</th>\n",
       "      <td>Afghanistan</td>\n",
       "      <td>1800.0</td>\n",
       "      <td>3280000.0</td>\n",
       "    </tr>\n",
       "    <tr>\n",
       "      <th>2</th>\n",
       "      <td>Akrotiri and Dhekelia</td>\n",
       "      <td>1800.0</td>\n",
       "      <td>NaN</td>\n",
       "    </tr>\n",
       "    <tr>\n",
       "      <th>3</th>\n",
       "      <td>Albania</td>\n",
       "      <td>1800.0</td>\n",
       "      <td>410445.0</td>\n",
       "    </tr>\n",
       "    <tr>\n",
       "      <th>4</th>\n",
       "      <td>Algeria</td>\n",
       "      <td>1800.0</td>\n",
       "      <td>2503218.0</td>\n",
       "    </tr>\n",
       "    <tr>\n",
       "      <th>...</th>\n",
       "      <td>...</td>\n",
       "      <td>...</td>\n",
       "      <td>...</td>\n",
       "    </tr>\n",
       "    <tr>\n",
       "      <th>21055</th>\n",
       "      <td>Yugoslavia</td>\n",
       "      <td>2015.0</td>\n",
       "      <td>NaN</td>\n",
       "    </tr>\n",
       "    <tr>\n",
       "      <th>21056</th>\n",
       "      <td>Zambia</td>\n",
       "      <td>2015.0</td>\n",
       "      <td>16211767.0</td>\n",
       "    </tr>\n",
       "    <tr>\n",
       "      <th>21057</th>\n",
       "      <td>Zimbabwe</td>\n",
       "      <td>2015.0</td>\n",
       "      <td>15602751.0</td>\n",
       "    </tr>\n",
       "    <tr>\n",
       "      <th>21058</th>\n",
       "      <td>Åland</td>\n",
       "      <td>2015.0</td>\n",
       "      <td>NaN</td>\n",
       "    </tr>\n",
       "    <tr>\n",
       "      <th>21059</th>\n",
       "      <td>South Sudan</td>\n",
       "      <td>2015.0</td>\n",
       "      <td>12339812.0</td>\n",
       "    </tr>\n",
       "  </tbody>\n",
       "</table>\n",
       "<p>21060 rows × 3 columns</p>\n",
       "</div>"
      ],
      "text/plain": [
       "                     Country    Year  Population\n",
       "0                   Abkhazia  1800.0         NaN\n",
       "1                Afghanistan  1800.0   3280000.0\n",
       "2      Akrotiri and Dhekelia  1800.0         NaN\n",
       "3                    Albania  1800.0    410445.0\n",
       "4                    Algeria  1800.0   2503218.0\n",
       "...                      ...     ...         ...\n",
       "21055             Yugoslavia  2015.0         NaN\n",
       "21056                 Zambia  2015.0  16211767.0\n",
       "21057               Zimbabwe  2015.0  15602751.0\n",
       "21058                  Åland  2015.0         NaN\n",
       "21059            South Sudan  2015.0  12339812.0\n",
       "\n",
       "[21060 rows x 3 columns]"
      ]
     },
     "execution_count": 34,
     "metadata": {},
     "output_type": "execute_result"
    }
   ],
   "source": [
    "pop_long"
   ]
  },
  {
   "cell_type": "markdown",
   "id": "6f90bc15-0054-4697-a8da-43cc0ef03473",
   "metadata": {
    "tags": []
   },
   "source": [
    "### Gluing the Dataframes together"
   ]
  },
  {
   "cell_type": "code",
   "execution_count": 35,
   "id": "a6e97e22-7b33-4260-aecf-f31b7a8c5930",
   "metadata": {},
   "outputs": [
    {
     "data": {
      "text/html": [
       "<div>\n",
       "<style scoped>\n",
       "    .dataframe tbody tr th:only-of-type {\n",
       "        vertical-align: middle;\n",
       "    }\n",
       "\n",
       "    .dataframe tbody tr th {\n",
       "        vertical-align: top;\n",
       "    }\n",
       "\n",
       "    .dataframe thead th {\n",
       "        text-align: right;\n",
       "    }\n",
       "</style>\n",
       "<table border=\"1\" class=\"dataframe\">\n",
       "  <thead>\n",
       "    <tr style=\"text-align: right;\">\n",
       "      <th></th>\n",
       "      <th>Country</th>\n",
       "      <th>Year</th>\n",
       "      <th>Life Expectancy</th>\n",
       "    </tr>\n",
       "  </thead>\n",
       "  <tbody>\n",
       "    <tr>\n",
       "      <th>0</th>\n",
       "      <td>Abkhazia</td>\n",
       "      <td>1800.0</td>\n",
       "      <td>NaN</td>\n",
       "    </tr>\n",
       "    <tr>\n",
       "      <th>1</th>\n",
       "      <td>Afghanistan</td>\n",
       "      <td>1800.0</td>\n",
       "      <td>28.21</td>\n",
       "    </tr>\n",
       "    <tr>\n",
       "      <th>2</th>\n",
       "      <td>Akrotiri and Dhekelia</td>\n",
       "      <td>1800.0</td>\n",
       "      <td>NaN</td>\n",
       "    </tr>\n",
       "    <tr>\n",
       "      <th>3</th>\n",
       "      <td>Albania</td>\n",
       "      <td>1800.0</td>\n",
       "      <td>35.40</td>\n",
       "    </tr>\n",
       "    <tr>\n",
       "      <th>4</th>\n",
       "      <td>Algeria</td>\n",
       "      <td>1800.0</td>\n",
       "      <td>28.82</td>\n",
       "    </tr>\n",
       "  </tbody>\n",
       "</table>\n",
       "</div>"
      ],
      "text/plain": [
       "                 Country    Year  Life Expectancy\n",
       "0               Abkhazia  1800.0              NaN\n",
       "1            Afghanistan  1800.0            28.21\n",
       "2  Akrotiri and Dhekelia  1800.0              NaN\n",
       "3                Albania  1800.0            35.40\n",
       "4                Algeria  1800.0            28.82"
      ]
     },
     "execution_count": 35,
     "metadata": {},
     "output_type": "execute_result"
    }
   ],
   "source": [
    "life_long.head()"
   ]
  },
  {
   "cell_type": "code",
   "execution_count": 36,
   "id": "277f12fb-40e1-417a-8ad6-daa5e090bc13",
   "metadata": {},
   "outputs": [
    {
     "data": {
      "text/plain": [
       "(56420, 3)"
      ]
     },
     "execution_count": 36,
     "metadata": {},
     "output_type": "execute_result"
    }
   ],
   "source": [
    "life_long.shape"
   ]
  },
  {
   "cell_type": "code",
   "execution_count": 37,
   "id": "c9f79309-2376-4887-8d5f-896f5a0d9e07",
   "metadata": {},
   "outputs": [
    {
     "data": {
      "text/html": [
       "<div>\n",
       "<style scoped>\n",
       "    .dataframe tbody tr th:only-of-type {\n",
       "        vertical-align: middle;\n",
       "    }\n",
       "\n",
       "    .dataframe tbody tr th {\n",
       "        vertical-align: top;\n",
       "    }\n",
       "\n",
       "    .dataframe thead th {\n",
       "        text-align: right;\n",
       "    }\n",
       "</style>\n",
       "<table border=\"1\" class=\"dataframe\">\n",
       "  <thead>\n",
       "    <tr style=\"text-align: right;\">\n",
       "      <th></th>\n",
       "      <th>Country</th>\n",
       "      <th>Year</th>\n",
       "      <th>Fertility_Rate</th>\n",
       "    </tr>\n",
       "  </thead>\n",
       "  <tbody>\n",
       "    <tr>\n",
       "      <th>0</th>\n",
       "      <td>Abkhazia</td>\n",
       "      <td>1800</td>\n",
       "      <td>NaN</td>\n",
       "    </tr>\n",
       "    <tr>\n",
       "      <th>1</th>\n",
       "      <td>Afghanistan</td>\n",
       "      <td>1800</td>\n",
       "      <td>7.00</td>\n",
       "    </tr>\n",
       "    <tr>\n",
       "      <th>2</th>\n",
       "      <td>Akrotiri and Dhekelia</td>\n",
       "      <td>1800</td>\n",
       "      <td>NaN</td>\n",
       "    </tr>\n",
       "    <tr>\n",
       "      <th>3</th>\n",
       "      <td>Albania</td>\n",
       "      <td>1800</td>\n",
       "      <td>4.60</td>\n",
       "    </tr>\n",
       "    <tr>\n",
       "      <th>4</th>\n",
       "      <td>Algeria</td>\n",
       "      <td>1800</td>\n",
       "      <td>6.99</td>\n",
       "    </tr>\n",
       "  </tbody>\n",
       "</table>\n",
       "</div>"
      ],
      "text/plain": [
       "                 Country  Year  Fertility_Rate\n",
       "0               Abkhazia  1800             NaN\n",
       "1            Afghanistan  1800            7.00\n",
       "2  Akrotiri and Dhekelia  1800             NaN\n",
       "3                Albania  1800            4.60\n",
       "4                Algeria  1800            6.99"
      ]
     },
     "execution_count": 37,
     "metadata": {},
     "output_type": "execute_result"
    }
   ],
   "source": [
    "fert_long.head()"
   ]
  },
  {
   "cell_type": "code",
   "execution_count": 38,
   "id": "4367874a-4cfd-422f-b727-06d3434dcbf7",
   "metadata": {},
   "outputs": [
    {
     "data": {
      "text/plain": [
       "(56160, 3)"
      ]
     },
     "execution_count": 38,
     "metadata": {},
     "output_type": "execute_result"
    }
   ],
   "source": [
    "fert_long.shape"
   ]
  },
  {
   "cell_type": "code",
   "execution_count": 39,
   "id": "0b4d4cc3-7922-47ce-abc8-5f54da067382",
   "metadata": {},
   "outputs": [
    {
     "data": {
      "text/html": [
       "<div>\n",
       "<style scoped>\n",
       "    .dataframe tbody tr th:only-of-type {\n",
       "        vertical-align: middle;\n",
       "    }\n",
       "\n",
       "    .dataframe tbody tr th {\n",
       "        vertical-align: top;\n",
       "    }\n",
       "\n",
       "    .dataframe thead th {\n",
       "        text-align: right;\n",
       "    }\n",
       "</style>\n",
       "<table border=\"1\" class=\"dataframe\">\n",
       "  <thead>\n",
       "    <tr style=\"text-align: right;\">\n",
       "      <th></th>\n",
       "      <th>Country</th>\n",
       "      <th>Year</th>\n",
       "      <th>Population</th>\n",
       "    </tr>\n",
       "  </thead>\n",
       "  <tbody>\n",
       "    <tr>\n",
       "      <th>0</th>\n",
       "      <td>Abkhazia</td>\n",
       "      <td>1800.0</td>\n",
       "      <td>NaN</td>\n",
       "    </tr>\n",
       "    <tr>\n",
       "      <th>1</th>\n",
       "      <td>Afghanistan</td>\n",
       "      <td>1800.0</td>\n",
       "      <td>3280000.0</td>\n",
       "    </tr>\n",
       "    <tr>\n",
       "      <th>2</th>\n",
       "      <td>Akrotiri and Dhekelia</td>\n",
       "      <td>1800.0</td>\n",
       "      <td>NaN</td>\n",
       "    </tr>\n",
       "    <tr>\n",
       "      <th>3</th>\n",
       "      <td>Albania</td>\n",
       "      <td>1800.0</td>\n",
       "      <td>410445.0</td>\n",
       "    </tr>\n",
       "    <tr>\n",
       "      <th>4</th>\n",
       "      <td>Algeria</td>\n",
       "      <td>1800.0</td>\n",
       "      <td>2503218.0</td>\n",
       "    </tr>\n",
       "  </tbody>\n",
       "</table>\n",
       "</div>"
      ],
      "text/plain": [
       "                 Country    Year  Population\n",
       "0               Abkhazia  1800.0         NaN\n",
       "1            Afghanistan  1800.0   3280000.0\n",
       "2  Akrotiri and Dhekelia  1800.0         NaN\n",
       "3                Albania  1800.0    410445.0\n",
       "4                Algeria  1800.0   2503218.0"
      ]
     },
     "execution_count": 39,
     "metadata": {},
     "output_type": "execute_result"
    }
   ],
   "source": [
    "pop_long.head()"
   ]
  },
  {
   "cell_type": "code",
   "execution_count": 40,
   "id": "14c0d14d-4159-42fe-8826-c62c65a3ad87",
   "metadata": {},
   "outputs": [
    {
     "data": {
      "text/plain": [
       "(21060, 3)"
      ]
     },
     "execution_count": 40,
     "metadata": {},
     "output_type": "execute_result"
    }
   ],
   "source": [
    "pop_long.shape"
   ]
  },
  {
   "cell_type": "code",
   "execution_count": 41,
   "id": "9792d37c-b780-49bb-96fc-f1303b3acdbd",
   "metadata": {},
   "outputs": [
    {
     "data": {
      "text/html": [
       "<div>\n",
       "<style scoped>\n",
       "    .dataframe tbody tr th:only-of-type {\n",
       "        vertical-align: middle;\n",
       "    }\n",
       "\n",
       "    .dataframe tbody tr th {\n",
       "        vertical-align: top;\n",
       "    }\n",
       "\n",
       "    .dataframe thead th {\n",
       "        text-align: right;\n",
       "    }\n",
       "</style>\n",
       "<table border=\"1\" class=\"dataframe\">\n",
       "  <thead>\n",
       "    <tr style=\"text-align: right;\">\n",
       "      <th></th>\n",
       "      <th>Country</th>\n",
       "      <th>Year</th>\n",
       "      <th>Population</th>\n",
       "    </tr>\n",
       "  </thead>\n",
       "  <tbody>\n",
       "    <tr>\n",
       "      <th>0</th>\n",
       "      <td>Abkhazia</td>\n",
       "      <td>1800.0</td>\n",
       "      <td>NaN</td>\n",
       "    </tr>\n",
       "    <tr>\n",
       "      <th>1</th>\n",
       "      <td>Afghanistan</td>\n",
       "      <td>1800.0</td>\n",
       "      <td>3280000.0</td>\n",
       "    </tr>\n",
       "    <tr>\n",
       "      <th>2</th>\n",
       "      <td>Akrotiri and Dhekelia</td>\n",
       "      <td>1800.0</td>\n",
       "      <td>NaN</td>\n",
       "    </tr>\n",
       "    <tr>\n",
       "      <th>3</th>\n",
       "      <td>Albania</td>\n",
       "      <td>1800.0</td>\n",
       "      <td>410445.0</td>\n",
       "    </tr>\n",
       "    <tr>\n",
       "      <th>4</th>\n",
       "      <td>Algeria</td>\n",
       "      <td>1800.0</td>\n",
       "      <td>2503218.0</td>\n",
       "    </tr>\n",
       "  </tbody>\n",
       "</table>\n",
       "</div>"
      ],
      "text/plain": [
       "                 Country    Year  Population\n",
       "0               Abkhazia  1800.0         NaN\n",
       "1            Afghanistan  1800.0   3280000.0\n",
       "2  Akrotiri and Dhekelia  1800.0         NaN\n",
       "3                Albania  1800.0    410445.0\n",
       "4                Algeria  1800.0   2503218.0"
      ]
     },
     "execution_count": 41,
     "metadata": {},
     "output_type": "execute_result"
    }
   ],
   "source": [
    "pop_long.head()"
   ]
  },
  {
   "cell_type": "code",
   "execution_count": 42,
   "id": "8944cdfa-c1da-4915-83b1-406310651136",
   "metadata": {},
   "outputs": [],
   "source": [
    "df_merged = fert_long.merge(pop_long,how=\"inner\")"
   ]
  },
  {
   "cell_type": "code",
   "execution_count": 43,
   "id": "b3301ffe-28bd-4de9-8d65-91fa1aadf6db",
   "metadata": {},
   "outputs": [],
   "source": [
    "df_data = df_merged.merge(life_long,how=\"inner\")"
   ]
  },
  {
   "cell_type": "code",
   "execution_count": 44,
   "id": "d21ea880-d60e-4066-bdaf-3f29ed5be029",
   "metadata": {},
   "outputs": [
    {
     "data": {
      "text/html": [
       "<div>\n",
       "<style scoped>\n",
       "    .dataframe tbody tr th:only-of-type {\n",
       "        vertical-align: middle;\n",
       "    }\n",
       "\n",
       "    .dataframe tbody tr th {\n",
       "        vertical-align: top;\n",
       "    }\n",
       "\n",
       "    .dataframe thead th {\n",
       "        text-align: right;\n",
       "    }\n",
       "</style>\n",
       "<table border=\"1\" class=\"dataframe\">\n",
       "  <thead>\n",
       "    <tr style=\"text-align: right;\">\n",
       "      <th></th>\n",
       "      <th>Country</th>\n",
       "      <th>Year</th>\n",
       "      <th>Fertility_Rate</th>\n",
       "      <th>Population</th>\n",
       "      <th>Life Expectancy</th>\n",
       "    </tr>\n",
       "  </thead>\n",
       "  <tbody>\n",
       "    <tr>\n",
       "      <th>0</th>\n",
       "      <td>Abkhazia</td>\n",
       "      <td>1800</td>\n",
       "      <td>NaN</td>\n",
       "      <td>NaN</td>\n",
       "      <td>NaN</td>\n",
       "    </tr>\n",
       "    <tr>\n",
       "      <th>1</th>\n",
       "      <td>Afghanistan</td>\n",
       "      <td>1800</td>\n",
       "      <td>7.00</td>\n",
       "      <td>3280000.0</td>\n",
       "      <td>28.21</td>\n",
       "    </tr>\n",
       "    <tr>\n",
       "      <th>2</th>\n",
       "      <td>Akrotiri and Dhekelia</td>\n",
       "      <td>1800</td>\n",
       "      <td>NaN</td>\n",
       "      <td>NaN</td>\n",
       "      <td>NaN</td>\n",
       "    </tr>\n",
       "    <tr>\n",
       "      <th>3</th>\n",
       "      <td>Albania</td>\n",
       "      <td>1800</td>\n",
       "      <td>4.60</td>\n",
       "      <td>410445.0</td>\n",
       "      <td>35.40</td>\n",
       "    </tr>\n",
       "    <tr>\n",
       "      <th>4</th>\n",
       "      <td>Algeria</td>\n",
       "      <td>1800</td>\n",
       "      <td>6.99</td>\n",
       "      <td>2503218.0</td>\n",
       "      <td>28.82</td>\n",
       "    </tr>\n",
       "    <tr>\n",
       "      <th>...</th>\n",
       "      <td>...</td>\n",
       "      <td>...</td>\n",
       "      <td>...</td>\n",
       "      <td>...</td>\n",
       "      <td>...</td>\n",
       "    </tr>\n",
       "    <tr>\n",
       "      <th>20974</th>\n",
       "      <td>Yugoslavia</td>\n",
       "      <td>2015</td>\n",
       "      <td>NaN</td>\n",
       "      <td>NaN</td>\n",
       "      <td>NaN</td>\n",
       "    </tr>\n",
       "    <tr>\n",
       "      <th>20975</th>\n",
       "      <td>Zambia</td>\n",
       "      <td>2015</td>\n",
       "      <td>5.59</td>\n",
       "      <td>16211767.0</td>\n",
       "      <td>56.70</td>\n",
       "    </tr>\n",
       "    <tr>\n",
       "      <th>20976</th>\n",
       "      <td>Zimbabwe</td>\n",
       "      <td>2015</td>\n",
       "      <td>3.35</td>\n",
       "      <td>15602751.0</td>\n",
       "      <td>59.30</td>\n",
       "    </tr>\n",
       "    <tr>\n",
       "      <th>20977</th>\n",
       "      <td>Åland</td>\n",
       "      <td>2015</td>\n",
       "      <td>NaN</td>\n",
       "      <td>NaN</td>\n",
       "      <td>NaN</td>\n",
       "    </tr>\n",
       "    <tr>\n",
       "      <th>20978</th>\n",
       "      <td>Åland</td>\n",
       "      <td>2015</td>\n",
       "      <td>NaN</td>\n",
       "      <td>NaN</td>\n",
       "      <td>NaN</td>\n",
       "    </tr>\n",
       "  </tbody>\n",
       "</table>\n",
       "<p>20979 rows × 5 columns</p>\n",
       "</div>"
      ],
      "text/plain": [
       "                     Country  Year  Fertility_Rate  Population  \\\n",
       "0                   Abkhazia  1800             NaN         NaN   \n",
       "1                Afghanistan  1800            7.00   3280000.0   \n",
       "2      Akrotiri and Dhekelia  1800             NaN         NaN   \n",
       "3                    Albania  1800            4.60    410445.0   \n",
       "4                    Algeria  1800            6.99   2503218.0   \n",
       "...                      ...   ...             ...         ...   \n",
       "20974             Yugoslavia  2015             NaN         NaN   \n",
       "20975                 Zambia  2015            5.59  16211767.0   \n",
       "20976               Zimbabwe  2015            3.35  15602751.0   \n",
       "20977                  Åland  2015             NaN         NaN   \n",
       "20978                  Åland  2015             NaN         NaN   \n",
       "\n",
       "       Life Expectancy  \n",
       "0                  NaN  \n",
       "1                28.21  \n",
       "2                  NaN  \n",
       "3                35.40  \n",
       "4                28.82  \n",
       "...                ...  \n",
       "20974              NaN  \n",
       "20975            56.70  \n",
       "20976            59.30  \n",
       "20977              NaN  \n",
       "20978              NaN  \n",
       "\n",
       "[20979 rows x 5 columns]"
      ]
     },
     "execution_count": 44,
     "metadata": {},
     "output_type": "execute_result"
    }
   ],
   "source": [
    "df_data"
   ]
  },
  {
   "cell_type": "code",
   "execution_count": 45,
   "id": "2ec30d9f-2f13-4c42-9b1c-b8d58d1e7a39",
   "metadata": {},
   "outputs": [
    {
     "data": {
      "text/html": [
       "<div>\n",
       "<style scoped>\n",
       "    .dataframe tbody tr th:only-of-type {\n",
       "        vertical-align: middle;\n",
       "    }\n",
       "\n",
       "    .dataframe tbody tr th {\n",
       "        vertical-align: top;\n",
       "    }\n",
       "\n",
       "    .dataframe thead th {\n",
       "        text-align: right;\n",
       "    }\n",
       "</style>\n",
       "<table border=\"1\" class=\"dataframe\">\n",
       "  <thead>\n",
       "    <tr style=\"text-align: right;\">\n",
       "      <th></th>\n",
       "      <th>continent</th>\n",
       "      <th>country</th>\n",
       "    </tr>\n",
       "  </thead>\n",
       "  <tbody>\n",
       "    <tr>\n",
       "      <th>0</th>\n",
       "      <td>Africa</td>\n",
       "      <td>Algeria</td>\n",
       "    </tr>\n",
       "  </tbody>\n",
       "</table>\n",
       "</div>"
      ],
      "text/plain": [
       "  continent  country\n",
       "0    Africa  Algeria"
      ]
     },
     "execution_count": 45,
     "metadata": {},
     "output_type": "execute_result"
    }
   ],
   "source": [
    "#Create new column for the corresponding continents and clean the data \n",
    "df_continents = pd.read_csv(\"../Data/continents.csv\",sep=\";\")\n",
    "df_continents.head(1)"
   ]
  },
  {
   "cell_type": "code",
   "execution_count": 46,
   "id": "7c85a251-19aa-477f-acae-c8bf08b61fb9",
   "metadata": {},
   "outputs": [],
   "source": [
    "dict_cont = dict(zip(df_continents.country, df_continents.continent))"
   ]
  },
  {
   "cell_type": "code",
   "execution_count": 47,
   "id": "7e6e454e-bd87-4717-b8d2-1f312d54fc88",
   "metadata": {},
   "outputs": [],
   "source": [
    "list_countries_data = df_data.Country.to_list()"
   ]
  },
  {
   "cell_type": "code",
   "execution_count": 48,
   "id": "e08972cf-a0c5-41ab-b376-12dac8aea1b2",
   "metadata": {},
   "outputs": [],
   "source": [
    "lst=[]\n",
    "for country in list_countries_data: \n",
    "    if country in dict_cont:\n",
    "        lst.append(dict_cont[country])\n",
    "    else:\n",
    "        lst.append(\"NaN\")"
   ]
  },
  {
   "cell_type": "code",
   "execution_count": 49,
   "id": "9071489f-2b1b-41ff-958f-a9ed35114e58",
   "metadata": {},
   "outputs": [],
   "source": [
    "df_data[\"Continent\"]=lst"
   ]
  },
  {
   "cell_type": "code",
   "execution_count": 60,
   "id": "9f314160-7bf0-408e-b18a-27fa9663f465",
   "metadata": {},
   "outputs": [
    {
     "data": {
      "text/html": [
       "<div>\n",
       "<style scoped>\n",
       "    .dataframe tbody tr th:only-of-type {\n",
       "        vertical-align: middle;\n",
       "    }\n",
       "\n",
       "    .dataframe tbody tr th {\n",
       "        vertical-align: top;\n",
       "    }\n",
       "\n",
       "    .dataframe thead th {\n",
       "        text-align: right;\n",
       "    }\n",
       "</style>\n",
       "<table border=\"1\" class=\"dataframe\">\n",
       "  <thead>\n",
       "    <tr style=\"text-align: right;\">\n",
       "      <th></th>\n",
       "      <th>Country</th>\n",
       "      <th>Year</th>\n",
       "      <th>Fertility_Rate</th>\n",
       "      <th>Population</th>\n",
       "      <th>Life Expectancy</th>\n",
       "      <th>Continent</th>\n",
       "    </tr>\n",
       "  </thead>\n",
       "  <tbody>\n",
       "    <tr>\n",
       "      <th>0</th>\n",
       "      <td>Abkhazia</td>\n",
       "      <td>1800</td>\n",
       "      <td>NaN</td>\n",
       "      <td>NaN</td>\n",
       "      <td>NaN</td>\n",
       "      <td>NaN</td>\n",
       "    </tr>\n",
       "    <tr>\n",
       "      <th>1</th>\n",
       "      <td>Afghanistan</td>\n",
       "      <td>1800</td>\n",
       "      <td>7.00</td>\n",
       "      <td>3280000.0</td>\n",
       "      <td>28.21</td>\n",
       "      <td>Asia</td>\n",
       "    </tr>\n",
       "    <tr>\n",
       "      <th>2</th>\n",
       "      <td>Akrotiri and Dhekelia</td>\n",
       "      <td>1800</td>\n",
       "      <td>NaN</td>\n",
       "      <td>NaN</td>\n",
       "      <td>NaN</td>\n",
       "      <td>NaN</td>\n",
       "    </tr>\n",
       "    <tr>\n",
       "      <th>3</th>\n",
       "      <td>Albania</td>\n",
       "      <td>1800</td>\n",
       "      <td>4.60</td>\n",
       "      <td>410445.0</td>\n",
       "      <td>35.40</td>\n",
       "      <td>Europe</td>\n",
       "    </tr>\n",
       "    <tr>\n",
       "      <th>4</th>\n",
       "      <td>Algeria</td>\n",
       "      <td>1800</td>\n",
       "      <td>6.99</td>\n",
       "      <td>2503218.0</td>\n",
       "      <td>28.82</td>\n",
       "      <td>Africa</td>\n",
       "    </tr>\n",
       "  </tbody>\n",
       "</table>\n",
       "</div>"
      ],
      "text/plain": [
       "                 Country  Year  Fertility_Rate  Population  Life Expectancy  \\\n",
       "0               Abkhazia  1800             NaN         NaN              NaN   \n",
       "1            Afghanistan  1800            7.00   3280000.0            28.21   \n",
       "2  Akrotiri and Dhekelia  1800             NaN         NaN              NaN   \n",
       "3                Albania  1800            4.60    410445.0            35.40   \n",
       "4                Algeria  1800            6.99   2503218.0            28.82   \n",
       "\n",
       "  Continent  \n",
       "0       NaN  \n",
       "1      Asia  \n",
       "2       NaN  \n",
       "3    Europe  \n",
       "4    Africa  "
      ]
     },
     "execution_count": 60,
     "metadata": {},
     "output_type": "execute_result"
    }
   ],
   "source": [
    "df_data.head()"
   ]
  },
  {
   "cell_type": "code",
   "execution_count": 69,
   "id": "858d9820-77df-4a53-b756-84309160c661",
   "metadata": {},
   "outputs": [],
   "source": [
    "#Delete Countries with Nan in Continent from the data)\n",
    "bool_filter = ~(df_data[\"Continent\"]==\"NaN\")\n",
    "df_data = df_data[bool_filter]"
   ]
  },
  {
   "cell_type": "markdown",
   "id": "6895743a-c132-4394-9737-ae336f308a6c",
   "metadata": {
    "tags": []
   },
   "source": [
    "### Selecting columns and plotting them - The first step"
   ]
  },
  {
   "cell_type": "code",
   "execution_count": 70,
   "id": "99dc7f4f-673c-43d5-912e-bd4221cfd348",
   "metadata": {},
   "outputs": [
    {
     "data": {
      "text/plain": [
       "<AxesSubplot:xlabel='Life Expectancy', ylabel='Fertility_Rate'>"
      ]
     },
     "execution_count": 70,
     "metadata": {},
     "output_type": "execute_result"
    },
    {
     "data": {
      "image/png": "[encoded data removed]",
      "text/plain": [
       "<Figure size 432x288 with 1 Axes>"
      ]
     },
     "metadata": {
      "needs_background": "light"
     },
     "output_type": "display_data"
    }
   ],
   "source": [
    "df_subset = df_data.loc[df_data[\"Year\"]==2000]\n",
    "sns.scatterplot(x=\"Life Expectancy\",y=\"Fertility_Rate\",data=df_subset,alpha=0.6)"
   ]
  },
  {
   "cell_type": "markdown",
   "id": "a54e7f0c-b4b2-499c-8baf-7ed23e5d12af",
   "metadata": {
    "tags": []
   },
   "source": [
    "### Create scatterplots for each year between 1960 and 2015 "
   ]
  },
  {
   "cell_type": "code",
   "execution_count": 140,
   "id": "6c8711e3-72d3-4add-bf63-cc174052cc85",
   "metadata": {},
   "outputs": [],
   "source": [
    "scale=75_000# To adjust the size (see s=df_year[\"Population\"])\n",
    "cont_labels = df_data[\"Continent\"].unique()\n",
    "rgb_val = sns.color_palette(\"Set2\",6)\n",
    "color_map = dict(zip(cont_labels,rgb_val))\n",
    "\n",
    "#Manually creating the Legend \n",
    "asia_patch = mpatches.Patch(color=color_map[\"Asia\"], label='Asia')\n",
    "europe_patch = mpatches.Patch(color=color_map[\"Europe\"],label='Europe')\n",
    "africa_patch = mpatches.Patch(color=color_map[\"Africa\"],label='Africa')\n",
    "na_patch = mpatches.Patch(color=color_map[\"North America\"], label='North America')\n",
    "sa_patch = mpatches.Patch(color=color_map[\"South America\"], label='South America')\n",
    "aus_patch = mpatches.Patch(color=color_map[\"Australia and Oceania\"], label='Australia and Oceania')\n",
    "\n",
    "#Countries to highlight \n",
    "countrylist=[\"Germany\",\"China\"]\n",
    "\n",
    "for year in range(1960,2016):\n",
    "    df_year = df_data.loc[df_data[\"Year\"]==year]\n",
    "    plt.figure(figsize=(15,8))\n",
    "    plt.style.use(\"ggplot\")\n",
    "    \n",
    "    plt.scatter(x=df_year[\"Life Expectancy\"],y=df_year[\"Fertility_Rate\"],s=df_year[\"Population\"]/scale,alpha=0.6, c=df_year[\"Continent\"].map(color_map))\n",
    "    \n",
    "    for country in countrylist:\n",
    "        x_cor = float(df_year.loc[df_year[\"Country\"]==country,['Life Expectancy']].values[0])\n",
    "        y_cor = float(df_year.loc[df_year[\"Country\"]==country,['Fertility_Rate']].values[0])\n",
    "        plt.text(s=country,y=y_cor,x=x_cor,fontsize=12,weight=\"bold\")\n",
    "        \n",
    "    plt.xlabel(\"Life Expectancy\",fontsize=20)\n",
    "    plt.ylabel(\"Fertility Rate\",fontsize=20)\n",
    "    plt.axis((0,90,0,10))\n",
    "    \n",
    "    plt.title(f\"The Year is: {year}\",fontsize=30)\n",
    "    plt.legend(handles=[asia_patch,europe_patch,africa_patch,na_patch,sa_patch,aus_patch],bbox_to_anchor=(1.0, 1.0), loc=1, frameon = False)\n",
    "    \n",
    "    plt.savefig(f\"Figures/{year}_figure.png\")\n",
    "    plt.close()\n",
    "    \n",
    "    \n",
    "\n"
   ]
  },
  {
   "cell_type": "markdown",
   "id": "c163dc58-7b30-421d-9a4a-9d74d6b50e2a",
   "metadata": {},
   "source": [
    "### Create the actual gif animation"
   ]
  },
  {
   "cell_type": "code",
   "execution_count": 141,
   "id": "7c8e7b2f-06ac-4c6a-87db-694f15928663",
   "metadata": {},
   "outputs": [
    {
     "name": "stderr",
     "output_type": "stream",
     "text": [
      "/tmp/ipykernel_6883/3411549587.py:4: DeprecationWarning: Starting with ImageIO v3 the behavior of this function will switch to that of iio.v3.imread. To keep the current behavior (and make this warning dissapear) use `import imageio.v2 as imageio` or call `imageio.v2.imread` directly.\n",
      "  images.append(imageio.imread(filename))\n"
     ]
    }
   ],
   "source": [
    "images=[]\n",
    "for year in range(1960, 2016):\n",
    "    filename = f\"Figures/{year}_figure.png\"\n",
    "    images.append(imageio.imread(filename))\n",
    "\n",
    "imageio.mimsave('animated_scatterplot.gif', images, fps=20)\n"
   ]
  },
  {
   "cell_type": "code",
   "execution_count": null,
   "id": "479ba616-60f6-47c1-adea-8660beb66362",
   "metadata": {},
   "outputs": [],
   "source": []
  }
 ],
 "metadata": {
  "kernelspec": {
   "display_name": "Python 3 (ipykernel)",
   "language": "python",
   "name": "python3"
  },
  "language_info": {
   "codemirror_mode": {
    "name": "ipython",
    "version": 3
   },
   "file_extension": ".py",
   "mimetype": "text/x-python",
   "name": "python",
   "nbconvert_exporter": "python",
   "pygments_lexer": "ipython3",
   "version": "3.10.4"
  }
 },
 "nbformat": 4,
 "nbformat_minor": 5
}
